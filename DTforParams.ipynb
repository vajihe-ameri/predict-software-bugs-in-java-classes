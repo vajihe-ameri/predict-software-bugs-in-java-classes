{
  "nbformat": 4,
  "nbformat_minor": 0,
  "metadata": {
    "colab": {
      "name": "Untitled2.ipynb",
      "provenance": [],
      "authorship_tag": "ABX9TyPqDSS2hpxySlYB3eQwk4Pf",
      "include_colab_link": true
    },
    "kernelspec": {
      "name": "python3",
      "display_name": "Python 3"
    },
    "language_info": {
      "name": "python"
    }
  },
  "cells": [
    {
      "cell_type": "markdown",
      "metadata": {
        "id": "view-in-github",
        "colab_type": "text"
      },
      "source": [
        "<a href=\"https://colab.research.google.com/github/vajihe-ameri/predict-software-bugs-in-java-classes/blob/main/DTforParams.ipynb\" target=\"_parent\"><img src=\"https://colab.research.google.com/assets/colab-badge.svg\" alt=\"Open In Colab\"/></a>"
      ]
    },
    {
      "cell_type": "markdown",
      "source": [
        "Install requirements"
      ],
      "metadata": {
        "id": "H8Cz6wdlnY4z"
      }
    },
    {
      "cell_type": "code",
      "source": [
        "!pip install sklearn pandas"
      ],
      "metadata": {
        "colab": {
          "base_uri": "https://localhost:8080/"
        },
        "id": "7moBUzj9nZnR",
        "outputId": "7a8a0cb8-3c56-48d5-8d3d-78b0efd2c3d5"
      },
      "execution_count": 1,
      "outputs": [
        {
          "output_type": "stream",
          "name": "stdout",
          "text": [
            "Requirement already satisfied: sklearn in /usr/local/lib/python3.7/dist-packages (0.0)\n",
            "Requirement already satisfied: pandas in /usr/local/lib/python3.7/dist-packages (1.3.5)\n",
            "Requirement already satisfied: scikit-learn in /usr/local/lib/python3.7/dist-packages (from sklearn) (1.0.2)\n",
            "Requirement already satisfied: numpy>=1.17.3 in /usr/local/lib/python3.7/dist-packages (from pandas) (1.21.5)\n",
            "Requirement already satisfied: pytz>=2017.3 in /usr/local/lib/python3.7/dist-packages (from pandas) (2018.9)\n",
            "Requirement already satisfied: python-dateutil>=2.7.3 in /usr/local/lib/python3.7/dist-packages (from pandas) (2.8.2)\n",
            "Requirement already satisfied: six>=1.5 in /usr/local/lib/python3.7/dist-packages (from python-dateutil>=2.7.3->pandas) (1.15.0)\n",
            "Requirement already satisfied: joblib>=0.11 in /usr/local/lib/python3.7/dist-packages (from scikit-learn->sklearn) (1.1.0)\n",
            "Requirement already satisfied: threadpoolctl>=2.0.0 in /usr/local/lib/python3.7/dist-packages (from scikit-learn->sklearn) (3.1.0)\n",
            "Requirement already satisfied: scipy>=1.1.0 in /usr/local/lib/python3.7/dist-packages (from scikit-learn->sklearn) (1.4.1)\n"
          ]
        }
      ]
    },
    {
      "cell_type": "markdown",
      "source": [
        "Read dataset"
      ],
      "metadata": {
        "id": "_0ENIcE_nbos"
      }
    },
    {
      "cell_type": "code",
      "source": [
        "import pandas as pd\n",
        "from google.colab import drive \n",
        "drive = drive.mount('/content/drive') "
      ],
      "metadata": {
        "colab": {
          "base_uri": "https://localhost:8080/"
        },
        "id": "GUvJN9yenfMB",
        "outputId": "80b923ab-6bb3-4955-91ea-96c96e37d6e5"
      },
      "execution_count": 8,
      "outputs": [
        {
          "output_type": "stream",
          "name": "stdout",
          "text": [
            "Drive already mounted at /content/drive; to attempt to forcibly remount, call drive.mount(\"/content/drive\", force_remount=True).\n"
          ]
        }
      ]
    },
    {
      "cell_type": "markdown",
      "source": [
        "Call Decision Tree from sklearn"
      ],
      "metadata": {
        "id": "VoCc7KGwno_c"
      }
    },
    {
      "cell_type": "code",
      "source": [
        "from sklearn.ensemble import RandomForestClassifier\n",
        "from sklearn.metrics import mean_squared_error, accuracy_score\n",
        "from sklearn.tree import export_graphviz\n",
        "from IPython import display\n",
        "from sklearn import tree\n",
        "\n",
        "import pandas as pd\n",
        "import numpy as np\n",
        "\n",
        "'''Read data from CSV with Pandas'''\n",
        "ignored_cols = ['Hash', 'LongName']\n",
        " \n",
        "\n",
        "\n",
        "\n",
        "file = \"drive/MyDrive/class.csv\"\n",
        "cols = list(pd.read_csv(file, nrows =1).dropna(axis='columns', how='all'))\n",
        "cols.remove('Hash')\n",
        "cols.remove('LongName')\n",
        " \n",
        "n =10\n",
        "\n",
        "col  = [cols[i:i + n] for i in range(0, len(cols), n)]\n",
        "\n",
        "for item in col:\n",
        "  item.append('Number of Bugs') \n",
        "  output = ', '.join(item)\n",
        "  df = pd.read_csv(file,  usecols =item)\n",
        "  normalized_df=(df-df.mean())/df.std()\n",
        "\n",
        "  '''Split into train and test with numpy (0.75 train, 0.25 test)'''\n",
        "  from sklearn.model_selection import train_test_split\n",
        "  train, test = train_test_split(df, test_size=0.2, random_state=23)\n",
        "    \n",
        "  '''First 4 colums are the data to train'''\n",
        "  features = df.columns[:-1]\n",
        "\n",
        "  '''Create decision tree classifier'''    \n",
        "  model = tree.DecisionTreeClassifier()\n",
        "\n",
        "  '''Species names to factor'''\n",
        "  y, bugs = pd.factorize(train['Number of Bugs'])\n",
        "    \n",
        "  '''Train and test'''\n",
        "  model.fit(train[features], y)\n",
        "  preds = bugs.values[model.predict(test[features])]\n",
        "  actual_classes = test.iloc[:,-1:]\n",
        "\n",
        "  score = accuracy_score(actual_classes, preds)\n",
        "  accuracy = \"%.2f\" % round(score*100, 2)\n",
        "\n",
        "  from sklearn.metrics import f1_score\n",
        "  f1 = f1_score(actual_classes, preds, average = 'macro')\n",
        "  f1_score = \"%.2f\"%round(f1, 2)\n",
        "  output+= f\",\\tAcc: {accuracy}\\tF1: {f1_score}\"\n",
        "  # print(f'\\nbreadleaf commerce => Accuracy: {accuracy} ; F1: {f1_score}')\n",
        "  print(output)\n"
      ],
      "metadata": {
        "colab": {
          "base_uri": "https://localhost:8080/"
        },
        "id": "9_KcVobJnv1d",
        "outputId": "0c768743-c538-4f90-dd04-39d67be00b47"
      },
      "execution_count": 28,
      "outputs": [
        {
          "output_type": "stream",
          "name": "stdout",
          "text": [
            "CC, CCL, CCO, CI, CLC, CLLC, LDC, LLDC, LCOM5, NL, Number of Bugs,\tAcc: 54.56\tF1: 0.19\n",
            "NLE, WMC, CBO, CBOI, NII, NOI, RFC, AD, CD, CLOC, Number of Bugs,\tAcc: 49.83\tF1: 0.21\n",
            "DLOC, PDA, PUA, TCD, TCLOC, DIT, NOA, NOC, NOD, NOP, Number of Bugs,\tAcc: 49.83\tF1: 0.20\n",
            "LLOC, LOC, NA, NG, NLA, NLG, NLM, NLPA, NLPM, NLS, Number of Bugs,\tAcc: 48.48\tF1: 0.21\n",
            "NM, NOS, NPA, NPM, NS, TLLOC, TLOC, TNA, TNG, TNLA, Number of Bugs,\tAcc: 48.14\tF1: 0.22\n",
            "TNLG, TNLM, TNLPA, TNLPM, TNLS, TNM, TNOS, TNPA, TNPM, TNS, Number of Bugs,\tAcc: 48.99\tF1: 0.19\n",
            "WarningBlocker, WarningCritical, WarningInfo, WarningMajor, WarningMinor, Android Rules, Basic Rules, Brace Rules, Clone Implementation Rules, Code Size Rules, Number of Bugs,\tAcc: 51.35\tF1: 0.21\n",
            "Comment Rules, Controversial Rules, Coupling Rules, Design Rules, Empty Code Rules, Finalizer Rules, Import Statement Rules, J2EE Rules, JUnit Rules, Jakarta Commons Logging Rules, Number of Bugs,\tAcc: 52.36\tF1: 0.14\n",
            "Java Logging Rules, JavaBean Rules, MigratingToJUnit4 Rules, Migration Rules, Migration13 Rules, Migration14 Rules, Migration15 Rules, Naming Rules, Optimization Rules, Security Code Guideline Rules, Number of Bugs,\tAcc: 51.35\tF1: 0.12\n",
            "Strict Exception Rules, String and StringBuffer Rules, Type Resolution Rules, Unnecessary and Unused Code Rules, Vulnerability Rules, Number of Bugs, Number of Bugs,\tAcc: 53.04\tF1: 0.18\n"
          ]
        }
      ]
    }
  ]
}