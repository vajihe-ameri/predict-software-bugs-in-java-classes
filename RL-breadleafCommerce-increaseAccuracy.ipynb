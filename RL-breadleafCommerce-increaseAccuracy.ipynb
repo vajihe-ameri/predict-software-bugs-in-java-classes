{
  "nbformat": 4,
  "nbformat_minor": 0,
  "metadata": {
    "colab": {
      "name": "Untitled2.ipynb",
      "provenance": [],
      "authorship_tag": "ABX9TyNYOmXfEA3MJtMQsguoUQRb",
      "include_colab_link": true
    },
    "kernelspec": {
      "name": "python3",
      "display_name": "Python 3"
    },
    "language_info": {
      "name": "python"
    }
  },
  "cells": [
    {
      "cell_type": "markdown",
      "metadata": {
        "id": "view-in-github",
        "colab_type": "text"
      },
      "source": [
        "<a href=\"https://colab.research.google.com/github/vajihe-ameri/predict-software-bugs-in-java-classes/blob/main/RL-breadleafCommerce-increaseAccuracy.ipynb\" target=\"_parent\"><img src=\"https://colab.research.google.com/assets/colab-badge.svg\" alt=\"Open In Colab\"/></a>"
      ]
    },
    {
      "cell_type": "markdown",
      "source": [
        "Install requirements"
      ],
      "metadata": {
        "id": "H8Cz6wdlnY4z"
      }
    },
    {
      "cell_type": "code",
      "source": [
        "!pip install sklearn pandas"
      ],
      "metadata": {
        "colab": {
          "base_uri": "https://localhost:8080/"
        },
        "id": "7moBUzj9nZnR",
        "outputId": "9e85e17b-d2aa-43d5-ce7f-8105b07d0273"
      },
      "execution_count": 1,
      "outputs": [
        {
          "output_type": "stream",
          "name": "stdout",
          "text": [
            "Looking in indexes: https://pypi.org/simple, https://us-python.pkg.dev/colab-wheels/public/simple/\n",
            "Requirement already satisfied: sklearn in /usr/local/lib/python3.7/dist-packages (0.0)\n",
            "Requirement already satisfied: pandas in /usr/local/lib/python3.7/dist-packages (1.3.5)\n",
            "Requirement already satisfied: scikit-learn in /usr/local/lib/python3.7/dist-packages (from sklearn) (1.0.2)\n",
            "Requirement already satisfied: python-dateutil>=2.7.3 in /usr/local/lib/python3.7/dist-packages (from pandas) (2.8.2)\n",
            "Requirement already satisfied: numpy>=1.17.3 in /usr/local/lib/python3.7/dist-packages (from pandas) (1.21.6)\n",
            "Requirement already satisfied: pytz>=2017.3 in /usr/local/lib/python3.7/dist-packages (from pandas) (2022.1)\n",
            "Requirement already satisfied: six>=1.5 in /usr/local/lib/python3.7/dist-packages (from python-dateutil>=2.7.3->pandas) (1.15.0)\n",
            "Requirement already satisfied: joblib>=0.11 in /usr/local/lib/python3.7/dist-packages (from scikit-learn->sklearn) (1.1.0)\n",
            "Requirement already satisfied: scipy>=1.1.0 in /usr/local/lib/python3.7/dist-packages (from scikit-learn->sklearn) (1.4.1)\n",
            "Requirement already satisfied: threadpoolctl>=2.0.0 in /usr/local/lib/python3.7/dist-packages (from scikit-learn->sklearn) (3.1.0)\n"
          ]
        }
      ]
    },
    {
      "cell_type": "markdown",
      "source": [
        "Read dataset"
      ],
      "metadata": {
        "id": "_0ENIcE_nbos"
      }
    },
    {
      "cell_type": "code",
      "source": [
        "import pandas as pd\n",
        "from google.colab import drive \n",
        "drive = drive.mount('/content/drive') "
      ],
      "metadata": {
        "colab": {
          "base_uri": "https://localhost:8080/"
        },
        "id": "GUvJN9yenfMB",
        "outputId": "050152a2-753a-4278-8f39-cc1e57a86760"
      },
      "execution_count": 2,
      "outputs": [
        {
          "output_type": "stream",
          "name": "stdout",
          "text": [
            "Mounted at /content/drive\n"
          ]
        }
      ]
    },
    {
      "cell_type": "markdown",
      "source": [
        "Call Decision Tree from sklearn"
      ],
      "metadata": {
        "id": "VoCc7KGwno_c"
      }
    },
    {
      "cell_type": "code",
      "source": [
        "from sklearn.ensemble import RandomForestClassifier\n",
        "from sklearn.metrics import mean_squared_error, accuracy_score\n",
        "from sklearn.tree import export_graphviz\n",
        "from IPython import display\n",
        "\n",
        "import pandas as pd\n",
        "import numpy as np\n",
        "import matplotlib.pyplot as plt\n",
        "%matplotlib inline\n",
        "import seaborn as sns\n",
        "\n",
        "'''Read data from CSV with Pandas'''\n",
        "ignored_cols = ['Hash', 'LongName']\n",
        "\n",
        "file = \"drive/MyDrive/class.csv\"\n",
        "cols = list(pd.read_csv(file, nrows =1).dropna(axis='columns', how='all'))\n",
        "cols.remove('Hash')\n",
        "cols.remove('LongName')\n",
        "\n",
        "df = pd.read_csv(file,  usecols =cols)\n",
        "normalized_df=(df-df.mean())/df.std()\n",
        "\n",
        "'''Split into train and test with numpy (0.75 train, 0.25 test)'''\n",
        "from sklearn.model_selection import train_test_split\n",
        "train, test = train_test_split(df, test_size=0.2)\n",
        "  \n",
        "'''First 4 colums are the data to train'''\n",
        "features = df.columns[:-1]\n",
        "\n",
        "'''Create logistic regression classifier'''  \n",
        "from sklearn.linear_model import LogisticRegression\n",
        "model = LogisticRegression(solver='saga', penalty='l2',n_jobs=1, l1_ratio = 1, max_iter=100, random_state=90)\n",
        "\n",
        "'''Species names to factor'''\n",
        "y, bugs = pd.factorize(train['Number of Bugs'])\n",
        "  \n",
        "'''Train and test'''\n",
        "model.fit(train[features], y)\n",
        "preds = bugs.values[model.predict(test[features])]\n",
        "actual_classes = test.iloc[:,-1:]\n",
        "\n",
        "score = accuracy_score(actual_classes, preds)\n",
        "accuracy = \"%.2f\" % round(score*100, 2)\n",
        "\n",
        "from sklearn.metrics import f1_score\n",
        "f1 = f1_score(actual_classes, preds, average = 'macro')\n",
        "f1_score = \"%.2f\"%round(f1, 2)\n",
        "print(f'\\nbreadleaf commerce => Accuracy: {accuracy} ; F1: {f1_score}')"
      ],
      "metadata": {
        "colab": {
          "base_uri": "https://localhost:8080/"
        },
        "id": "9_KcVobJnv1d",
        "outputId": "7d2f0ddf-2e89-4c09-a670-d3c6f236c901"
      },
      "execution_count": 50,
      "outputs": [
        {
          "output_type": "stream",
          "name": "stderr",
          "text": [
            "/usr/local/lib/python3.7/dist-packages/sklearn/linear_model/_logistic.py:1479: UserWarning: l1_ratio parameter is only used when penalty is 'elasticnet'. Got (penalty=l2)\n",
            "  \"(penalty={})\".format(self.penalty)\n"
          ]
        },
        {
          "output_type": "stream",
          "name": "stdout",
          "text": [
            "\n",
            "breadleaf commerce => Accuracy: 55.07 ; F1: 0.09\n"
          ]
        },
        {
          "output_type": "stream",
          "name": "stderr",
          "text": [
            "/usr/local/lib/python3.7/dist-packages/sklearn/linear_model/_sag.py:354: ConvergenceWarning: The max_iter was reached which means the coef_ did not converge\n",
            "  ConvergenceWarning,\n"
          ]
        }
      ]
    }
  ]
}