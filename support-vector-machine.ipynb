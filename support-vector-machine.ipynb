{
  "nbformat": 4,
  "nbformat_minor": 0,
  "metadata": {
    "colab": {
      "provenance": [],
      "authorship_tag": "ABX9TyPaOXhvbZFsT38ns0L8rhb0",
      "include_colab_link": true
    },
    "kernelspec": {
      "name": "python3",
      "display_name": "Python 3"
    },
    "language_info": {
      "name": "python"
    }
  },
  "cells": [
    {
      "cell_type": "markdown",
      "metadata": {
        "id": "view-in-github",
        "colab_type": "text"
      },
      "source": [
        "<a href=\"https://colab.research.google.com/github/vajihe-ameri/predict-software-bugs-in-java-classes/blob/main/support-vector-machine.ipynb\" target=\"_parent\"><img src=\"https://colab.research.google.com/assets/colab-badge.svg\" alt=\"Open In Colab\"/></a>"
      ]
    },
    {
      "cell_type": "code",
      "execution_count": 1,
      "metadata": {
        "colab": {
          "base_uri": "https://localhost:8080/"
        },
        "id": "KI0aX2NW73f-",
        "outputId": "ae12fceb-e92a-486b-9961-fdd264f5b45f"
      },
      "outputs": [
        {
          "output_type": "stream",
          "name": "stdout",
          "text": [
            "Looking in indexes: https://pypi.org/simple, https://us-python.pkg.dev/colab-wheels/public/simple/\n",
            "Collecting sklearn\n",
            "  Downloading sklearn-0.0.post1.tar.gz (3.6 kB)\n",
            "  Preparing metadata (setup.py) ... \u001b[?25l\u001b[?25hdone\n",
            "Requirement already satisfied: pandas in /usr/local/lib/python3.8/dist-packages (1.3.5)\n",
            "Requirement already satisfied: python-dateutil>=2.7.3 in /usr/local/lib/python3.8/dist-packages (from pandas) (2.8.2)\n",
            "Requirement already satisfied: numpy>=1.17.3 in /usr/local/lib/python3.8/dist-packages (from pandas) (1.22.4)\n",
            "Requirement already satisfied: pytz>=2017.3 in /usr/local/lib/python3.8/dist-packages (from pandas) (2022.7.1)\n",
            "Requirement already satisfied: six>=1.5 in /usr/local/lib/python3.8/dist-packages (from python-dateutil>=2.7.3->pandas) (1.15.0)\n",
            "Building wheels for collected packages: sklearn\n",
            "  Building wheel for sklearn (setup.py) ... \u001b[?25l\u001b[?25hdone\n",
            "  Created wheel for sklearn: filename=sklearn-0.0.post1-py3-none-any.whl size=2344 sha256=1434a2580333a1d3a6af9323c1ad54386c99eb8e17830290b9506c6bc71cf30d\n",
            "  Stored in directory: /root/.cache/pip/wheels/14/25/f7/1cc0956978ae479e75140219088deb7a36f60459df242b1a72\n",
            "Successfully built sklearn\n",
            "Installing collected packages: sklearn\n",
            "Successfully installed sklearn-0.0.post1\n",
            "Looking in indexes: https://pypi.org/simple, https://us-python.pkg.dev/colab-wheels/public/simple/\n",
            "Requirement already satisfied: prettytable in /usr/local/lib/python3.8/dist-packages (3.6.0)\n",
            "Requirement already satisfied: wcwidth in /usr/local/lib/python3.8/dist-packages (from prettytable) (0.2.6)\n",
            "Looking in indexes: https://pypi.org/simple, https://us-python.pkg.dev/colab-wheels/public/simple/\n",
            "Requirement already satisfied: matplotlib in /usr/local/lib/python3.8/dist-packages (3.5.3)\n",
            "Requirement already satisfied: numpy>=1.17 in /usr/local/lib/python3.8/dist-packages (from matplotlib) (1.22.4)\n",
            "Requirement already satisfied: fonttools>=4.22.0 in /usr/local/lib/python3.8/dist-packages (from matplotlib) (4.38.0)\n",
            "Requirement already satisfied: cycler>=0.10 in /usr/local/lib/python3.8/dist-packages (from matplotlib) (0.11.0)\n",
            "Requirement already satisfied: packaging>=20.0 in /usr/local/lib/python3.8/dist-packages (from matplotlib) (23.0)\n",
            "Requirement already satisfied: pillow>=6.2.0 in /usr/local/lib/python3.8/dist-packages (from matplotlib) (8.4.0)\n",
            "Requirement already satisfied: python-dateutil>=2.7 in /usr/local/lib/python3.8/dist-packages (from matplotlib) (2.8.2)\n",
            "Requirement already satisfied: pyparsing>=2.2.1 in /usr/local/lib/python3.8/dist-packages (from matplotlib) (3.0.9)\n",
            "Requirement already satisfied: kiwisolver>=1.0.1 in /usr/local/lib/python3.8/dist-packages (from matplotlib) (1.4.4)\n",
            "Requirement already satisfied: six>=1.5 in /usr/local/lib/python3.8/dist-packages (from python-dateutil>=2.7->matplotlib) (1.15.0)\n"
          ]
        }
      ],
      "source": [
        "!pip install sklearn pandas\n",
        "!pip install prettytable\n",
        "!pip install matplotlib"
      ]
    },
    {
      "cell_type": "code",
      "source": [
        "import pandas as pd\n",
        "from google.colab import drive \n",
        "drive = drive.mount('/content/drive') "
      ],
      "metadata": {
        "colab": {
          "base_uri": "https://localhost:8080/"
        },
        "id": "0G-DyXVx76Cs",
        "outputId": "a1c99f19-7c5a-417b-b38b-4db05be740a3"
      },
      "execution_count": 2,
      "outputs": [
        {
          "output_type": "stream",
          "name": "stdout",
          "text": [
            "Mounted at /content/drive\n"
          ]
        }
      ]
    },
    {
      "cell_type": "code",
      "source": [
        "from prettytable import PrettyTable\n",
        "from sklearn.metrics import mean_squared_error, accuracy_score\n",
        "from sklearn.tree import export_graphviz\n",
        "from IPython import display\n",
        "from sklearn.metrics import confusion_matrix\n",
        "from sklearn.metrics import classification_report\n",
        "import matplotlib as mpl\n",
        "import matplotlib.pyplot as plt"
      ],
      "metadata": {
        "id": "rfhV3pnE77a3"
      },
      "execution_count": 3,
      "outputs": []
    },
    {
      "cell_type": "code",
      "source": [
        "test_features = pd.read_csv(\"/content/drive/MyDrive/new_df/test_set.csv\")\n",
        "train_features = pd.read_csv(\"/content/drive/MyDrive/new_df/train_set.csv\")\n",
        "test_target = pd.read_csv(\"/content/drive/MyDrive/new_df/test_set_NB.csv\")\n",
        "train_target = pd.read_csv(\"/content/drive/MyDrive/new_df/train_set_NB.csv\")"
      ],
      "metadata": {
        "id": "E8YlqBP678_I"
      },
      "execution_count": 4,
      "outputs": []
    },
    {
      "cell_type": "code",
      "source": [
        "print('Support vector machine')\n",
        "from sklearn.svm import SVC\n",
        "\n",
        "'''Create Artificial Neural Network classifier'''\n",
        "model1 = SVC()\n",
        "model2 = SVC(kernel='sigmoid', C=100, gamma=1, random_state=85)\n",
        "model3 = SVC(kernel='rbf', C=0.1, gamma=0.01, random_state=15)\n",
        "model4 = SVC(kernel='linear', C=1, gamma=0.001, random_state=74)\n",
        "model5 = SVC(kernel='sigmoid', C=100, gamma=1, random_state=85)\n",
        "model6 = SVC(kernel='rbf', C=0.1, gamma=0.01, random_state=15)\n",
        "model7 = SVC(kernel='linear', C=1, gamma=0.001, random_state=74)\n",
        "\n",
        "'''Train and test'''\n",
        "model1.fit(train_features, train_target)\n",
        "model2.fit(train_features, train_target)\n",
        "model3.fit(train_features, train_target)\n",
        "model4.fit(train_features, train_target)\n",
        "model5.fit(train_features, train_target)\n",
        "model6.fit(train_features, train_target)\n",
        "model7.fit(train_features, train_target)\n",
        "\n",
        "preds_test1 = model1.predict(test_features)\n",
        "preds_test2 = model2.predict(test_features)\n",
        "preds_test3 = model3.predict(test_features)\n",
        "preds_test4 = model4.predict(test_features)\n",
        "preds_test5 = model5.predict(test_features)\n",
        "preds_test6 = model6.predict(test_features)\n",
        "preds_test7 = model7.predict(test_features)\n",
        "\n",
        "preds_train1 = model1.predict(train_features)\n",
        "preds_train2 = model2.predict(train_features)\n",
        "preds_train3 = model3.predict(train_features)\n",
        "preds_train4 = model4.predict(train_features)\n",
        "preds_train5 = model5.predict(train_features)\n",
        "preds_train6 = model6.predict(train_features)\n",
        "preds_train7 = model7.predict(train_features)\n",
        "\n",
        "cr1 = confusion_matrix(test_target, preds_test1)\n",
        "cr2 = confusion_matrix(test_target, preds_test2)\n",
        "cr3 = confusion_matrix(test_target, preds_test3)\n",
        "cr4 = confusion_matrix(test_target, preds_test4)\n",
        "cr5 = confusion_matrix(test_target, preds_test5)\n",
        "cr6 = confusion_matrix(test_target, preds_test6)\n",
        "cr7 = confusion_matrix(test_target, preds_test7)\n",
        "\n",
        "from sklearn.metrics import f1_score\n",
        "\n",
        "f1_micro_test1 = f1_score(test_target, preds_test1, average = 'micro')\n",
        "f1_micro_test2 = f1_score(test_target, preds_test2, average = 'micro')\n",
        "f1_micro_test3 = f1_score(test_target, preds_test3, average = 'micro')\n",
        "f1_micro_test4 = f1_score(test_target, preds_test4, average = 'micro')\n",
        "f1_micro_test5 = f1_score(test_target, preds_test5, average = 'micro')\n",
        "f1_micro_test6 = f1_score(test_target, preds_test6, average = 'micro')\n",
        "f1_micro_test7 = f1_score(test_target, preds_test7, average = 'micro')\n",
        "\n",
        "f1_micro_train1 = f1_score(train_target, preds_train1, average = 'micro')\n",
        "f1_micro_train2 = f1_score(train_target, preds_train2, average = 'micro')\n",
        "f1_micro_train3 = f1_score(train_target, preds_train3, average = 'micro')\n",
        "f1_micro_train4 = f1_score(train_target, preds_train4, average = 'micro')\n",
        "f1_micro_train5 = f1_score(train_target, preds_train5, average = 'micro')\n",
        "f1_micro_train6 = f1_score(train_target, preds_train6, average = 'micro')\n",
        "f1_micro_train7 = f1_score(train_target, preds_train7, average = 'micro')\n",
        "\n",
        "f1_score_micro_test1 = \"%.2f\"%round(f1_micro_test1, 2)\n",
        "f1_score_micro_test2 = \"%.2f\"%round(f1_micro_test2, 2)\n",
        "f1_score_micro_test3 = \"%.2f\"%round(f1_micro_test3, 2)\n",
        "f1_score_micro_test4 = \"%.2f\"%round(f1_micro_test4, 2)\n",
        "f1_score_micro_test5 = \"%.2f\"%round(f1_micro_test5, 2)\n",
        "f1_score_micro_test6 = \"%.2f\"%round(f1_micro_test6, 2)\n",
        "f1_score_micro_test7 = \"%.2f\"%round(f1_micro_test7, 2)\n",
        "\n",
        "f1_score_micro_train1 = \"%.2f\"%round(f1_micro_train1, 2)\n",
        "f1_score_micro_train2 = \"%.2f\"%round(f1_micro_train2, 2)\n",
        "f1_score_micro_train3 = \"%.2f\"%round(f1_micro_train3, 2)\n",
        "f1_score_micro_train4 = \"%.2f\"%round(f1_micro_train4, 2)\n",
        "f1_score_micro_train5 = \"%.2f\"%round(f1_micro_train5, 2)\n",
        "f1_score_micro_train6 = \"%.2f\"%round(f1_micro_train6, 2)\n",
        "f1_score_micro_train7 = \"%.2f\"%round(f1_micro_train7, 2)\n",
        "\n",
        "head = PrettyTable(['random_state', 'C', 'gamma', 'kernel', 'confusion_matrix', 'f1_score_micro_train', 'f1_score_micro_test']) \n",
        "head.add_row(['', '', '', '', cr1, f1_score_micro_train1, f1_score_micro_test1]) \n",
        "head.add_row(['85', '100', '1', 'sigmoid', cr2, f1_score_micro_train2, f1_score_micro_test2]) \n",
        "head.add_row(['15', '0.01', '0.01', 'rbf', cr3, f1_score_micro_train3, f1_score_micro_test3]) \n",
        "head.add_row(['74', '1', '0.001', 'linear', cr4, f1_score_micro_train4, f1_score_micro_test4]) \n",
        "head.add_row(['74', '1', '0.001', 'linear', cr5, f1_score_micro_train5, f1_score_micro_test5]) \n",
        "head.add_row(['74', '1', '0.001', 'linear', cr6, f1_score_micro_train6, f1_score_micro_test6]) \n",
        "head.add_row(['74', '1', '0.001', 'linear', cr7, f1_score_micro_train7, f1_score_micro_test7]) \n",
        "print(head)"
      ],
      "metadata": {
        "id": "QHkSDUlr8O9G",
        "outputId": "9eea0a96-bf36-4018-c893-705b59d79df5",
        "colab": {
          "base_uri": "https://localhost:8080/"
        }
      },
      "execution_count": 8,
      "outputs": [
        {
          "output_type": "stream",
          "name": "stdout",
          "text": [
            "Support vector machine\n"
          ]
        },
        {
          "output_type": "stream",
          "name": "stderr",
          "text": [
            "/usr/local/lib/python3.8/dist-packages/sklearn/utils/validation.py:1143: DataConversionWarning: A column-vector y was passed when a 1d array was expected. Please change the shape of y to (n_samples, ), for example using ravel().\n",
            "  y = column_or_1d(y, warn=True)\n",
            "/usr/local/lib/python3.8/dist-packages/sklearn/utils/validation.py:1143: DataConversionWarning: A column-vector y was passed when a 1d array was expected. Please change the shape of y to (n_samples, ), for example using ravel().\n",
            "  y = column_or_1d(y, warn=True)\n",
            "/usr/local/lib/python3.8/dist-packages/sklearn/utils/validation.py:1143: DataConversionWarning: A column-vector y was passed when a 1d array was expected. Please change the shape of y to (n_samples, ), for example using ravel().\n",
            "  y = column_or_1d(y, warn=True)\n",
            "/usr/local/lib/python3.8/dist-packages/sklearn/utils/validation.py:1143: DataConversionWarning: A column-vector y was passed when a 1d array was expected. Please change the shape of y to (n_samples, ), for example using ravel().\n",
            "  y = column_or_1d(y, warn=True)\n",
            "/usr/local/lib/python3.8/dist-packages/sklearn/utils/validation.py:1143: DataConversionWarning: A column-vector y was passed when a 1d array was expected. Please change the shape of y to (n_samples, ), for example using ravel().\n",
            "  y = column_or_1d(y, warn=True)\n",
            "/usr/local/lib/python3.8/dist-packages/sklearn/utils/validation.py:1143: DataConversionWarning: A column-vector y was passed when a 1d array was expected. Please change the shape of y to (n_samples, ), for example using ravel().\n",
            "  y = column_or_1d(y, warn=True)\n",
            "/usr/local/lib/python3.8/dist-packages/sklearn/utils/validation.py:1143: DataConversionWarning: A column-vector y was passed when a 1d array was expected. Please change the shape of y to (n_samples, ), for example using ravel().\n",
            "  y = column_or_1d(y, warn=True)\n"
          ]
        },
        {
          "output_type": "stream",
          "name": "stdout",
          "text": [
            "+--------------+------+-------+---------+--------------------+----------------------+---------------------+\n",
            "| random_state |  C   | gamma |  kernel |  confusion_matrix  | f1_score_micro_train | f1_score_micro_test |\n",
            "+--------------+------+-------+---------+--------------------+----------------------+---------------------+\n",
            "|              |      |       |         | [[2387   77   46]  |         0.53         |         0.51        |\n",
            "|              |      |       |         |  [1410   64   46]  |                      |                     |\n",
            "|              |      |       |         |  [ 805   55  109]] |                      |                     |\n",
            "|      85      | 100  |   1   | sigmoid | [[1612  879   19]  |         0.43         |         0.43        |\n",
            "|              |      |       |         |  [ 951  549   20]  |                      |                     |\n",
            "|              |      |       |         |  [ 541  419    9]] |                      |                     |\n",
            "|      15      | 0.01 |  0.01 |   rbf   | [[2510    0    0]  |         0.50         |         0.50        |\n",
            "|              |      |       |         |  [1520    0    0]  |                      |                     |\n",
            "|              |      |       |         |  [ 969    0    0]] |                      |                     |\n",
            "|      74      |  1   | 0.001 |  linear | [[2506    0    4]  |         0.50         |         0.50        |\n",
            "|              |      |       |         |  [1519    0    1]  |                      |                     |\n",
            "|              |      |       |         |  [ 960    0    9]] |                      |                     |\n",
            "|      74      |  1   | 0.001 |  linear | [[1612  879   19]  |         0.43         |         0.43        |\n",
            "|              |      |       |         |  [ 951  549   20]  |                      |                     |\n",
            "|              |      |       |         |  [ 541  419    9]] |                      |                     |\n",
            "|      74      |  1   | 0.001 |  linear | [[2510    0    0]  |         0.50         |         0.50        |\n",
            "|              |      |       |         |  [1520    0    0]  |                      |                     |\n",
            "|              |      |       |         |  [ 969    0    0]] |                      |                     |\n",
            "|      74      |  1   | 0.001 |  linear | [[2506    0    4]  |         0.50         |         0.50        |\n",
            "|              |      |       |         |  [1519    0    1]  |                      |                     |\n",
            "|              |      |       |         |  [ 960    0    9]] |                      |                     |\n",
            "+--------------+------+-------+---------+--------------------+----------------------+---------------------+\n"
          ]
        }
      ]
    },
    {
      "cell_type": "code",
      "source": [
        "x = ['', 100, 0.01, 1, 1, 1, 1]\n",
        "y = [f1_score_micro_test1, f1_score_micro_test2, f1_score_micro_test3, f1_score_micro_test4, f1_score_micro_test5, f1_score_micro_test6, f1_score_micro_test7]\n",
        "plt.plot(x, y) \n",
        "plt.xlabel('C') \n",
        "plt.ylabel('f1 score micro test') \n",
        "plt.title('test plot') \n",
        "plt.show()"
      ],
      "metadata": {
        "id": "ZoT5eDUFnIxF",
        "outputId": "b5c7bd93-d6e5-4f48-d1b4-ceb7a2c87b17",
        "colab": {
          "base_uri": "https://localhost:8080/",
          "height": 295
        }
      },
      "execution_count": 9,
      "outputs": [
        {
          "output_type": "display_data",
          "data": {
            "text/plain": [
              "<Figure size 432x288 with 1 Axes>"
            ],
            "image/png": "[encoded data removed]"
          },
          "metadata": {
            "needs_background": "light"
          }
        }
      ]
    },
    {
      "cell_type": "code",
      "source": [
        "x = ['', 100, 0.01, 1, 1, 1, 1]\n",
        "y = [f1_score_micro_train1, f1_score_micro_train2, f1_score_micro_train3, f1_score_micro_train4, f1_score_micro_train5, f1_score_micro_train6, f1_score_micro_train7]\n",
        "plt.plot(x, y) \n",
        "plt.xlabel('C') \n",
        "plt.ylabel('f1 score micro train') \n",
        "plt.title('train plot') \n",
        "plt.show()"
      ],
      "metadata": {
        "id": "_LRs_3nUoHNt",
        "outputId": "a554755a-d3bb-41bb-9238-c3b454256674",
        "colab": {
          "base_uri": "https://localhost:8080/",
          "height": 295
        }
      },
      "execution_count": 10,
      "outputs": [
        {
          "output_type": "display_data",
          "data": {
            "text/plain": [
              "<Figure size 432x288 with 1 Axes>"
            ],
            "image/png": "[encoded data removed]"
          },
          "metadata": {
            "needs_background": "light"
          }
        }
      ]
    }
  ]
}