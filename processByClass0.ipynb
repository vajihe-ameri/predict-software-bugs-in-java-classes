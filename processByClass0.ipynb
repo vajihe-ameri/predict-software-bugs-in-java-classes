{
  "nbformat": 4,
  "nbformat_minor": 0,
  "metadata": {
    "colab": {
      "provenance": [],
      "authorship_tag": "ABX9TyOcmgc3WwNt6vZnfrRLpsYt",
      "include_colab_link": true
    },
    "kernelspec": {
      "name": "python3",
      "display_name": "Python 3"
    },
    "language_info": {
      "name": "python"
    }
  },
  "cells": [
    {
      "cell_type": "markdown",
      "metadata": {
        "id": "view-in-github",
        "colab_type": "text"
      },
      "source": [
        "<a href=\"https://colab.research.google.com/github/vajihe-ameri/predict-software-bugs-in-java-classes/blob/main/processByClass0.ipynb\" target=\"_parent\"><img src=\"https://colab.research.google.com/assets/colab-badge.svg\" alt=\"Open In Colab\"/></a>"
      ]
    },
    {
      "cell_type": "code",
      "execution_count": 1,
      "metadata": {
        "colab": {
          "base_uri": "https://localhost:8080/"
        },
        "id": "VVy9ueudZU5M",
        "outputId": "747b13b1-c39a-4d1b-bcea-0a17a5b901c1"
      },
      "outputs": [
        {
          "output_type": "stream",
          "name": "stdout",
          "text": [
            "Collecting sklearn\n",
            "  Downloading sklearn-0.0.post7.tar.gz (3.6 kB)\n",
            "  \u001b[1;31merror\u001b[0m: \u001b[1msubprocess-exited-with-error\u001b[0m\n",
            "  \n",
            "  \u001b[31m×\u001b[0m \u001b[32mpython setup.py egg_info\u001b[0m did not run successfully.\n",
            "  \u001b[31m│\u001b[0m exit code: \u001b[1;36m1\u001b[0m\n",
            "  \u001b[31m╰─>\u001b[0m See above for output.\n",
            "  \n",
            "  \u001b[1;35mnote\u001b[0m: This error originates from a subprocess, and is likely not a problem with pip.\n",
            "  Preparing metadata (setup.py) ... \u001b[?25l\u001b[?25herror\n",
            "\u001b[1;31merror\u001b[0m: \u001b[1mmetadata-generation-failed\u001b[0m\n",
            "\n",
            "\u001b[31m×\u001b[0m Encountered error while generating package metadata.\n",
            "\u001b[31m╰─>\u001b[0m See above for output.\n",
            "\n",
            "\u001b[1;35mnote\u001b[0m: This is an issue with the package mentioned above, not pip.\n",
            "\u001b[1;36mhint\u001b[0m: See above for details.\n",
            "Mounted at /content/drive\n"
          ]
        }
      ],
      "source": [
        "!pip install sklearn pandas\n",
        "\n",
        "import pandas as pd\n",
        "from google.colab import drive\n",
        "drive = drive.mount('/content/drive')\n",
        "\n",
        "project = 'elasticsearch'\n",
        "\n",
        "df = pd.read_csv(f\"drive/MyDrive/subtract/{project}/class.csv\")\n",
        "\n",
        "df.drop('Hash', axis=1, inplace=True)\n",
        "df.drop('LongName', axis=1, inplace=True)\n",
        "\n",
        "old_df = df.columns\n",
        "for col in old_df:\n",
        "  if df[col].max() == df[col].min():\n",
        "    df.drop(col, axis=1, inplace=True)\n",
        "\n",
        "duplicate = df[df.duplicated(keep=False)]\n",
        "df.drop_duplicates(keep=False,inplace=True)\n",
        "\n",
        "df2 = df[['Number of Bugs']].copy()\n",
        "df2 = df2[df2.index.isin(df.index)]\n",
        "\n",
        "df.reset_index(drop=True, inplace=True)\n",
        "df2.reset_index(drop=True, inplace=True)\n",
        "data = pd.concat([df, df2],axis=1)\n",
        "\n",
        "from sklearn.model_selection import StratifiedShuffleSplit\n",
        "\n",
        "split = StratifiedShuffleSplit(n_splits=1, test_size=0.2)\n",
        "\n",
        "nb = df['Number of Bugs']\n",
        "\n",
        "for train_index, test_index in split.split(df, nb):\n",
        "  train_set = df.loc[train_index]\n",
        "  test_set = df.loc[test_index]\n",
        "\n",
        "def normalizeValueOfTarget(value):\n",
        "  if value == 0 :\n",
        "    return 1\n",
        "  else:\n",
        "     return 0\n",
        "\n",
        "train_set['Number of Bugs'] = train_set['Number of Bugs'].apply(normalizeValueOfTarget)\n",
        "test_set['Number of Bugs'] = test_set['Number of Bugs'].apply(normalizeValueOfTarget)\n",
        "\n",
        "test_target = test_set.pop(\"Number of Bugs\")\n",
        "test_features = test_set\n",
        "\n",
        "train_target = train_set.pop(\"Number of Bugs\")\n",
        "train_features = train_set\n",
        "\n"
      ]
    },
    {
      "cell_type": "code",
      "source": [
        "train_target.value_counts().plot(kind=\"bar\")"
      ],
      "metadata": {
        "id": "Ns9GBFluOQeD",
        "outputId": "d15f4ce3-dae3-4ae6-bba1-87ada61437ef",
        "colab": {
          "base_uri": "https://localhost:8080/",
          "height": 442
        }
      },
      "execution_count": 2,
      "outputs": [
        {
          "output_type": "execute_result",
          "data": {
            "text/plain": [
              "<Axes: >"
            ]
          },
          "metadata": {},
          "execution_count": 2
        },
        {
          "output_type": "display_data",
          "data": {
            "text/plain": [
              "<Figure size 640x480 with 1 Axes>"
            ],
            "image/png": "[encoded data removed]"
          },
          "metadata": {}
        }
      ]
    },
    {
      "cell_type": "code",
      "source": [
        "columnsToNormalize = list(train_features.columns.values)\n",
        "for column in columnsToNormalize:\n",
        "  minValueOfCol = train_features[column].min()\n",
        "  maxValueOfCol = train_features[column].max()\n",
        "\n",
        "  train_features[column] = (train_features[column] - minValueOfCol) / (maxValueOfCol-minValueOfCol)\n",
        "  test_set[column] = (test_set[column] - minValueOfCol) / (maxValueOfCol-minValueOfCol)"
      ],
      "metadata": {
        "id": "_LXhAIHTN_Ze"
      },
      "execution_count": 3,
      "outputs": []
    },
    {
      "cell_type": "code",
      "source": [
        "train_features.to_csv('/content/drive/MyDrive/new_df/train_set_0.csv', index=False)\n",
        "\n",
        "test_set.to_csv(\"/content/drive/MyDrive/new_df/test_set_0.csv\", index=False)\n",
        "\n",
        "train_target.to_csv('/content/drive/MyDrive/new_df/train_set_NB_0.csv', header='Number of Bugs', index=False)\n",
        "\n",
        "test_target.to_csv(\"/content/drive/MyDrive/new_df/test_set_NB_0.csv\",  header='Number of Bugs', index=False)"
      ],
      "metadata": {
        "id": "TQNSP35ZZgtA"
      },
      "execution_count": 4,
      "outputs": []
    }
  ]
}