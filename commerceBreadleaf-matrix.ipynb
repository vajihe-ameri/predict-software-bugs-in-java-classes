{
  "nbformat": 4,
  "nbformat_minor": 0,
  "metadata": {
    "colab": {
      "name": "Copy of Untitled2.ipynb",
      "provenance": [],
      "authorship_tag": "ABX9TyP5HbSFojYjgghCtTQXmXps",
      "include_colab_link": true
    },
    "kernelspec": {
      "name": "python3",
      "display_name": "Python 3"
    },
    "language_info": {
      "name": "python"
    }
  },
  "cells": [
    {
      "cell_type": "markdown",
      "metadata": {
        "id": "view-in-github",
        "colab_type": "text"
      },
      "source": [
        "<a href=\"https://colab.research.google.com/github/vajihe-ameri/predict-software-bugs-in-java-classes/blob/main/commerceBreadleaf-matrix.ipynb\" target=\"_parent\"><img src=\"https://colab.research.google.com/assets/colab-badge.svg\" alt=\"Open In Colab\"/></a>"
      ]
    },
    {
      "cell_type": "markdown",
      "source": [
        "Install requirements"
      ],
      "metadata": {
        "id": "H8Cz6wdlnY4z"
      }
    },
    {
      "cell_type": "code",
      "source": [
        "!pip install sklearn pandas"
      ],
      "metadata": {
        "colab": {
          "base_uri": "https://localhost:8080/"
        },
        "id": "7moBUzj9nZnR",
        "outputId": "b4ca53f6-cb2e-43cb-abe9-0d7ee63524c9"
      },
      "execution_count": 1,
      "outputs": [
        {
          "output_type": "stream",
          "name": "stdout",
          "text": [
            "Looking in indexes: https://pypi.org/simple, https://us-python.pkg.dev/colab-wheels/public/simple/\n",
            "Collecting sklearn\n",
            "  Downloading sklearn-0.0.tar.gz (1.1 kB)\n",
            "Requirement already satisfied: pandas in /usr/local/lib/python3.7/dist-packages (1.3.5)\n",
            "Requirement already satisfied: scikit-learn in /usr/local/lib/python3.7/dist-packages (from sklearn) (1.0.2)\n",
            "Requirement already satisfied: numpy>=1.17.3 in /usr/local/lib/python3.7/dist-packages (from pandas) (1.21.6)\n",
            "Requirement already satisfied: python-dateutil>=2.7.3 in /usr/local/lib/python3.7/dist-packages (from pandas) (2.8.2)\n",
            "Requirement already satisfied: pytz>=2017.3 in /usr/local/lib/python3.7/dist-packages (from pandas) (2022.4)\n",
            "Requirement already satisfied: six>=1.5 in /usr/local/lib/python3.7/dist-packages (from python-dateutil>=2.7.3->pandas) (1.15.0)\n",
            "Requirement already satisfied: scipy>=1.1.0 in /usr/local/lib/python3.7/dist-packages (from scikit-learn->sklearn) (1.7.3)\n",
            "Requirement already satisfied: joblib>=0.11 in /usr/local/lib/python3.7/dist-packages (from scikit-learn->sklearn) (1.2.0)\n",
            "Requirement already satisfied: threadpoolctl>=2.0.0 in /usr/local/lib/python3.7/dist-packages (from scikit-learn->sklearn) (3.1.0)\n",
            "Building wheels for collected packages: sklearn\n",
            "  Building wheel for sklearn (setup.py) ... \u001b[?25l\u001b[?25hdone\n",
            "  Created wheel for sklearn: filename=sklearn-0.0-py2.py3-none-any.whl size=1310 sha256=07cf84f3b72d22365e063109c220560e2a1a2e9a22b32bbe26f06885a5734c97\n",
            "  Stored in directory: /root/.cache/pip/wheels/46/ef/c3/157e41f5ee1372d1be90b09f74f82b10e391eaacca8f22d33e\n",
            "Successfully built sklearn\n",
            "Installing collected packages: sklearn\n",
            "Successfully installed sklearn-0.0\n"
          ]
        }
      ]
    },
    {
      "cell_type": "markdown",
      "source": [
        "Read dataset"
      ],
      "metadata": {
        "id": "_0ENIcE_nbos"
      }
    },
    {
      "cell_type": "code",
      "source": [
        "import pandas as pd\n",
        "from google.colab import drive \n",
        "drive = drive.mount('/content/drive') "
      ],
      "metadata": {
        "colab": {
          "base_uri": "https://localhost:8080/"
        },
        "id": "GUvJN9yenfMB",
        "outputId": "92654151-2799-4585-b43c-5057395de2a6"
      },
      "execution_count": 2,
      "outputs": [
        {
          "output_type": "stream",
          "name": "stdout",
          "text": [
            "Mounted at /content/drive\n"
          ]
        }
      ]
    },
    {
      "cell_type": "markdown",
      "source": [
        "Call Decision Tree from sklearn"
      ],
      "metadata": {
        "id": "VoCc7KGwno_c"
      }
    },
    {
      "cell_type": "code",
      "source": [
        "from sklearn.ensemble import RandomForestClassifier\n",
        "from sklearn import tree\n",
        "from sklearn.naive_bayes import GaussianNB\n",
        "from sklearn.neural_network import MLPClassifier\n",
        "\n",
        "from sklearn.metrics import mean_squared_error, accuracy_score\n",
        "from sklearn.tree import export_graphviz\n",
        "from IPython import display\n",
        "from sklearn.metrics import confusion_matrix\n",
        "from sklearn.metrics import classification_report\n",
        "\n",
        "import pandas as pd\n",
        "import numpy as np\n",
        "import matplotlib.pyplot as plt\n",
        "%matplotlib inline\n",
        "import seaborn as sns\n",
        "\n",
        "'''Read data from CSV with Pandas'''\n",
        "ignored_cols = ['Hash', 'LongName']\n",
        "\n",
        "file = \"drive/MyDrive/class.csv\"\n",
        "cols = list(pd.read_csv(file, nrows =1).dropna(axis='columns', how='all'))\n",
        "cols.remove('Hash')\n",
        "cols.remove('LongName')\n",
        "\n",
        "df = pd.read_csv(file, usecols = cols)\n",
        "normalized_df=(df-df.mean())/df.std()\n",
        "\n",
        "'''Split into train and test with numpy (0.75 train, 0.25 test)'''\n",
        "from sklearn.model_selection import train_test_split\n",
        "train, test = train_test_split(df, test_size=0.25)\n",
        "  \n",
        "'''First 4 colums are the data to train'''\n",
        "features = df.columns[:-1]\n",
        "\n",
        "'''Species names to factor'''\n",
        "y, bugs = pd.factorize(train['Number of Bugs'])\n",
        "\n",
        "# random forest\n",
        "'''Create random forest classifier'''\n",
        "model = RandomForestClassifier(n_jobs=2, max_depth = 10, random_state = 40)\n",
        "  \n",
        "'''Train and test'''\n",
        "model.fit(train[features], y)\n",
        "preds = bugs.values[model.predict(test[features])]\n",
        "actual_classes = test.iloc[:,-1:]\n",
        "\n",
        "cr = confusion_matrix(actual_classes, preds)\n",
        "tn = cr[1,0]\n",
        "fn = cr[1,1]\n",
        "\n",
        "from sklearn.metrics import f1_score\n",
        "f1 = f1_score(actual_classes, preds, average = 'weighted')\n",
        "f1_score = \"%.2f\"%round(f1, 2)\n",
        "print(f'matrix: {cr} & bugs-number: {tn + fn} & f1_score: {f1_score}')\n",
        "\n",
        "# naive bayes\n",
        "'''Create naive bayes classifier'''\n",
        "model = GaussianNB()\n",
        "  \n",
        "'''Train and test'''\n",
        "model.fit(train[features], y)\n",
        "preds = bugs.values[model.predict(test[features])]\n",
        "actual_classes = test.iloc[:,-1:]\n",
        "\n",
        "cr = confusion_matrix(actual_classes, preds)\n",
        "tn = cr[1,0]\n",
        "fn = cr[1,1]\n",
        "\n",
        "from sklearn.metrics import f1_score\n",
        "f1 = f1_score(actual_classes, preds, average = 'weighted')\n",
        "f1_score = \"%.2f\"%round(f1, 2)\n",
        "print(f'matrix: {cr} & bugs-number: {tn + fn} & f1_score: {f1_score}')\n",
        "\n",
        "# Artificial Neural Network\n",
        "'''Create Artificial Neural Network classifier'''\n",
        "model = MLPClassifier(solver='lbfgs', alpha=1e-5, hidden_layer_sizes=(5, 2), random_state=1)\n",
        "  \n",
        "'''Train and test'''\n",
        "model.fit(train[features], y)\n",
        "preds = bugs.values[model.predict(test[features])]\n",
        "actual_classes = test.iloc[:,-1:]\n",
        "\n",
        "cr = confusion_matrix(actual_classes, preds)\n",
        "tn = cr[1,0]\n",
        "fn = cr[1,1]\n",
        "\n",
        "from sklearn.metrics import f1_score\n",
        "f1 = f1_score(actual_classes, preds, average = 'weighted')\n",
        "f1_score = \"%.2f\"%round(f1, 2)\n",
        "print(f'matrix: {cr} & bugs-number: {tn + fn} & f1_score: {f1_score}')\n",
        "\n",
        "# decision tree\n",
        "'''Create decision tree classifier'''    \n",
        "model = tree.DecisionTreeClassifier(max_depth = 1,  random_state = 90)\n",
        "  \n",
        "'''Train and test'''\n",
        "model.fit(train[features], y)\n",
        "preds = bugs.values[model.predict(test[features])]\n",
        "actual_classes = test.iloc[:,-1:]\n",
        "\n",
        "cr = confusion_matrix(actual_classes, preds)\n",
        "tn = cr[1,0]\n",
        "fn = cr[1,1]\n",
        "\n",
        "from sklearn.metrics import f1_score\n",
        "f1 = f1_score(actual_classes, preds, average = 'weighted')\n",
        "f1_score = \"%.2f\"%round(f1, 2)\n",
        "print(f'matrix: {cr} & bugs-number: {tn + fn} & f1_score: {f1_score}')\n",
        "  \n",
        "  \n",
        "\n"
      ],
      "metadata": {
        "colab": {
          "base_uri": "https://localhost:8080/"
        },
        "id": "9_KcVobJnv1d",
        "outputId": "2196b5e9-3177-4fb7-de61-58b89fe5fd40"
      },
      "execution_count": 21,
      "outputs": [
        {
          "output_type": "stream",
          "name": "stdout",
          "text": [
            "matrix: [[132   2]\n",
            " [ 16   0]] & bugs-number: 16 & f1_score: 0.84\n",
            "matrix: [[59 75]\n",
            " [ 4 12]] & bugs-number: 16 & f1_score: 0.56\n",
            "matrix: [[134   0]\n",
            " [ 16   0]] & bugs-number: 16 & f1_score: 0.84\n",
            "matrix: [[134   0]\n",
            " [ 16   0]] & bugs-number: 16 & f1_score: 0.84\n"
          ]
        }
      ]
    }
  ]
}