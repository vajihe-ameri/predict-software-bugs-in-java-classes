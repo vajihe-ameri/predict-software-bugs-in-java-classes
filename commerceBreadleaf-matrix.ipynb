{
  "nbformat": 4,
  "nbformat_minor": 0,
  "metadata": {
    "colab": {
      "name": "Copy of Untitled2.ipynb",
      "provenance": [],
      "authorship_tag": "ABX9TyNXsQe9sjjzBidllJ5n70q4",
      "include_colab_link": true
    },
    "kernelspec": {
      "name": "python3",
      "display_name": "Python 3"
    },
    "language_info": {
      "name": "python"
    }
  },
  "cells": [
    {
      "cell_type": "markdown",
      "metadata": {
        "id": "view-in-github",
        "colab_type": "text"
      },
      "source": [
        "<a href=\"https://colab.research.google.com/github/vajihe-ameri/predict-software-bugs-in-java-classes/blob/main/commerceBreadleaf-matrix.ipynb\" target=\"_parent\"><img src=\"https://colab.research.google.com/assets/colab-badge.svg\" alt=\"Open In Colab\"/></a>"
      ]
    },
    {
      "cell_type": "markdown",
      "source": [
        "Install requirements"
      ],
      "metadata": {
        "id": "H8Cz6wdlnY4z"
      }
    },
    {
      "cell_type": "code",
      "source": [
        "!pip install sklearn pandas\n",
        "!pip install prettytable"
      ],
      "metadata": {
        "colab": {
          "base_uri": "https://localhost:8080/"
        },
        "id": "7moBUzj9nZnR",
        "outputId": "65b7093d-95a4-46ea-94e5-6960041eb244"
      },
      "execution_count": 14,
      "outputs": [
        {
          "output_type": "stream",
          "name": "stdout",
          "text": [
            "Looking in indexes: https://pypi.org/simple, https://us-python.pkg.dev/colab-wheels/public/simple/\n",
            "Requirement already satisfied: sklearn in /usr/local/lib/python3.7/dist-packages (0.0)\n",
            "Requirement already satisfied: pandas in /usr/local/lib/python3.7/dist-packages (1.3.5)\n",
            "Requirement already satisfied: scikit-learn in /usr/local/lib/python3.7/dist-packages (from sklearn) (1.0.2)\n",
            "Requirement already satisfied: python-dateutil>=2.7.3 in /usr/local/lib/python3.7/dist-packages (from pandas) (2.8.2)\n",
            "Requirement already satisfied: pytz>=2017.3 in /usr/local/lib/python3.7/dist-packages (from pandas) (2022.5)\n",
            "Requirement already satisfied: numpy>=1.17.3 in /usr/local/lib/python3.7/dist-packages (from pandas) (1.21.6)\n",
            "Requirement already satisfied: six>=1.5 in /usr/local/lib/python3.7/dist-packages (from python-dateutil>=2.7.3->pandas) (1.15.0)\n",
            "Requirement already satisfied: scipy>=1.1.0 in /usr/local/lib/python3.7/dist-packages (from scikit-learn->sklearn) (1.7.3)\n",
            "Requirement already satisfied: joblib>=0.11 in /usr/local/lib/python3.7/dist-packages (from scikit-learn->sklearn) (1.2.0)\n",
            "Requirement already satisfied: threadpoolctl>=2.0.0 in /usr/local/lib/python3.7/dist-packages (from scikit-learn->sklearn) (3.1.0)\n",
            "Looking in indexes: https://pypi.org/simple, https://us-python.pkg.dev/colab-wheels/public/simple/\n",
            "Requirement already satisfied: prettytable in /usr/local/lib/python3.7/dist-packages (3.4.1)\n",
            "Requirement already satisfied: importlib-metadata in /usr/local/lib/python3.7/dist-packages (from prettytable) (4.13.0)\n",
            "Requirement already satisfied: wcwidth in /usr/local/lib/python3.7/dist-packages (from prettytable) (0.2.5)\n",
            "Requirement already satisfied: zipp>=0.5 in /usr/local/lib/python3.7/dist-packages (from importlib-metadata->prettytable) (3.9.0)\n",
            "Requirement already satisfied: typing-extensions>=3.6.4 in /usr/local/lib/python3.7/dist-packages (from importlib-metadata->prettytable) (4.1.1)\n"
          ]
        }
      ]
    },
    {
      "cell_type": "markdown",
      "source": [
        "Read dataset"
      ],
      "metadata": {
        "id": "_0ENIcE_nbos"
      }
    },
    {
      "cell_type": "code",
      "source": [
        "import pandas as pd\n",
        "from google.colab import drive \n",
        "drive = drive.mount('/content/drive') "
      ],
      "metadata": {
        "colab": {
          "base_uri": "https://localhost:8080/"
        },
        "id": "GUvJN9yenfMB",
        "outputId": "f50c33e8-fe75-48c2-a33a-82d2c2f9e438"
      },
      "execution_count": 15,
      "outputs": [
        {
          "output_type": "stream",
          "name": "stdout",
          "text": [
            "Drive already mounted at /content/drive; to attempt to forcibly remount, call drive.mount(\"/content/drive\", force_remount=True).\n"
          ]
        }
      ]
    },
    {
      "cell_type": "markdown",
      "source": [
        "Call algorithms from sklearn"
      ],
      "metadata": {
        "id": "VoCc7KGwno_c"
      }
    },
    {
      "cell_type": "code",
      "source": [
        "from prettytable import PrettyTable\n",
        "from sklearn.ensemble import RandomForestClassifier\n",
        "from sklearn import tree\n",
        "from sklearn.naive_bayes import GaussianNB\n",
        "from sklearn.neural_network import MLPClassifier\n",
        "from sklearn.linear_model import LogisticRegression\n",
        "from sklearn.neural_network import MLPClassifier\n",
        "from sklearn.svm import SVC\n",
        "from sklearn.decomposition import PCA\n",
        "\n",
        "from sklearn.metrics import mean_squared_error, accuracy_score\n",
        "from sklearn.tree import export_graphviz\n",
        "from IPython import display\n",
        "from sklearn.metrics import confusion_matrix\n",
        "from sklearn.metrics import classification_report\n",
        "\n",
        "import pandas as pd\n",
        "import numpy as np\n",
        "import matplotlib.pyplot as plt\n",
        "%matplotlib inline\n",
        "import seaborn as sns\n",
        "\n",
        "'''Read data from CSV with Pandas'''\n",
        "ignored_cols = ['Hash', 'LongName']\n",
        "\n",
        "file = \"drive/MyDrive/class.csv\"\n",
        "cols = list(pd.read_csv(file, nrows =1).dropna(axis='columns', how='all'))\n",
        "cols.remove('Hash')\n",
        "cols.remove('LongName')\n",
        "\n",
        "df = pd.read_csv(file, usecols = cols)\n",
        "normalized_df=(df-df.mean())/df.std()\n",
        "\n",
        "'''Split into train and test with numpy (0.75 train, 0.25 test)'''\n",
        "from sklearn.model_selection import train_test_split\n",
        "train, test = train_test_split(df, test_size=0.25)\n",
        "\n",
        "'''First 4 colums are the data to train'''\n",
        "features = df.columns[:-1]\n",
        "\n",
        "'''Species names to factor'''\n",
        "y, bugs = pd.factorize(train['Number of Bugs'])\n",
        "\n",
        "# random forest\n",
        "'''Create random forest classifier'''\n",
        "model = RandomForestClassifier(n_jobs=2, max_depth = 10, random_state = 40)\n",
        "  \n",
        "'''Train and test'''\n",
        "model.fit(train[features], y)\n",
        "preds = bugs.values[model.predict(test[features])]\n",
        "actual_classes = test.iloc[:,-1:]\n",
        "\n",
        "cr_random_forest = confusion_matrix(actual_classes, preds)\n",
        "tn = cr_random_forest[1,0]\n",
        "fn = cr_random_forest[1,1]\n",
        "bugs_random_forest = tn + fn\n",
        "\n",
        "from sklearn.metrics import f1_score\n",
        "f1 = f1_score(actual_classes, preds, average = 'weighted')\n",
        "f1_score_random_forest = \"%.2f\"%round(f1, 2)\n",
        "\n",
        "# decision tree\n",
        "'''Create decision tree classifier'''    \n",
        "model = tree.DecisionTreeClassifier(max_depth = 1,  random_state = 90)\n",
        "  \n",
        "'''Train and test'''\n",
        "model.fit(train[features], y)\n",
        "preds = bugs.values[model.predict(test[features])]\n",
        "actual_classes = test.iloc[:,-1:]\n",
        "\n",
        "cr_decision_tree = confusion_matrix(actual_classes, preds)\n",
        "tn = cr_decision_tree[1,0]\n",
        "fn = cr_decision_tree[1,1]\n",
        "bugs_decision_tree = tn + fn\n",
        "\n",
        "from sklearn.metrics import f1_score\n",
        "f1 = f1_score(actual_classes, preds, average = 'weighted')\n",
        "f1_score_decision_tree = \"%.2f\"%round(f1, 2)\n",
        "\n",
        "# logistic regression\n",
        "'''Create logistic regression classifier'''  \n",
        "model = LogisticRegression(solver='saga', penalty='l2',n_jobs=1, random_state=90)\n",
        "\n",
        "'''Train and test'''\n",
        "model.fit(train[features], y)\n",
        "preds = bugs.values[model.predict(test[features])]\n",
        "actual_classes = test.iloc[:,-1:]\n",
        "\n",
        "cr_logistic_regression = confusion_matrix(actual_classes, preds)\n",
        "tn = cr_logistic_regression[1,0]\n",
        "fn = cr_logistic_regression[1,1]\n",
        "bugs_logistic_regression = tn + fn\n",
        "\n",
        "from sklearn.metrics import f1_score\n",
        "f1 = f1_score(actual_classes, preds, average = 'weighted')\n",
        "f1_score_logistic_regression = \"%.2f\"%round(f1, 2)\n",
        "\n",
        "# naive bayes\n",
        "'''Create naive bayes classifier'''\n",
        "model = GaussianNB()\n",
        "  \n",
        "'''Train and test'''\n",
        "model.fit(train[features], y)\n",
        "preds = bugs.values[model.predict(test[features])]\n",
        "actual_classes = test.iloc[:,-1:]\n",
        "\n",
        "cr_naive_bayes = confusion_matrix(actual_classes, preds)\n",
        "tn = cr_naive_bayes[1,0]\n",
        "fn = cr_naive_bayes[1,1]\n",
        "bugs_naive_bayes = tn + fn\n",
        "\n",
        "from sklearn.metrics import f1_score\n",
        "f1 = f1_score(actual_classes, preds, average = 'weighted')\n",
        "f1_score_naive_bayes = \"%.2f\"%round(f1, 2)\n",
        "\n",
        "# Artificial Neural Network\n",
        "'''Create Artificial Neural Network classifier'''\n",
        "model = MLPClassifier(solver='lbfgs', alpha=1e-5, hidden_layer_sizes=(5, 2), random_state=1)\n",
        "  \n",
        "'''Train and test'''\n",
        "model.fit(train[features], y)\n",
        "preds = bugs.values[model.predict(test[features])]\n",
        "actual_classes = test.iloc[:,-1:]\n",
        "\n",
        "cr_artificial_neural_network = confusion_matrix(actual_classes, preds)\n",
        "tn = cr_artificial_neural_network[1,0]\n",
        "fn = cr_artificial_neural_network[1,1]\n",
        "bugs_artificial_neural_network = tn + fn\n",
        "\n",
        "from sklearn.metrics import f1_score\n",
        "f1 = f1_score(actual_classes, preds, average = 'weighted')\n",
        "f1_score_artificial_neural_network = \"%.2f\"%round(f1, 2)\n",
        "\n",
        "# Multi-Layer Perceptron Neural Network\n",
        "'''Create Artificial Neural Network classifier'''\n",
        "model = MLPClassifier()\n",
        "  \n",
        "'''Train and test'''\n",
        "model.fit(train[features], y)\n",
        "preds = bugs.values[model.predict(test[features])]\n",
        "actual_classes = test.iloc[:,-1:]\n",
        "\n",
        "cr_multi_Layer_Perceptron = confusion_matrix(actual_classes, preds)\n",
        "tn = cr_multi_Layer_Perceptron[1,0]\n",
        "fn = cr_multi_Layer_Perceptron[1,1]\n",
        "bugs_multi_Layer_Perceptron = tn + fn\n",
        "\n",
        "from sklearn.metrics import f1_score\n",
        "f1 = f1_score(actual_classes, preds, average = 'weighted')\n",
        "f1_score_multi_Layer_Perceptron = \"%.2f\"%round(f1, 2)\n",
        "\n",
        "# Support vector machine\n",
        "'''Create Artificial Neural Network classifier'''\n",
        "model = SVC(C=1.0, random_state=1, kernel='linear')\n",
        "  \n",
        "'''Train and test'''\n",
        "model.fit(train[features], y)\n",
        "preds = bugs.values[model.predict(test[features])]\n",
        "actual_classes = test.iloc[:,-1:]\n",
        "\n",
        "cr_Support_vector_machine = confusion_matrix(actual_classes, preds)\n",
        "tn = cr_Support_vector_machine[1,0]\n",
        "fn = cr_Support_vector_machine[1,1]\n",
        "bugs_Support_vector_machine = tn + fn\n",
        "\n",
        "from sklearn.metrics import f1_score\n",
        "f1 = f1_score(actual_classes, preds, average = 'weighted')\n",
        "f1_score_Support_vector_machine = \"%.2f\"%round(f1, 2)\n",
        "  \n",
        "head = PrettyTable(['name','confusion_matrix', 'f1_score', 'bugs-number']) \n",
        "head.add_row(['random_forest', cr_random_forest, f1_score_random_forest, bugs_random_forest])\n",
        "head.add_row(['decision_tree', cr_decision_tree, f1_score_decision_tree, bugs_decision_tree]) \n",
        "head.add_row(['naive_bayes', cr_naive_bayes, f1_score_naive_bayes, bugs_naive_bayes])\n",
        "head.add_row(['logistic_regression', cr_logistic_regression, f1_score_logistic_regression, bugs_logistic_regression]) \n",
        "head.add_row(['artificial_neural_network',cr_artificial_neural_network, f1_score_artificial_neural_network, bugs_artificial_neural_network]) \n",
        "head.add_row(['multi_Layer_Perceptron', cr_multi_Layer_Perceptron, f1_score_multi_Layer_Perceptron, bugs_multi_Layer_Perceptron])  \n",
        "head.add_row(['Support_vector_machine', cr_Support_vector_machine, f1_score_Support_vector_machine, bugs_Support_vector_machine]) \n",
        "\n",
        "print(head)"
      ],
      "metadata": {
        "colab": {
          "base_uri": "https://localhost:8080/"
        },
        "id": "9_KcVobJnv1d",
        "outputId": "b0646ca6-ac7b-4446-f905-791de5c2698a"
      },
      "execution_count": 24,
      "outputs": [
        {
          "output_type": "stream",
          "name": "stderr",
          "text": [
            "/usr/local/lib/python3.7/dist-packages/sklearn/linear_model/_sag.py:354: ConvergenceWarning: The max_iter was reached which means the coef_ did not converge\n",
            "  ConvergenceWarning,\n"
          ]
        },
        {
          "output_type": "stream",
          "name": "stdout",
          "text": [
            "+---------------------------+------------------+----------+-------------+\n",
            "|            name           | confusion_matrix | f1_score | bugs-number |\n",
            "+---------------------------+------------------+----------+-------------+\n",
            "|       random_forest       |    [[128   8]    |   0.85   |      14     |\n",
            "|                           |    [ 13   1]]    |          |             |\n",
            "|       decision_tree       |    [[136   0]    |   0.86   |      14     |\n",
            "|                           |    [ 14   0]]    |          |             |\n",
            "|        naive_bayes        |     [[86 50]     |   0.72   |      14     |\n",
            "|                           |     [ 3 11]]     |          |             |\n",
            "|    logistic_regression    |    [[136   0]    |   0.86   |      14     |\n",
            "|                           |    [ 14   0]]    |          |             |\n",
            "| artificial_neural_network |    [[136   0]    |   0.86   |      14     |\n",
            "|                           |    [ 14   0]]    |          |             |\n",
            "|   multi_Layer_Perceptron  |    [[122  14]    |   0.83   |      14     |\n",
            "|                           |    [ 12   2]]    |          |             |\n",
            "|   Support_vector_machine  |    [[128   8]    |   0.86   |      14     |\n",
            "|                           |    [ 12   2]]    |          |             |\n",
            "+---------------------------+------------------+----------+-------------+\n"
          ]
        }
      ]
    }
  ]
}