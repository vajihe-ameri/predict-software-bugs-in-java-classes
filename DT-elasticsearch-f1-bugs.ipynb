{
  "nbformat": 4,
  "nbformat_minor": 0,
  "metadata": {
    "colab": {
      "name": "Untitled2.ipynb",
      "provenance": [],
      "authorship_tag": "ABX9TyPWxw0BNCswDz2JO0VPP44o",
      "include_colab_link": true
    },
    "kernelspec": {
      "name": "python3",
      "display_name": "Python 3"
    },
    "language_info": {
      "name": "python"
    }
  },
  "cells": [
    {
      "cell_type": "markdown",
      "metadata": {
        "id": "view-in-github",
        "colab_type": "text"
      },
      "source": [
        "<a href=\"https://colab.research.google.com/github/vajihe-ameri/predict-software-bugs-in-java-classes/blob/main/DT-elasticsearch-f1-bugs.ipynb\" target=\"_parent\"><img src=\"https://colab.research.google.com/assets/colab-badge.svg\" alt=\"Open In Colab\"/></a>"
      ]
    },
    {
      "cell_type": "markdown",
      "source": [
        "Install requirements"
      ],
      "metadata": {
        "id": "H8Cz6wdlnY4z"
      }
    },
    {
      "cell_type": "code",
      "source": [
        "!pip install sklearn pandas"
      ],
      "metadata": {
        "colab": {
          "base_uri": "https://localhost:8080/"
        },
        "id": "7moBUzj9nZnR",
        "outputId": "e8f695c1-e634-495f-c3d2-9586e06d4b89"
      },
      "execution_count": 1,
      "outputs": [
        {
          "output_type": "stream",
          "name": "stdout",
          "text": [
            "Looking in indexes: https://pypi.org/simple, https://us-python.pkg.dev/colab-wheels/public/simple/\n",
            "Collecting sklearn\n",
            "  Downloading sklearn-0.0.tar.gz (1.1 kB)\n",
            "Requirement already satisfied: pandas in /usr/local/lib/python3.7/dist-packages (1.3.5)\n",
            "Requirement already satisfied: scikit-learn in /usr/local/lib/python3.7/dist-packages (from sklearn) (1.0.2)\n",
            "Requirement already satisfied: numpy>=1.17.3 in /usr/local/lib/python3.7/dist-packages (from pandas) (1.21.6)\n",
            "Requirement already satisfied: pytz>=2017.3 in /usr/local/lib/python3.7/dist-packages (from pandas) (2022.4)\n",
            "Requirement already satisfied: python-dateutil>=2.7.3 in /usr/local/lib/python3.7/dist-packages (from pandas) (2.8.2)\n",
            "Requirement already satisfied: six>=1.5 in /usr/local/lib/python3.7/dist-packages (from python-dateutil>=2.7.3->pandas) (1.15.0)\n",
            "Requirement already satisfied: joblib>=0.11 in /usr/local/lib/python3.7/dist-packages (from scikit-learn->sklearn) (1.2.0)\n",
            "Requirement already satisfied: scipy>=1.1.0 in /usr/local/lib/python3.7/dist-packages (from scikit-learn->sklearn) (1.7.3)\n",
            "Requirement already satisfied: threadpoolctl>=2.0.0 in /usr/local/lib/python3.7/dist-packages (from scikit-learn->sklearn) (3.1.0)\n",
            "Building wheels for collected packages: sklearn\n",
            "  Building wheel for sklearn (setup.py) ... \u001b[?25l\u001b[?25hdone\n",
            "  Created wheel for sklearn: filename=sklearn-0.0-py2.py3-none-any.whl size=1310 sha256=685165f2561419e0aeb70b5fccd23a90c2a0a776c6ac77dce7bb78ffbc55aeeb\n",
            "  Stored in directory: /root/.cache/pip/wheels/46/ef/c3/157e41f5ee1372d1be90b09f74f82b10e391eaacca8f22d33e\n",
            "Successfully built sklearn\n",
            "Installing collected packages: sklearn\n",
            "Successfully installed sklearn-0.0\n"
          ]
        }
      ]
    },
    {
      "cell_type": "markdown",
      "source": [
        "Read dataset"
      ],
      "metadata": {
        "id": "_0ENIcE_nbos"
      }
    },
    {
      "cell_type": "code",
      "source": [
        "import pandas as pd\n",
        "from google.colab import drive \n",
        "drive = drive.mount('/content/drive') "
      ],
      "metadata": {
        "colab": {
          "base_uri": "https://localhost:8080/"
        },
        "id": "GUvJN9yenfMB",
        "outputId": "acdff3f7-7abe-4d7e-dfa5-07a9401412d7"
      },
      "execution_count": 2,
      "outputs": [
        {
          "output_type": "stream",
          "name": "stdout",
          "text": [
            "Mounted at /content/drive\n"
          ]
        }
      ]
    },
    {
      "cell_type": "markdown",
      "source": [
        "Call Decision Tree from sklearn"
      ],
      "metadata": {
        "id": "VoCc7KGwno_c"
      }
    },
    {
      "cell_type": "code",
      "source": [
        "from sklearn.ensemble import RandomForestClassifier\n",
        "from sklearn.metrics import mean_squared_error, accuracy_score\n",
        "from sklearn.tree import export_graphviz\n",
        "from IPython import display\n",
        "from sklearn import tree\n",
        "from sklearn.metrics import confusion_matrix\n",
        "from sklearn.metrics import accuracy_score\n",
        "from sklearn.metrics import classification_report\n",
        "\n",
        "import pandas as pd\n",
        "import numpy as np\n",
        "\n",
        "'''Read data from CSV with Pandas'''\n",
        "ignored_cols = ['Hash', 'LongName']\n",
        "\n",
        "file = \"drive/MyDrive/elasticsearch/class.csv\"\n",
        "cols = list(pd.read_csv(file, nrows =1).dropna(axis='columns', how='all'))\n",
        "cols.remove('Hash')\n",
        "cols.remove('LongName')\n",
        "\n",
        "df = pd.read_csv(file,  usecols =cols)\n",
        "normalized_df=(df-df.mean())/df.std()\n",
        "\n",
        "'''Split into train and test with numpy (0.75 train, 0.20 test)'''\n",
        "from sklearn.model_selection import train_test_split\n",
        "train, test = train_test_split(df, test_size=0.2)\n",
        "  \n",
        "'''First 4 colums are the data to train'''\n",
        "features = df.columns[:-1]\n",
        "\n",
        "# List of values to try for max_depth:\n",
        "max_depth_range = list(range(1, 30))\n",
        "for depth in max_depth_range:\n",
        "  \n",
        "  '''Create decision tree classifier'''    \n",
        "  model = tree.DecisionTreeClassifier(max_depth = depth,  random_state = 90)\n",
        "  '''Species names to factor'''\n",
        "  y, bugs = pd.factorize(train['Number of Bugs'])\n",
        "  \n",
        "  '''Train and test'''\n",
        "  model.fit(train[features], y)\n",
        "  preds = bugs.values[model.predict(test[features])]\n",
        "  actual_classes = test.iloc[:,-1:]\n",
        "\n",
        "  score = accuracy_score(actual_classes, preds)\n",
        "  accuracy = \"%.2f\" % round(score*100, 2)\n",
        "  cr = confusion_matrix(actual_classes, preds)\n",
        "  tn = cr[1,0]\n",
        "  fn = cr[1,1]\n",
        "\n",
        "  from sklearn.metrics import f1_score\n",
        "  f1 = f1_score(actual_classes, preds, average = 'weighted')\n",
        "  f1_score = \"%.2f\"%round(f1, 2)\n",
        "  print(f'\\ndepth {depth} => bugs-number: {tn + fn} & f1_score: {f1_score}')\n",
        "\n"
      ],
      "metadata": {
        "colab": {
          "base_uri": "https://localhost:8080/"
        },
        "id": "9_KcVobJnv1d",
        "outputId": "cc41ceb7-37d0-4999-fcab-2f6bd072eed3"
      },
      "execution_count": 8,
      "outputs": [
        {
          "output_type": "stream",
          "name": "stdout",
          "text": [
            "\n",
            "depth 1 => bugs-number: 1525 & f1_score: 0.33\n",
            "\n",
            "depth 2 => bugs-number: 1525 & f1_score: 0.33\n",
            "\n",
            "depth 3 => bugs-number: 1525 & f1_score: 0.35\n",
            "\n",
            "depth 4 => bugs-number: 1516 & f1_score: 0.36\n",
            "\n",
            "depth 5 => bugs-number: 1512 & f1_score: 0.37\n",
            "\n",
            "depth 6 => bugs-number: 1485 & f1_score: 0.39\n",
            "\n",
            "depth 7 => bugs-number: 1494 & f1_score: 0.38\n",
            "\n",
            "depth 8 => bugs-number: 1484 & f1_score: 0.41\n",
            "\n",
            "depth 9 => bugs-number: 1460 & f1_score: 0.42\n",
            "\n",
            "depth 10 => bugs-number: 1455 & f1_score: 0.40\n",
            "\n",
            "depth 11 => bugs-number: 1436 & f1_score: 0.41\n",
            "\n",
            "depth 12 => bugs-number: 1438 & f1_score: 0.41\n",
            "\n",
            "depth 13 => bugs-number: 1420 & f1_score: 0.42\n",
            "\n",
            "depth 14 => bugs-number: 1397 & f1_score: 0.43\n",
            "\n",
            "depth 15 => bugs-number: 1380 & f1_score: 0.43\n",
            "\n",
            "depth 16 => bugs-number: 1372 & f1_score: 0.43\n",
            "\n",
            "depth 17 => bugs-number: 1368 & f1_score: 0.43\n",
            "\n",
            "depth 18 => bugs-number: 1348 & f1_score: 0.42\n",
            "\n",
            "depth 19 => bugs-number: 1345 & f1_score: 0.42\n",
            "\n",
            "depth 20 => bugs-number: 1323 & f1_score: 0.42\n",
            "\n",
            "depth 21 => bugs-number: 1321 & f1_score: 0.42\n",
            "\n",
            "depth 22 => bugs-number: 1292 & f1_score: 0.41\n",
            "\n",
            "depth 23 => bugs-number: 1297 & f1_score: 0.42\n",
            "\n",
            "depth 24 => bugs-number: 1293 & f1_score: 0.41\n",
            "\n",
            "depth 25 => bugs-number: 1295 & f1_score: 0.42\n",
            "\n",
            "depth 26 => bugs-number: 1285 & f1_score: 0.42\n",
            "\n",
            "depth 27 => bugs-number: 1281 & f1_score: 0.42\n",
            "\n",
            "depth 28 => bugs-number: 1278 & f1_score: 0.42\n",
            "\n",
            "depth 29 => bugs-number: 1271 & f1_score: 0.41\n"
          ]
        }
      ]
    },
    {
      "cell_type": "code",
      "source": [],
      "metadata": {
        "id": "mgc2yLgoFbYI"
      },
      "execution_count": null,
      "outputs": []
    }
  ]
}