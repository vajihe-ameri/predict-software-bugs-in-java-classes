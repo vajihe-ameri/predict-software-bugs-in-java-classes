{
  "nbformat": 4,
  "nbformat_minor": 0,
  "metadata": {
    "colab": {
      "name": "Untitled2.ipynb",
      "provenance": [],
      "authorship_tag": "ABX9TyP+QVI2CCsp8OKX9WI1eqQs",
      "include_colab_link": true
    },
    "kernelspec": {
      "name": "python3",
      "display_name": "Python 3"
    },
    "language_info": {
      "name": "python"
    }
  },
  "cells": [
    {
      "cell_type": "markdown",
      "metadata": {
        "id": "view-in-github",
        "colab_type": "text"
      },
      "source": [
        "<a href=\"https://colab.research.google.com/github/vajihe-ameri/predict-software-bugs-in-java-classes/blob/main/DT-breadleafCommerce.ipynb\" target=\"_parent\"><img src=\"https://colab.research.google.com/assets/colab-badge.svg\" alt=\"Open In Colab\"/></a>"
      ]
    },
    {
      "cell_type": "markdown",
      "source": [
        "Install requirements"
      ],
      "metadata": {
        "id": "H8Cz6wdlnY4z"
      }
    },
    {
      "cell_type": "code",
      "source": [
        "!pip install sklearn pandas"
      ],
      "metadata": {
        "colab": {
          "base_uri": "https://localhost:8080/"
        },
        "id": "7moBUzj9nZnR",
        "outputId": "a9f9c4c3-e65c-41f0-a44a-1ca16aea5010"
      },
      "execution_count": 1,
      "outputs": [
        {
          "output_type": "stream",
          "name": "stdout",
          "text": [
            "Requirement already satisfied: sklearn in /usr/local/lib/python3.7/dist-packages (0.0)\n",
            "Requirement already satisfied: pandas in /usr/local/lib/python3.7/dist-packages (1.3.5)\n",
            "Requirement already satisfied: scikit-learn in /usr/local/lib/python3.7/dist-packages (from sklearn) (1.0.2)\n",
            "Requirement already satisfied: numpy>=1.17.3 in /usr/local/lib/python3.7/dist-packages (from pandas) (1.21.6)\n",
            "Requirement already satisfied: python-dateutil>=2.7.3 in /usr/local/lib/python3.7/dist-packages (from pandas) (2.8.2)\n",
            "Requirement already satisfied: pytz>=2017.3 in /usr/local/lib/python3.7/dist-packages (from pandas) (2022.1)\n",
            "Requirement already satisfied: six>=1.5 in /usr/local/lib/python3.7/dist-packages (from python-dateutil>=2.7.3->pandas) (1.15.0)\n",
            "Requirement already satisfied: threadpoolctl>=2.0.0 in /usr/local/lib/python3.7/dist-packages (from scikit-learn->sklearn) (3.1.0)\n",
            "Requirement already satisfied: scipy>=1.1.0 in /usr/local/lib/python3.7/dist-packages (from scikit-learn->sklearn) (1.4.1)\n",
            "Requirement already satisfied: joblib>=0.11 in /usr/local/lib/python3.7/dist-packages (from scikit-learn->sklearn) (1.1.0)\n"
          ]
        }
      ]
    },
    {
      "cell_type": "markdown",
      "source": [
        "Read dataset"
      ],
      "metadata": {
        "id": "_0ENIcE_nbos"
      }
    },
    {
      "cell_type": "code",
      "source": [
        "import pandas as pd\n",
        "from google.colab import drive \n",
        "drive = drive.mount('/content/drive') "
      ],
      "metadata": {
        "colab": {
          "base_uri": "https://localhost:8080/"
        },
        "id": "GUvJN9yenfMB",
        "outputId": "bf4e3652-5eae-4f57-a4ba-4c078b20f5ed"
      },
      "execution_count": 2,
      "outputs": [
        {
          "output_type": "stream",
          "name": "stdout",
          "text": [
            "Mounted at /content/drive\n"
          ]
        }
      ]
    },
    {
      "cell_type": "markdown",
      "source": [
        "Call Decision Tree from sklearn"
      ],
      "metadata": {
        "id": "VoCc7KGwno_c"
      }
    },
    {
      "cell_type": "code",
      "source": [
        "from sklearn.ensemble import RandomForestClassifier\n",
        "from sklearn.metrics import mean_squared_error, accuracy_score\n",
        "from sklearn.tree import export_graphviz\n",
        "from IPython import display\n",
        "from sklearn import tree\n",
        "\n",
        "import pandas as pd\n",
        "import numpy as np\n",
        "\n",
        "'''Read data from CSV with Pandas'''\n",
        "ignored_cols = ['Hash', 'LongName']\n",
        "\n",
        "file = \"drive/MyDrive/class.csv\"\n",
        "cols = list(pd.read_csv(file, nrows =1).dropna(axis='columns', how='all'))\n",
        "cols.remove('Hash')\n",
        "cols.remove('LongName')\n",
        " \n",
        "n =10\n",
        "\n",
        "col  = [cols[i:i + n] for i in range(0, len(cols), n)]\n",
        "\n",
        "for item in col:\n",
        "  item.append('Number of Bugs') \n",
        "  output = ', '.join(item)\n",
        "  df = pd.read_csv(file,  usecols =item)\n",
        "  normalized_df=(df-df.mean())/df.std()\n",
        "\n",
        "  '''Split into train and test with numpy (0.75 train, 0.25 test)'''\n",
        "  from sklearn.model_selection import train_test_split\n",
        "  train, test = train_test_split(df, test_size=0.2, random_state=23)\n",
        "    \n",
        "  '''First 4 colums are the data to train'''\n",
        "  features = df.columns[:-1]\n",
        "\n",
        "  # List of values to try for max_depth:\n",
        "  max_depth_range = list(range(1, 10))\n",
        "  for depth in max_depth_range:\n",
        "    \n",
        "    '''Create decision tree classifier'''    \n",
        "    model = tree.DecisionTreeClassifier(max_depth = depth,  random_state = 0)\n",
        "\n",
        "    '''Species names to factor'''\n",
        "    y, bugs = pd.factorize(train['Number of Bugs'])\n",
        "    \n",
        "    '''Train and test'''\n",
        "    model.fit(train[features], y)\n",
        "    preds = bugs.values[model.predict(test[features])]\n",
        "    actual_classes = test.iloc[:,-1:]\n",
        "\n",
        "    score = accuracy_score(actual_classes, preds)\n",
        "    accuracy = \"%.2f\" % round(score*100, 2)\n",
        "\n",
        "    from sklearn.metrics import f1_score\n",
        "    f1 = f1_score(actual_classes, preds, average = 'macro')\n",
        "    f1_score = \"%.2f\"%round(f1, 2)\n",
        "    output+= f\",\\tAcc: {accuracy}\\tF1: {f1_score}\"\n",
        "    # print(f'\\nbreadleaf commerce => Accuracy: {accuracy} ; F1: {f1_score}')\n",
        "    print('depth',depth,':',output)\n",
        "  print('')\n"
      ],
      "metadata": {
        "colab": {
          "base_uri": "https://localhost:8080/"
        },
        "id": "9_KcVobJnv1d",
        "outputId": "f5f13c83-89d1-4c8b-848a-fb42c94e9787"
      },
      "execution_count": 4,
      "outputs": [
        {
          "output_type": "stream",
          "name": "stdout",
          "text": [
            "depth 1 : CC, CCL, CCO, CI, CLC, CLLC, LDC, LLDC, LCOM5, NL, Number of Bugs,\tAcc: 50.68\tF1: 0.06\n",
            "depth 2 : CC, CCL, CCO, CI, CLC, CLLC, LDC, LLDC, LCOM5, NL, Number of Bugs,\tAcc: 50.68\tF1: 0.06,\tAcc: 50.34\tF1: 0.07\n",
            "depth 3 : CC, CCL, CCO, CI, CLC, CLLC, LDC, LLDC, LCOM5, NL, Number of Bugs,\tAcc: 50.68\tF1: 0.06,\tAcc: 50.34\tF1: 0.07,\tAcc: 52.36\tF1: 0.07\n",
            "depth 4 : CC, CCL, CCO, CI, CLC, CLLC, LDC, LLDC, LCOM5, NL, Number of Bugs,\tAcc: 50.68\tF1: 0.06,\tAcc: 50.34\tF1: 0.07,\tAcc: 52.36\tF1: 0.07,\tAcc: 51.18\tF1: 0.08\n",
            "depth 5 : CC, CCL, CCO, CI, CLC, CLLC, LDC, LLDC, LCOM5, NL, Number of Bugs,\tAcc: 50.68\tF1: 0.06,\tAcc: 50.34\tF1: 0.07,\tAcc: 52.36\tF1: 0.07,\tAcc: 51.18\tF1: 0.08,\tAcc: 51.01\tF1: 0.17\n",
            "depth 6 : CC, CCL, CCO, CI, CLC, CLLC, LDC, LLDC, LCOM5, NL, Number of Bugs,\tAcc: 50.68\tF1: 0.06,\tAcc: 50.34\tF1: 0.07,\tAcc: 52.36\tF1: 0.07,\tAcc: 51.18\tF1: 0.08,\tAcc: 51.01\tF1: 0.17,\tAcc: 52.03\tF1: 0.23\n",
            "depth 7 : CC, CCL, CCO, CI, CLC, CLLC, LDC, LLDC, LCOM5, NL, Number of Bugs,\tAcc: 50.68\tF1: 0.06,\tAcc: 50.34\tF1: 0.07,\tAcc: 52.36\tF1: 0.07,\tAcc: 51.18\tF1: 0.08,\tAcc: 51.01\tF1: 0.17,\tAcc: 52.03\tF1: 0.23,\tAcc: 52.87\tF1: 0.20\n",
            "depth 8 : CC, CCL, CCO, CI, CLC, CLLC, LDC, LLDC, LCOM5, NL, Number of Bugs,\tAcc: 50.68\tF1: 0.06,\tAcc: 50.34\tF1: 0.07,\tAcc: 52.36\tF1: 0.07,\tAcc: 51.18\tF1: 0.08,\tAcc: 51.01\tF1: 0.17,\tAcc: 52.03\tF1: 0.23,\tAcc: 52.87\tF1: 0.20,\tAcc: 51.69\tF1: 0.17\n",
            "depth 9 : CC, CCL, CCO, CI, CLC, CLLC, LDC, LLDC, LCOM5, NL, Number of Bugs,\tAcc: 50.68\tF1: 0.06,\tAcc: 50.34\tF1: 0.07,\tAcc: 52.36\tF1: 0.07,\tAcc: 51.18\tF1: 0.08,\tAcc: 51.01\tF1: 0.17,\tAcc: 52.03\tF1: 0.23,\tAcc: 52.87\tF1: 0.20,\tAcc: 51.69\tF1: 0.17,\tAcc: 53.38\tF1: 0.22\n",
            "\n",
            "depth 1 : NLE, WMC, CBO, CBOI, NII, NOI, RFC, AD, CD, CLOC, Number of Bugs,\tAcc: 50.68\tF1: 0.06\n",
            "depth 2 : NLE, WMC, CBO, CBOI, NII, NOI, RFC, AD, CD, CLOC, Number of Bugs,\tAcc: 50.68\tF1: 0.06,\tAcc: 51.86\tF1: 0.07\n",
            "depth 3 : NLE, WMC, CBO, CBOI, NII, NOI, RFC, AD, CD, CLOC, Number of Bugs,\tAcc: 50.68\tF1: 0.06,\tAcc: 51.86\tF1: 0.07,\tAcc: 51.52\tF1: 0.07\n",
            "depth 4 : NLE, WMC, CBO, CBOI, NII, NOI, RFC, AD, CD, CLOC, Number of Bugs,\tAcc: 50.68\tF1: 0.06,\tAcc: 51.86\tF1: 0.07,\tAcc: 51.52\tF1: 0.07,\tAcc: 51.35\tF1: 0.10\n",
            "depth 5 : NLE, WMC, CBO, CBOI, NII, NOI, RFC, AD, CD, CLOC, Number of Bugs,\tAcc: 50.68\tF1: 0.06,\tAcc: 51.86\tF1: 0.07,\tAcc: 51.52\tF1: 0.07,\tAcc: 51.35\tF1: 0.10,\tAcc: 52.36\tF1: 0.11\n",
            "depth 6 : NLE, WMC, CBO, CBOI, NII, NOI, RFC, AD, CD, CLOC, Number of Bugs,\tAcc: 50.68\tF1: 0.06,\tAcc: 51.86\tF1: 0.07,\tAcc: 51.52\tF1: 0.07,\tAcc: 51.35\tF1: 0.10,\tAcc: 52.36\tF1: 0.11,\tAcc: 52.70\tF1: 0.22\n",
            "depth 7 : NLE, WMC, CBO, CBOI, NII, NOI, RFC, AD, CD, CLOC, Number of Bugs,\tAcc: 50.68\tF1: 0.06,\tAcc: 51.86\tF1: 0.07,\tAcc: 51.52\tF1: 0.07,\tAcc: 51.35\tF1: 0.10,\tAcc: 52.36\tF1: 0.11,\tAcc: 52.70\tF1: 0.22,\tAcc: 52.03\tF1: 0.24\n",
            "depth 8 : NLE, WMC, CBO, CBOI, NII, NOI, RFC, AD, CD, CLOC, Number of Bugs,\tAcc: 50.68\tF1: 0.06,\tAcc: 51.86\tF1: 0.07,\tAcc: 51.52\tF1: 0.07,\tAcc: 51.35\tF1: 0.10,\tAcc: 52.36\tF1: 0.11,\tAcc: 52.70\tF1: 0.22,\tAcc: 52.03\tF1: 0.24,\tAcc: 50.34\tF1: 0.21\n",
            "depth 9 : NLE, WMC, CBO, CBOI, NII, NOI, RFC, AD, CD, CLOC, Number of Bugs,\tAcc: 50.68\tF1: 0.06,\tAcc: 51.86\tF1: 0.07,\tAcc: 51.52\tF1: 0.07,\tAcc: 51.35\tF1: 0.10,\tAcc: 52.36\tF1: 0.11,\tAcc: 52.70\tF1: 0.22,\tAcc: 52.03\tF1: 0.24,\tAcc: 50.34\tF1: 0.21,\tAcc: 52.03\tF1: 0.20\n",
            "\n",
            "depth 1 : DLOC, PDA, PUA, TCD, TCLOC, DIT, NOA, NOC, NOD, NOP, Number of Bugs,\tAcc: 50.68\tF1: 0.06\n",
            "depth 2 : DLOC, PDA, PUA, TCD, TCLOC, DIT, NOA, NOC, NOD, NOP, Number of Bugs,\tAcc: 50.68\tF1: 0.06,\tAcc: 50.34\tF1: 0.06\n",
            "depth 3 : DLOC, PDA, PUA, TCD, TCLOC, DIT, NOA, NOC, NOD, NOP, Number of Bugs,\tAcc: 50.68\tF1: 0.06,\tAcc: 50.34\tF1: 0.06,\tAcc: 51.01\tF1: 0.07\n",
            "depth 4 : DLOC, PDA, PUA, TCD, TCLOC, DIT, NOA, NOC, NOD, NOP, Number of Bugs,\tAcc: 50.68\tF1: 0.06,\tAcc: 50.34\tF1: 0.06,\tAcc: 51.01\tF1: 0.07,\tAcc: 52.70\tF1: 0.12\n",
            "depth 5 : DLOC, PDA, PUA, TCD, TCLOC, DIT, NOA, NOC, NOD, NOP, Number of Bugs,\tAcc: 50.68\tF1: 0.06,\tAcc: 50.34\tF1: 0.06,\tAcc: 51.01\tF1: 0.07,\tAcc: 52.70\tF1: 0.12,\tAcc: 52.87\tF1: 0.14\n",
            "depth 6 : DLOC, PDA, PUA, TCD, TCLOC, DIT, NOA, NOC, NOD, NOP, Number of Bugs,\tAcc: 50.68\tF1: 0.06,\tAcc: 50.34\tF1: 0.06,\tAcc: 51.01\tF1: 0.07,\tAcc: 52.70\tF1: 0.12,\tAcc: 52.87\tF1: 0.14,\tAcc: 52.70\tF1: 0.19\n",
            "depth 7 : DLOC, PDA, PUA, TCD, TCLOC, DIT, NOA, NOC, NOD, NOP, Number of Bugs,\tAcc: 50.68\tF1: 0.06,\tAcc: 50.34\tF1: 0.06,\tAcc: 51.01\tF1: 0.07,\tAcc: 52.70\tF1: 0.12,\tAcc: 52.87\tF1: 0.14,\tAcc: 52.70\tF1: 0.19,\tAcc: 53.72\tF1: 0.18\n",
            "depth 8 : DLOC, PDA, PUA, TCD, TCLOC, DIT, NOA, NOC, NOD, NOP, Number of Bugs,\tAcc: 50.68\tF1: 0.06,\tAcc: 50.34\tF1: 0.06,\tAcc: 51.01\tF1: 0.07,\tAcc: 52.70\tF1: 0.12,\tAcc: 52.87\tF1: 0.14,\tAcc: 52.70\tF1: 0.19,\tAcc: 53.72\tF1: 0.18,\tAcc: 54.56\tF1: 0.20\n",
            "depth 9 : DLOC, PDA, PUA, TCD, TCLOC, DIT, NOA, NOC, NOD, NOP, Number of Bugs,\tAcc: 50.68\tF1: 0.06,\tAcc: 50.34\tF1: 0.06,\tAcc: 51.01\tF1: 0.07,\tAcc: 52.70\tF1: 0.12,\tAcc: 52.87\tF1: 0.14,\tAcc: 52.70\tF1: 0.19,\tAcc: 53.72\tF1: 0.18,\tAcc: 54.56\tF1: 0.20,\tAcc: 54.39\tF1: 0.27\n",
            "\n",
            "depth 1 : LLOC, LOC, NA, NG, NLA, NLG, NLM, NLPA, NLPM, NLS, Number of Bugs,\tAcc: 52.87\tF1: 0.08\n",
            "depth 2 : LLOC, LOC, NA, NG, NLA, NLG, NLM, NLPA, NLPM, NLS, Number of Bugs,\tAcc: 52.87\tF1: 0.08,\tAcc: 51.52\tF1: 0.07\n",
            "depth 3 : LLOC, LOC, NA, NG, NLA, NLG, NLM, NLPA, NLPM, NLS, Number of Bugs,\tAcc: 52.87\tF1: 0.08,\tAcc: 51.52\tF1: 0.07,\tAcc: 52.20\tF1: 0.08\n",
            "depth 4 : LLOC, LOC, NA, NG, NLA, NLG, NLM, NLPA, NLPM, NLS, Number of Bugs,\tAcc: 52.87\tF1: 0.08,\tAcc: 51.52\tF1: 0.07,\tAcc: 52.20\tF1: 0.08,\tAcc: 51.69\tF1: 0.10\n",
            "depth 5 : LLOC, LOC, NA, NG, NLA, NLG, NLM, NLPA, NLPM, NLS, Number of Bugs,\tAcc: 52.87\tF1: 0.08,\tAcc: 51.52\tF1: 0.07,\tAcc: 52.20\tF1: 0.08,\tAcc: 51.69\tF1: 0.10,\tAcc: 53.04\tF1: 0.15\n",
            "depth 6 : LLOC, LOC, NA, NG, NLA, NLG, NLM, NLPA, NLPM, NLS, Number of Bugs,\tAcc: 52.87\tF1: 0.08,\tAcc: 51.52\tF1: 0.07,\tAcc: 52.20\tF1: 0.08,\tAcc: 51.69\tF1: 0.10,\tAcc: 53.04\tF1: 0.15,\tAcc: 52.53\tF1: 0.23\n",
            "depth 7 : LLOC, LOC, NA, NG, NLA, NLG, NLM, NLPA, NLPM, NLS, Number of Bugs,\tAcc: 52.87\tF1: 0.08,\tAcc: 51.52\tF1: 0.07,\tAcc: 52.20\tF1: 0.08,\tAcc: 51.69\tF1: 0.10,\tAcc: 53.04\tF1: 0.15,\tAcc: 52.53\tF1: 0.23,\tAcc: 54.05\tF1: 0.27\n",
            "depth 8 : LLOC, LOC, NA, NG, NLA, NLG, NLM, NLPA, NLPM, NLS, Number of Bugs,\tAcc: 52.87\tF1: 0.08,\tAcc: 51.52\tF1: 0.07,\tAcc: 52.20\tF1: 0.08,\tAcc: 51.69\tF1: 0.10,\tAcc: 53.04\tF1: 0.15,\tAcc: 52.53\tF1: 0.23,\tAcc: 54.05\tF1: 0.27,\tAcc: 56.08\tF1: 0.29\n",
            "depth 9 : LLOC, LOC, NA, NG, NLA, NLG, NLM, NLPA, NLPM, NLS, Number of Bugs,\tAcc: 52.87\tF1: 0.08,\tAcc: 51.52\tF1: 0.07,\tAcc: 52.20\tF1: 0.08,\tAcc: 51.69\tF1: 0.10,\tAcc: 53.04\tF1: 0.15,\tAcc: 52.53\tF1: 0.23,\tAcc: 54.05\tF1: 0.27,\tAcc: 56.08\tF1: 0.29,\tAcc: 54.05\tF1: 0.25\n",
            "\n",
            "depth 1 : NM, NOS, NPA, NPM, NS, TLLOC, TLOC, TNA, TNG, TNLA, Number of Bugs,\tAcc: 53.38\tF1: 0.08\n",
            "depth 2 : NM, NOS, NPA, NPM, NS, TLLOC, TLOC, TNA, TNG, TNLA, Number of Bugs,\tAcc: 53.38\tF1: 0.08,\tAcc: 53.38\tF1: 0.08\n",
            "depth 3 : NM, NOS, NPA, NPM, NS, TLLOC, TLOC, TNA, TNG, TNLA, Number of Bugs,\tAcc: 53.38\tF1: 0.08,\tAcc: 53.38\tF1: 0.08,\tAcc: 53.21\tF1: 0.08\n",
            "depth 4 : NM, NOS, NPA, NPM, NS, TLLOC, TLOC, TNA, TNG, TNLA, Number of Bugs,\tAcc: 53.38\tF1: 0.08,\tAcc: 53.38\tF1: 0.08,\tAcc: 53.21\tF1: 0.08,\tAcc: 53.21\tF1: 0.08\n",
            "depth 5 : NM, NOS, NPA, NPM, NS, TLLOC, TLOC, TNA, TNG, TNLA, Number of Bugs,\tAcc: 53.38\tF1: 0.08,\tAcc: 53.38\tF1: 0.08,\tAcc: 53.21\tF1: 0.08,\tAcc: 53.21\tF1: 0.08,\tAcc: 52.70\tF1: 0.12\n",
            "depth 6 : NM, NOS, NPA, NPM, NS, TLLOC, TLOC, TNA, TNG, TNLA, Number of Bugs,\tAcc: 53.38\tF1: 0.08,\tAcc: 53.38\tF1: 0.08,\tAcc: 53.21\tF1: 0.08,\tAcc: 53.21\tF1: 0.08,\tAcc: 52.70\tF1: 0.12,\tAcc: 53.89\tF1: 0.12\n",
            "depth 7 : NM, NOS, NPA, NPM, NS, TLLOC, TLOC, TNA, TNG, TNLA, Number of Bugs,\tAcc: 53.38\tF1: 0.08,\tAcc: 53.38\tF1: 0.08,\tAcc: 53.21\tF1: 0.08,\tAcc: 53.21\tF1: 0.08,\tAcc: 52.70\tF1: 0.12,\tAcc: 53.89\tF1: 0.12,\tAcc: 53.72\tF1: 0.23\n",
            "depth 8 : NM, NOS, NPA, NPM, NS, TLLOC, TLOC, TNA, TNG, TNLA, Number of Bugs,\tAcc: 53.38\tF1: 0.08,\tAcc: 53.38\tF1: 0.08,\tAcc: 53.21\tF1: 0.08,\tAcc: 53.21\tF1: 0.08,\tAcc: 52.70\tF1: 0.12,\tAcc: 53.89\tF1: 0.12,\tAcc: 53.72\tF1: 0.23,\tAcc: 54.73\tF1: 0.29\n",
            "depth 9 : NM, NOS, NPA, NPM, NS, TLLOC, TLOC, TNA, TNG, TNLA, Number of Bugs,\tAcc: 53.38\tF1: 0.08,\tAcc: 53.38\tF1: 0.08,\tAcc: 53.21\tF1: 0.08,\tAcc: 53.21\tF1: 0.08,\tAcc: 52.70\tF1: 0.12,\tAcc: 53.89\tF1: 0.12,\tAcc: 53.72\tF1: 0.23,\tAcc: 54.73\tF1: 0.29,\tAcc: 55.07\tF1: 0.29\n",
            "\n",
            "depth 1 : TNLG, TNLM, TNLPA, TNLPM, TNLS, TNM, TNOS, TNPA, TNPM, TNS, Number of Bugs,\tAcc: 50.68\tF1: 0.06\n",
            "depth 2 : TNLG, TNLM, TNLPA, TNLPM, TNLS, TNM, TNOS, TNPA, TNPM, TNS, Number of Bugs,\tAcc: 50.68\tF1: 0.06,\tAcc: 51.35\tF1: 0.08\n",
            "depth 3 : TNLG, TNLM, TNLPA, TNLPM, TNLS, TNM, TNOS, TNPA, TNPM, TNS, Number of Bugs,\tAcc: 50.68\tF1: 0.06,\tAcc: 51.35\tF1: 0.08,\tAcc: 52.70\tF1: 0.10\n",
            "depth 4 : TNLG, TNLM, TNLPA, TNLPM, TNLS, TNM, TNOS, TNPA, TNPM, TNS, Number of Bugs,\tAcc: 50.68\tF1: 0.06,\tAcc: 51.35\tF1: 0.08,\tAcc: 52.70\tF1: 0.10,\tAcc: 53.38\tF1: 0.11\n",
            "depth 5 : TNLG, TNLM, TNLPA, TNLPM, TNLS, TNM, TNOS, TNPA, TNPM, TNS, Number of Bugs,\tAcc: 50.68\tF1: 0.06,\tAcc: 51.35\tF1: 0.08,\tAcc: 52.70\tF1: 0.10,\tAcc: 53.38\tF1: 0.11,\tAcc: 52.53\tF1: 0.13\n",
            "depth 6 : TNLG, TNLM, TNLPA, TNLPM, TNLS, TNM, TNOS, TNPA, TNPM, TNS, Number of Bugs,\tAcc: 50.68\tF1: 0.06,\tAcc: 51.35\tF1: 0.08,\tAcc: 52.70\tF1: 0.10,\tAcc: 53.38\tF1: 0.11,\tAcc: 52.53\tF1: 0.13,\tAcc: 50.68\tF1: 0.20\n",
            "depth 7 : TNLG, TNLM, TNLPA, TNLPM, TNLS, TNM, TNOS, TNPA, TNPM, TNS, Number of Bugs,\tAcc: 50.68\tF1: 0.06,\tAcc: 51.35\tF1: 0.08,\tAcc: 52.70\tF1: 0.10,\tAcc: 53.38\tF1: 0.11,\tAcc: 52.53\tF1: 0.13,\tAcc: 50.68\tF1: 0.20,\tAcc: 50.34\tF1: 0.16\n",
            "depth 8 : TNLG, TNLM, TNLPA, TNLPM, TNLS, TNM, TNOS, TNPA, TNPM, TNS, Number of Bugs,\tAcc: 50.68\tF1: 0.06,\tAcc: 51.35\tF1: 0.08,\tAcc: 52.70\tF1: 0.10,\tAcc: 53.38\tF1: 0.11,\tAcc: 52.53\tF1: 0.13,\tAcc: 50.68\tF1: 0.20,\tAcc: 50.34\tF1: 0.16,\tAcc: 50.84\tF1: 0.19\n",
            "depth 9 : TNLG, TNLM, TNLPA, TNLPM, TNLS, TNM, TNOS, TNPA, TNPM, TNS, Number of Bugs,\tAcc: 50.68\tF1: 0.06,\tAcc: 51.35\tF1: 0.08,\tAcc: 52.70\tF1: 0.10,\tAcc: 53.38\tF1: 0.11,\tAcc: 52.53\tF1: 0.13,\tAcc: 50.68\tF1: 0.20,\tAcc: 50.34\tF1: 0.16,\tAcc: 50.84\tF1: 0.19,\tAcc: 49.49\tF1: 0.18\n",
            "\n",
            "depth 1 : WarningBlocker, WarningCritical, WarningInfo, WarningMajor, WarningMinor, Android Rules, Basic Rules, Brace Rules, Clone Implementation Rules, Code Size Rules, Number of Bugs,\tAcc: 50.68\tF1: 0.06\n",
            "depth 2 : WarningBlocker, WarningCritical, WarningInfo, WarningMajor, WarningMinor, Android Rules, Basic Rules, Brace Rules, Clone Implementation Rules, Code Size Rules, Number of Bugs,\tAcc: 50.68\tF1: 0.06,\tAcc: 52.20\tF1: 0.07\n",
            "depth 3 : WarningBlocker, WarningCritical, WarningInfo, WarningMajor, WarningMinor, Android Rules, Basic Rules, Brace Rules, Clone Implementation Rules, Code Size Rules, Number of Bugs,\tAcc: 50.68\tF1: 0.06,\tAcc: 52.20\tF1: 0.07,\tAcc: 52.20\tF1: 0.07\n",
            "depth 4 : WarningBlocker, WarningCritical, WarningInfo, WarningMajor, WarningMinor, Android Rules, Basic Rules, Brace Rules, Clone Implementation Rules, Code Size Rules, Number of Bugs,\tAcc: 50.68\tF1: 0.06,\tAcc: 52.20\tF1: 0.07,\tAcc: 52.20\tF1: 0.07,\tAcc: 52.03\tF1: 0.08\n",
            "depth 5 : WarningBlocker, WarningCritical, WarningInfo, WarningMajor, WarningMinor, Android Rules, Basic Rules, Brace Rules, Clone Implementation Rules, Code Size Rules, Number of Bugs,\tAcc: 50.68\tF1: 0.06,\tAcc: 52.20\tF1: 0.07,\tAcc: 52.20\tF1: 0.07,\tAcc: 52.03\tF1: 0.08,\tAcc: 53.21\tF1: 0.09\n",
            "depth 6 : WarningBlocker, WarningCritical, WarningInfo, WarningMajor, WarningMinor, Android Rules, Basic Rules, Brace Rules, Clone Implementation Rules, Code Size Rules, Number of Bugs,\tAcc: 50.68\tF1: 0.06,\tAcc: 52.20\tF1: 0.07,\tAcc: 52.20\tF1: 0.07,\tAcc: 52.03\tF1: 0.08,\tAcc: 53.21\tF1: 0.09,\tAcc: 52.87\tF1: 0.15\n",
            "depth 7 : WarningBlocker, WarningCritical, WarningInfo, WarningMajor, WarningMinor, Android Rules, Basic Rules, Brace Rules, Clone Implementation Rules, Code Size Rules, Number of Bugs,\tAcc: 50.68\tF1: 0.06,\tAcc: 52.20\tF1: 0.07,\tAcc: 52.20\tF1: 0.07,\tAcc: 52.03\tF1: 0.08,\tAcc: 53.21\tF1: 0.09,\tAcc: 52.87\tF1: 0.15,\tAcc: 52.87\tF1: 0.14\n",
            "depth 8 : WarningBlocker, WarningCritical, WarningInfo, WarningMajor, WarningMinor, Android Rules, Basic Rules, Brace Rules, Clone Implementation Rules, Code Size Rules, Number of Bugs,\tAcc: 50.68\tF1: 0.06,\tAcc: 52.20\tF1: 0.07,\tAcc: 52.20\tF1: 0.07,\tAcc: 52.03\tF1: 0.08,\tAcc: 53.21\tF1: 0.09,\tAcc: 52.87\tF1: 0.15,\tAcc: 52.87\tF1: 0.14,\tAcc: 53.72\tF1: 0.15\n",
            "depth 9 : WarningBlocker, WarningCritical, WarningInfo, WarningMajor, WarningMinor, Android Rules, Basic Rules, Brace Rules, Clone Implementation Rules, Code Size Rules, Number of Bugs,\tAcc: 50.68\tF1: 0.06,\tAcc: 52.20\tF1: 0.07,\tAcc: 52.20\tF1: 0.07,\tAcc: 52.03\tF1: 0.08,\tAcc: 53.21\tF1: 0.09,\tAcc: 52.87\tF1: 0.15,\tAcc: 52.87\tF1: 0.14,\tAcc: 53.72\tF1: 0.15,\tAcc: 51.69\tF1: 0.14\n",
            "\n",
            "depth 1 : Comment Rules, Controversial Rules, Coupling Rules, Design Rules, Empty Code Rules, Finalizer Rules, Import Statement Rules, J2EE Rules, JUnit Rules, Jakarta Commons Logging Rules, Number of Bugs,\tAcc: 50.68\tF1: 0.06\n",
            "depth 2 : Comment Rules, Controversial Rules, Coupling Rules, Design Rules, Empty Code Rules, Finalizer Rules, Import Statement Rules, J2EE Rules, JUnit Rules, Jakarta Commons Logging Rules, Number of Bugs,\tAcc: 50.68\tF1: 0.06,\tAcc: 51.52\tF1: 0.06\n",
            "depth 3 : Comment Rules, Controversial Rules, Coupling Rules, Design Rules, Empty Code Rules, Finalizer Rules, Import Statement Rules, J2EE Rules, JUnit Rules, Jakarta Commons Logging Rules, Number of Bugs,\tAcc: 50.68\tF1: 0.06,\tAcc: 51.52\tF1: 0.06,\tAcc: 51.52\tF1: 0.10\n",
            "depth 4 : Comment Rules, Controversial Rules, Coupling Rules, Design Rules, Empty Code Rules, Finalizer Rules, Import Statement Rules, J2EE Rules, JUnit Rules, Jakarta Commons Logging Rules, Number of Bugs,\tAcc: 50.68\tF1: 0.06,\tAcc: 51.52\tF1: 0.06,\tAcc: 51.52\tF1: 0.10,\tAcc: 51.52\tF1: 0.09\n",
            "depth 5 : Comment Rules, Controversial Rules, Coupling Rules, Design Rules, Empty Code Rules, Finalizer Rules, Import Statement Rules, J2EE Rules, JUnit Rules, Jakarta Commons Logging Rules, Number of Bugs,\tAcc: 50.68\tF1: 0.06,\tAcc: 51.52\tF1: 0.06,\tAcc: 51.52\tF1: 0.10,\tAcc: 51.52\tF1: 0.09,\tAcc: 51.35\tF1: 0.10\n",
            "depth 6 : Comment Rules, Controversial Rules, Coupling Rules, Design Rules, Empty Code Rules, Finalizer Rules, Import Statement Rules, J2EE Rules, JUnit Rules, Jakarta Commons Logging Rules, Number of Bugs,\tAcc: 50.68\tF1: 0.06,\tAcc: 51.52\tF1: 0.06,\tAcc: 51.52\tF1: 0.10,\tAcc: 51.52\tF1: 0.09,\tAcc: 51.35\tF1: 0.10,\tAcc: 51.69\tF1: 0.10\n",
            "depth 7 : Comment Rules, Controversial Rules, Coupling Rules, Design Rules, Empty Code Rules, Finalizer Rules, Import Statement Rules, J2EE Rules, JUnit Rules, Jakarta Commons Logging Rules, Number of Bugs,\tAcc: 50.68\tF1: 0.06,\tAcc: 51.52\tF1: 0.06,\tAcc: 51.52\tF1: 0.10,\tAcc: 51.52\tF1: 0.09,\tAcc: 51.35\tF1: 0.10,\tAcc: 51.69\tF1: 0.10,\tAcc: 52.03\tF1: 0.11\n",
            "depth 8 : Comment Rules, Controversial Rules, Coupling Rules, Design Rules, Empty Code Rules, Finalizer Rules, Import Statement Rules, J2EE Rules, JUnit Rules, Jakarta Commons Logging Rules, Number of Bugs,\tAcc: 50.68\tF1: 0.06,\tAcc: 51.52\tF1: 0.06,\tAcc: 51.52\tF1: 0.10,\tAcc: 51.52\tF1: 0.09,\tAcc: 51.35\tF1: 0.10,\tAcc: 51.69\tF1: 0.10,\tAcc: 52.03\tF1: 0.11,\tAcc: 52.87\tF1: 0.12\n",
            "depth 9 : Comment Rules, Controversial Rules, Coupling Rules, Design Rules, Empty Code Rules, Finalizer Rules, Import Statement Rules, J2EE Rules, JUnit Rules, Jakarta Commons Logging Rules, Number of Bugs,\tAcc: 50.68\tF1: 0.06,\tAcc: 51.52\tF1: 0.06,\tAcc: 51.52\tF1: 0.10,\tAcc: 51.52\tF1: 0.09,\tAcc: 51.35\tF1: 0.10,\tAcc: 51.69\tF1: 0.10,\tAcc: 52.03\tF1: 0.11,\tAcc: 52.87\tF1: 0.12,\tAcc: 53.04\tF1: 0.13\n",
            "\n",
            "depth 1 : Java Logging Rules, JavaBean Rules, MigratingToJUnit4 Rules, Migration Rules, Migration13 Rules, Migration14 Rules, Migration15 Rules, Naming Rules, Optimization Rules, Security Code Guideline Rules, Number of Bugs,\tAcc: 50.68\tF1: 0.06\n",
            "depth 2 : Java Logging Rules, JavaBean Rules, MigratingToJUnit4 Rules, Migration Rules, Migration13 Rules, Migration14 Rules, Migration15 Rules, Naming Rules, Optimization Rules, Security Code Guideline Rules, Number of Bugs,\tAcc: 50.68\tF1: 0.06,\tAcc: 51.01\tF1: 0.10\n",
            "depth 3 : Java Logging Rules, JavaBean Rules, MigratingToJUnit4 Rules, Migration Rules, Migration13 Rules, Migration14 Rules, Migration15 Rules, Naming Rules, Optimization Rules, Security Code Guideline Rules, Number of Bugs,\tAcc: 50.68\tF1: 0.06,\tAcc: 51.01\tF1: 0.10,\tAcc: 50.84\tF1: 0.10\n",
            "depth 4 : Java Logging Rules, JavaBean Rules, MigratingToJUnit4 Rules, Migration Rules, Migration13 Rules, Migration14 Rules, Migration15 Rules, Naming Rules, Optimization Rules, Security Code Guideline Rules, Number of Bugs,\tAcc: 50.68\tF1: 0.06,\tAcc: 51.01\tF1: 0.10,\tAcc: 50.84\tF1: 0.10,\tAcc: 51.69\tF1: 0.14\n",
            "depth 5 : Java Logging Rules, JavaBean Rules, MigratingToJUnit4 Rules, Migration Rules, Migration13 Rules, Migration14 Rules, Migration15 Rules, Naming Rules, Optimization Rules, Security Code Guideline Rules, Number of Bugs,\tAcc: 50.68\tF1: 0.06,\tAcc: 51.01\tF1: 0.10,\tAcc: 50.84\tF1: 0.10,\tAcc: 51.69\tF1: 0.14,\tAcc: 52.03\tF1: 0.15\n",
            "depth 6 : Java Logging Rules, JavaBean Rules, MigratingToJUnit4 Rules, Migration Rules, Migration13 Rules, Migration14 Rules, Migration15 Rules, Naming Rules, Optimization Rules, Security Code Guideline Rules, Number of Bugs,\tAcc: 50.68\tF1: 0.06,\tAcc: 51.01\tF1: 0.10,\tAcc: 50.84\tF1: 0.10,\tAcc: 51.69\tF1: 0.14,\tAcc: 52.03\tF1: 0.15,\tAcc: 51.86\tF1: 0.11\n",
            "depth 7 : Java Logging Rules, JavaBean Rules, MigratingToJUnit4 Rules, Migration Rules, Migration13 Rules, Migration14 Rules, Migration15 Rules, Naming Rules, Optimization Rules, Security Code Guideline Rules, Number of Bugs,\tAcc: 50.68\tF1: 0.06,\tAcc: 51.01\tF1: 0.10,\tAcc: 50.84\tF1: 0.10,\tAcc: 51.69\tF1: 0.14,\tAcc: 52.03\tF1: 0.15,\tAcc: 51.86\tF1: 0.11,\tAcc: 52.03\tF1: 0.11\n",
            "depth 8 : Java Logging Rules, JavaBean Rules, MigratingToJUnit4 Rules, Migration Rules, Migration13 Rules, Migration14 Rules, Migration15 Rules, Naming Rules, Optimization Rules, Security Code Guideline Rules, Number of Bugs,\tAcc: 50.68\tF1: 0.06,\tAcc: 51.01\tF1: 0.10,\tAcc: 50.84\tF1: 0.10,\tAcc: 51.69\tF1: 0.14,\tAcc: 52.03\tF1: 0.15,\tAcc: 51.86\tF1: 0.11,\tAcc: 52.03\tF1: 0.11,\tAcc: 51.52\tF1: 0.11\n",
            "depth 9 : Java Logging Rules, JavaBean Rules, MigratingToJUnit4 Rules, Migration Rules, Migration13 Rules, Migration14 Rules, Migration15 Rules, Naming Rules, Optimization Rules, Security Code Guideline Rules, Number of Bugs,\tAcc: 50.68\tF1: 0.06,\tAcc: 51.01\tF1: 0.10,\tAcc: 50.84\tF1: 0.10,\tAcc: 51.69\tF1: 0.14,\tAcc: 52.03\tF1: 0.15,\tAcc: 51.86\tF1: 0.11,\tAcc: 52.03\tF1: 0.11,\tAcc: 51.52\tF1: 0.11,\tAcc: 51.35\tF1: 0.12\n",
            "\n",
            "depth 1 : Strict Exception Rules, String and StringBuffer Rules, Type Resolution Rules, Unnecessary and Unused Code Rules, Vulnerability Rules, Number of Bugs, Number of Bugs,\tAcc: 50.68\tF1: 0.06\n",
            "depth 2 : Strict Exception Rules, String and StringBuffer Rules, Type Resolution Rules, Unnecessary and Unused Code Rules, Vulnerability Rules, Number of Bugs, Number of Bugs,\tAcc: 50.68\tF1: 0.06,\tAcc: 51.52\tF1: 0.06\n",
            "depth 3 : Strict Exception Rules, String and StringBuffer Rules, Type Resolution Rules, Unnecessary and Unused Code Rules, Vulnerability Rules, Number of Bugs, Number of Bugs,\tAcc: 50.68\tF1: 0.06,\tAcc: 51.52\tF1: 0.06,\tAcc: 51.52\tF1: 0.07\n",
            "depth 4 : Strict Exception Rules, String and StringBuffer Rules, Type Resolution Rules, Unnecessary and Unused Code Rules, Vulnerability Rules, Number of Bugs, Number of Bugs,\tAcc: 50.68\tF1: 0.06,\tAcc: 51.52\tF1: 0.06,\tAcc: 51.52\tF1: 0.07,\tAcc: 52.03\tF1: 0.09\n",
            "depth 5 : Strict Exception Rules, String and StringBuffer Rules, Type Resolution Rules, Unnecessary and Unused Code Rules, Vulnerability Rules, Number of Bugs, Number of Bugs,\tAcc: 50.68\tF1: 0.06,\tAcc: 51.52\tF1: 0.06,\tAcc: 51.52\tF1: 0.07,\tAcc: 52.03\tF1: 0.09,\tAcc: 51.86\tF1: 0.11\n",
            "depth 6 : Strict Exception Rules, String and StringBuffer Rules, Type Resolution Rules, Unnecessary and Unused Code Rules, Vulnerability Rules, Number of Bugs, Number of Bugs,\tAcc: 50.68\tF1: 0.06,\tAcc: 51.52\tF1: 0.06,\tAcc: 51.52\tF1: 0.07,\tAcc: 52.03\tF1: 0.09,\tAcc: 51.86\tF1: 0.11,\tAcc: 52.53\tF1: 0.12\n",
            "depth 7 : Strict Exception Rules, String and StringBuffer Rules, Type Resolution Rules, Unnecessary and Unused Code Rules, Vulnerability Rules, Number of Bugs, Number of Bugs,\tAcc: 50.68\tF1: 0.06,\tAcc: 51.52\tF1: 0.06,\tAcc: 51.52\tF1: 0.07,\tAcc: 52.03\tF1: 0.09,\tAcc: 51.86\tF1: 0.11,\tAcc: 52.53\tF1: 0.12,\tAcc: 51.69\tF1: 0.14\n",
            "depth 8 : Strict Exception Rules, String and StringBuffer Rules, Type Resolution Rules, Unnecessary and Unused Code Rules, Vulnerability Rules, Number of Bugs, Number of Bugs,\tAcc: 50.68\tF1: 0.06,\tAcc: 51.52\tF1: 0.06,\tAcc: 51.52\tF1: 0.07,\tAcc: 52.03\tF1: 0.09,\tAcc: 51.86\tF1: 0.11,\tAcc: 52.53\tF1: 0.12,\tAcc: 51.69\tF1: 0.14,\tAcc: 53.55\tF1: 0.15\n",
            "depth 9 : Strict Exception Rules, String and StringBuffer Rules, Type Resolution Rules, Unnecessary and Unused Code Rules, Vulnerability Rules, Number of Bugs, Number of Bugs,\tAcc: 50.68\tF1: 0.06,\tAcc: 51.52\tF1: 0.06,\tAcc: 51.52\tF1: 0.07,\tAcc: 52.03\tF1: 0.09,\tAcc: 51.86\tF1: 0.11,\tAcc: 52.53\tF1: 0.12,\tAcc: 51.69\tF1: 0.14,\tAcc: 53.55\tF1: 0.15,\tAcc: 53.04\tF1: 0.15\n",
            "\n"
          ]
        }
      ]
    },
    {
      "cell_type": "code",
      "source": [
        ""
      ],
      "metadata": {
        "id": "mgc2yLgoFbYI"
      },
      "execution_count": null,
      "outputs": []
    }
  ]
}