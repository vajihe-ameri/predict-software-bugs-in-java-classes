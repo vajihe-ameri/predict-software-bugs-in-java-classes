{
  "nbformat": 4,
  "nbformat_minor": 0,
  "metadata": {
    "colab": {
      "name": "Untitled0.ipynb",
      "provenance": []
    },
    "kernelspec": {
      "name": "python3",
      "display_name": "Python 3"
    },
    "language_info": {
      "name": "python"
    }
  },
  "cells": [
    {
      "cell_type": "markdown",
      "source": [
        "# Install requirements"
      ],
      "metadata": {
        "id": "aZzIubVoWpsF"
      }
    },
    {
      "cell_type": "code",
      "execution_count": null,
      "metadata": {
        "colab": {
          "base_uri": "https://localhost:8080/"
        },
        "id": "Gxo_LF26S_WT",
        "outputId": "259619a8-3e14-4ce1-d15b-854e9af0c5da"
      },
      "outputs": [
        {
          "output_type": "stream",
          "name": "stdout",
          "text": [
            "Looking in indexes: https://pypi.org/simple, https://us-python.pkg.dev/colab-wheels/public/simple/\n",
            "Collecting sklearn\n",
            "  Downloading sklearn-0.0.tar.gz (1.1 kB)\n",
            "Requirement already satisfied: pandas in /usr/local/lib/python3.7/dist-packages (1.3.5)\n",
            "Requirement already satisfied: scikit-learn in /usr/local/lib/python3.7/dist-packages (from sklearn) (1.0.2)\n",
            "Requirement already satisfied: python-dateutil>=2.7.3 in /usr/local/lib/python3.7/dist-packages (from pandas) (2.8.2)\n",
            "Requirement already satisfied: pytz>=2017.3 in /usr/local/lib/python3.7/dist-packages (from pandas) (2022.2.1)\n",
            "Requirement already satisfied: numpy>=1.17.3 in /usr/local/lib/python3.7/dist-packages (from pandas) (1.21.6)\n",
            "Requirement already satisfied: six>=1.5 in /usr/local/lib/python3.7/dist-packages (from python-dateutil>=2.7.3->pandas) (1.15.0)\n",
            "Requirement already satisfied: threadpoolctl>=2.0.0 in /usr/local/lib/python3.7/dist-packages (from scikit-learn->sklearn) (3.1.0)\n",
            "Requirement already satisfied: joblib>=0.11 in /usr/local/lib/python3.7/dist-packages (from scikit-learn->sklearn) (1.1.0)\n",
            "Requirement already satisfied: scipy>=1.1.0 in /usr/local/lib/python3.7/dist-packages (from scikit-learn->sklearn) (1.7.3)\n",
            "Building wheels for collected packages: sklearn\n",
            "  Building wheel for sklearn (setup.py) ... \u001b[?25l\u001b[?25hdone\n",
            "  Created wheel for sklearn: filename=sklearn-0.0-py2.py3-none-any.whl size=1310 sha256=5a01052621ba8644cce531a17b6db8262187c89b883ce993ad0c869d9f212913\n",
            "  Stored in directory: /root/.cache/pip/wheels/46/ef/c3/157e41f5ee1372d1be90b09f74f82b10e391eaacca8f22d33e\n",
            "Successfully built sklearn\n",
            "Installing collected packages: sklearn\n",
            "Successfully installed sklearn-0.0\n"
          ]
        }
      ],
      "source": [
        "!pip install sklearn pandas\n",
        "!pip install prettytable\n",
        "!pip install matplotlib"
      ]
    },
    {
      "cell_type": "markdown",
      "source": [],
      "metadata": {
        "id": "yW0KN3c_WkOg"
      }
    },
    {
      "cell_type": "markdown",
      "source": [
        "# Read dataset"
      ],
      "metadata": {
        "id": "1fks_re1WcxI"
      }
    },
    {
      "cell_type": "code",
      "source": [
        "import pandas as pd\n",
        "from google.colab import drive \n",
        "drive = drive.mount('/content/drive') "
      ],
      "metadata": {
        "colab": {
          "base_uri": "https://localhost:8080/"
        },
        "id": "xqlZPDhGTc0g",
        "outputId": "830e7081-8188-4e72-f8bb-c6509ba1a2c9"
      },
      "execution_count": null,
      "outputs": [
        {
          "output_type": "stream",
          "name": "stdout",
          "text": [
            "Mounted at /content/drive\n"
          ]
        }
      ]
    },
    {
      "cell_type": "markdown",
      "source": [],
      "metadata": {
        "id": "47Ft7IDCWjFX"
      }
    },
    {
      "cell_type": "code",
      "source": [
        "from prettytable import PrettyTable\n",
        "from sklearn.metrics import mean_squared_error, accuracy_score\n",
        "from sklearn.tree import export_graphviz\n",
        "from IPython import display\n",
        "from sklearn.metrics import confusion_matrix\n",
        "from sklearn.metrics import classification_report\n",
        "import matplotlib as mpl\n",
        "import matplotlib.pyplot as plt"
      ],
      "metadata": {
        "id": "n4YnSJSOdShK"
      },
      "execution_count": null,
      "outputs": []
    },
    {
      "cell_type": "code",
      "source": [
        "test_features = pd.read_csv(\"/content/drive/MyDrive/new_df/test_set.csv\")\n",
        "train_features = pd.read_csv(\"/content/drive/MyDrive/new_df/train_set.csv\")\n",
        "test_target = pd.read_csv(\"/content/drive/MyDrive/new_df/test_set_NB.csv\")\n",
        "train_target = pd.read_csv(\"/content/drive/MyDrive/new_df/train_set_NB.csv\")"
      ],
      "metadata": {
        "id": "yWQUHfcndWKL"
      },
      "execution_count": null,
      "outputs": []
    },
    {
      "cell_type": "markdown",
      "source": [
        "# Call **Random Fores**t from `sklearn`"
      ],
      "metadata": {
        "id": "tqvakG5XWzTo"
      }
    },
    {
      "cell_type": "code",
      "source": [
        "print('Random forest')\n",
        "\n",
        "from sklearn.ensemble import RandomForestClassifier\n",
        "'''Create random forest classifier'''\n",
        "model1 = RandomForestClassifier()\n",
        "model2 = RandomForestClassifier(n_estimators=100, criterion = 'gini', max_depth = 1, random_state = 80)\n",
        "model3 = RandomForestClassifier(n_estimators=90, criterion = 'entropy' , max_depth = 10, random_state = 50)\n",
        "model4 = RandomForestClassifier(n_estimators=50, criterion = 'entropy', max_depth = 20, random_state = 60)\n",
        "model5 = RandomForestClassifier(n_estimators=1, criterion = 'gini', max_depth = 30, random_state = 40)\n",
        "\n",
        "'''Train and test'''\n",
        "model1.fit(train_features, train_target)\n",
        "model2.fit(train_features, train_target)\n",
        "model3.fit(train_features, train_target)\n",
        "model4.fit(train_features, train_target)\n",
        "model5.fit(train_features, train_target)\n",
        "\n",
        "preds1 = model1.predict(test_features)\n",
        "preds2 = model2.predict(test_features)\n",
        "preds3 = model3.predict(test_features)\n",
        "preds4 = model4.predict(test_features)\n",
        "preds5 = model5.predict(test_features)\n",
        "\n",
        "cr1 = confusion_matrix(test_target, preds1)\n",
        "cr2 = confusion_matrix(test_target, preds2)\n",
        "cr3 = confusion_matrix(test_target, preds3)\n",
        "cr4 = confusion_matrix(test_target, preds4)\n",
        "cr5 = confusion_matrix(test_target, preds5)\n",
        "\n",
        "from sklearn.metrics import f1_score\n",
        "\n",
        "f1_weighted1 = f1_score(test_target, preds1, average = 'weighted')\n",
        "f1_weighted2 = f1_score(test_target, preds2, average = 'weighted')\n",
        "f1_weighted3 = f1_score(test_target, preds3, average = 'weighted')\n",
        "f1_weighted4 = f1_score(test_target, preds4, average = 'weighted')\n",
        "f1_weighted5 = f1_score(test_target, preds5, average = 'weighted')\n",
        "\n",
        "f1_macro1 = f1_score(test_target, preds1, average = 'macro')\n",
        "f1_macro2 = f1_score(test_target, preds2, average = 'macro')\n",
        "f1_macro3 = f1_score(test_target, preds3, average = 'macro')\n",
        "f1_macro4 = f1_score(test_target, preds4, average = 'macro')\n",
        "f1_macro5 = f1_score(test_target, preds5, average = 'macro')\n",
        "\n",
        "f1_micro1 = f1_score(test_target, preds1, average = 'micro')\n",
        "f1_micro2 = f1_score(test_target, preds2, average = 'micro')\n",
        "f1_micro3 = f1_score(test_target, preds3, average = 'micro')\n",
        "f1_micro4 = f1_score(test_target, preds4, average = 'micro')\n",
        "f1_micro5 = f1_score(test_target, preds5, average = 'micro')\n",
        "\n",
        "f1_score_weighted1 = \"%.2f\"%round(f1_weighted1, 2)\n",
        "f1_score_weighted2 = \"%.2f\"%round(f1_weighted2, 2)\n",
        "f1_score_weighted3 = \"%.2f\"%round(f1_weighted3, 2)\n",
        "f1_score_weighted4 = \"%.2f\"%round(f1_weighted4, 2)\n",
        "f1_score_weighted5 = \"%.2f\"%round(f1_weighted5, 2)\n",
        "\n",
        "f1_score_macro1 = \"%.2f\"%round(f1_macro1, 2)\n",
        "f1_score_macro2 = \"%.2f\"%round(f1_macro2, 2)\n",
        "f1_score_macro3 = \"%.2f\"%round(f1_macro3, 2)\n",
        "f1_score_macro4 = \"%.2f\"%round(f1_macro4, 2)\n",
        "f1_score_macro5 = \"%.2f\"%round(f1_macro5, 2)\n",
        "\n",
        "f1_score_micro1 = \"%.2f\"%round(f1_micro1, 2)\n",
        "f1_score_micro2 = \"%.2f\"%round(f1_micro2, 2)\n",
        "f1_score_micro3 = \"%.2f\"%round(f1_micro3, 2)\n",
        "f1_score_micro4 = \"%.2f\"%round(f1_micro4, 2)\n",
        "f1_score_micro5 = \"%.2f\"%round(f1_micro5, 2)\n",
        "\n",
        "head = PrettyTable(['random_state', 'n_estimatorsint', 'criterion', 'max_depth', 'confusion_matrix', 'f1_score_weighted', 'f1_score_macro', 'f1_score_micro']) \n",
        "head.add_row(['', '', '', '', cr1, f1_score_weighted1, f1_score_macro1, f1_score_micro1]) \n",
        "head.add_row(['80', '10', 'gini', '1', cr2, f1_score_weighted2, f1_score_macro2, f1_score_micro2]) \n",
        "head.add_row(['50', '100', 'entropy', '10', cr3, f1_score_weighted3, f1_score_macro3, f1_score_micro3]) \n",
        "head.add_row(['60', '50', 'entropy', '20', cr4, f1_score_weighted4, f1_score_macro4, f1_score_micro4]) \n",
        "head.add_row(['40', '1', 'gini', '30', cr5, f1_score_weighted5, f1_score_macro5, f1_score_micro5]) \n",
        "print(head)"
      ],
      "metadata": {
        "colab": {
          "base_uri": "https://localhost:8080/"
        },
        "id": "x6ARPvN0W9eO",
        "outputId": "93c6d87e-cc62-4234-b820-260625ba2cb2"
      },
      "execution_count": null,
      "outputs": [
        {
          "output_type": "stream",
          "name": "stdout",
          "text": [
            "Project: Android-Universal-Image-Loader => Accuracy: 31.25 ; F1: 0.18\n",
            "Project: antlr4 => Accuracy: 47.62 ; F1: 0.27\n",
            "Project: BroadleafCommerce => Accuracy: 55.07 ; F1: 0.22\n",
            "Project: ceylon-ide-eclipse => Accuracy: 64.71 ; F1: 0.44\n",
            "Project: elasticsearch => Accuracy: 49.61 ; F1: 0.12\n",
            "Project: hazelcast => Accuracy: 47.57 ; F1: 0.18\n",
            "Project: junit => Accuracy: 65.62 ; F1: 0.50\n",
            "Project: MapDB => Accuracy: 37.22 ; F1: 0.16\n",
            "Project: mcMMO => Accuracy: 47.62 ; F1: 0.21\n",
            "Project: mct => Accuracy: 71.43 ; F1: 0.58\n",
            "Project: neo4j => Accuracy: 44.80 ; F1: 0.18\n",
            "Project: netty => Accuracy: 60.48 ; F1: 0.27\n",
            "Project: orientdb => Accuracy: 47.16 ; F1: 0.17\n",
            "Project: oryx => Accuracy: 85.00 ; F1: 0.46\n",
            "Project: titan => Accuracy: 52.33 ; F1: 0.55\n"
          ]
        }
      ]
    }
  ]
}