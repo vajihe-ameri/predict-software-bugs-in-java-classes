{
  "nbformat": 4,
  "nbformat_minor": 0,
  "metadata": {
    "colab": {
      "name": "Untitled0.ipynb",
      "provenance": []
    },
    "kernelspec": {
      "name": "python3",
      "display_name": "Python 3"
    },
    "language_info": {
      "name": "python"
    }
  },
  "cells": [
    {
      "cell_type": "markdown",
      "source": [
        "# Install requirements"
      ],
      "metadata": {
        "id": "aZzIubVoWpsF"
      }
    },
    {
      "cell_type": "code",
      "execution_count": 1,
      "metadata": {
        "colab": {
          "base_uri": "https://localhost:8080/"
        },
        "id": "Gxo_LF26S_WT",
        "outputId": "b90af294-123a-4c21-c5a2-3042112fde36"
      },
      "outputs": [
        {
          "output_type": "stream",
          "name": "stdout",
          "text": [
            "Looking in indexes: https://pypi.org/simple, https://us-python.pkg.dev/colab-wheels/public/simple/\n",
            "Collecting sklearn\n",
            "  Downloading sklearn-0.0.post1.tar.gz (3.6 kB)\n",
            "  Preparing metadata (setup.py) ... \u001b[?25l\u001b[?25hdone\n",
            "Requirement already satisfied: pandas in /usr/local/lib/python3.9/dist-packages (1.4.4)\n",
            "Requirement already satisfied: pytz>=2020.1 in /usr/local/lib/python3.9/dist-packages (from pandas) (2022.7.1)\n",
            "Requirement already satisfied: python-dateutil>=2.8.1 in /usr/local/lib/python3.9/dist-packages (from pandas) (2.8.2)\n",
            "Requirement already satisfied: numpy>=1.18.5 in /usr/local/lib/python3.9/dist-packages (from pandas) (1.22.4)\n",
            "Requirement already satisfied: six>=1.5 in /usr/local/lib/python3.9/dist-packages (from python-dateutil>=2.8.1->pandas) (1.16.0)\n",
            "Building wheels for collected packages: sklearn\n",
            "  Building wheel for sklearn (setup.py) ... \u001b[?25l\u001b[?25hdone\n",
            "  Created wheel for sklearn: filename=sklearn-0.0.post1-py3-none-any.whl size=2955 sha256=84f920ae4f7d91c4f653acda6bcf7a7b8964745b8677850366dbe1e64cea2249\n",
            "  Stored in directory: /root/.cache/pip/wheels/f8/e0/3d/9d0c2020c44a519b9f02ab4fa6d2a4a996c98d79ab2f569fa1\n",
            "Successfully built sklearn\n",
            "Installing collected packages: sklearn\n",
            "Successfully installed sklearn-0.0.post1\n",
            "Looking in indexes: https://pypi.org/simple, https://us-python.pkg.dev/colab-wheels/public/simple/\n",
            "Requirement already satisfied: prettytable in /usr/local/lib/python3.9/dist-packages (0.7.2)\n",
            "Looking in indexes: https://pypi.org/simple, https://us-python.pkg.dev/colab-wheels/public/simple/\n",
            "Requirement already satisfied: matplotlib in /usr/local/lib/python3.9/dist-packages (3.7.1)\n",
            "Requirement already satisfied: importlib-resources>=3.2.0 in /usr/local/lib/python3.9/dist-packages (from matplotlib) (5.12.0)\n",
            "Requirement already satisfied: pillow>=6.2.0 in /usr/local/lib/python3.9/dist-packages (from matplotlib) (8.4.0)\n",
            "Requirement already satisfied: packaging>=20.0 in /usr/local/lib/python3.9/dist-packages (from matplotlib) (23.0)\n",
            "Requirement already satisfied: fonttools>=4.22.0 in /usr/local/lib/python3.9/dist-packages (from matplotlib) (4.39.3)\n",
            "Requirement already satisfied: python-dateutil>=2.7 in /usr/local/lib/python3.9/dist-packages (from matplotlib) (2.8.2)\n",
            "Requirement already satisfied: cycler>=0.10 in /usr/local/lib/python3.9/dist-packages (from matplotlib) (0.11.0)\n",
            "Requirement already satisfied: contourpy>=1.0.1 in /usr/local/lib/python3.9/dist-packages (from matplotlib) (1.0.7)\n",
            "Requirement already satisfied: numpy>=1.20 in /usr/local/lib/python3.9/dist-packages (from matplotlib) (1.22.4)\n",
            "Requirement already satisfied: pyparsing>=2.3.1 in /usr/local/lib/python3.9/dist-packages (from matplotlib) (3.0.9)\n",
            "Requirement already satisfied: kiwisolver>=1.0.1 in /usr/local/lib/python3.9/dist-packages (from matplotlib) (1.4.4)\n",
            "Requirement already satisfied: zipp>=3.1.0 in /usr/local/lib/python3.9/dist-packages (from importlib-resources>=3.2.0->matplotlib) (3.15.0)\n",
            "Requirement already satisfied: six>=1.5 in /usr/local/lib/python3.9/dist-packages (from python-dateutil>=2.7->matplotlib) (1.16.0)\n"
          ]
        }
      ],
      "source": [
        "!pip install sklearn pandas\n",
        "!pip install prettytable\n",
        "!pip install matplotlib"
      ]
    },
    {
      "cell_type": "markdown",
      "source": [],
      "metadata": {
        "id": "yW0KN3c_WkOg"
      }
    },
    {
      "cell_type": "markdown",
      "source": [
        "# Read dataset"
      ],
      "metadata": {
        "id": "1fks_re1WcxI"
      }
    },
    {
      "cell_type": "code",
      "source": [
        "import pandas as pd\n",
        "from google.colab import drive \n",
        "drive = drive.mount('/content/drive') "
      ],
      "metadata": {
        "colab": {
          "base_uri": "https://localhost:8080/"
        },
        "id": "xqlZPDhGTc0g",
        "outputId": "d2bd9889-663b-40ab-9986-bb33e812c768"
      },
      "execution_count": 2,
      "outputs": [
        {
          "output_type": "stream",
          "name": "stdout",
          "text": [
            "Mounted at /content/drive\n"
          ]
        }
      ]
    },
    {
      "cell_type": "markdown",
      "source": [],
      "metadata": {
        "id": "47Ft7IDCWjFX"
      }
    },
    {
      "cell_type": "code",
      "source": [
        "from prettytable import PrettyTable\n",
        "from sklearn.metrics import mean_squared_error, accuracy_score\n",
        "from sklearn.tree import export_graphviz\n",
        "from IPython import display\n",
        "from sklearn.metrics import confusion_matrix\n",
        "from sklearn.metrics import classification_report\n",
        "import matplotlib as mpl\n",
        "import matplotlib.pyplot as plt"
      ],
      "metadata": {
        "id": "n4YnSJSOdShK"
      },
      "execution_count": 3,
      "outputs": []
    },
    {
      "cell_type": "code",
      "source": [
        "test_features = pd.read_csv(\"/content/drive/MyDrive/new_df/test_set.csv\")\n",
        "train_features = pd.read_csv(\"/content/drive/MyDrive/new_df/train_set.csv\")\n",
        "test_target = pd.read_csv(\"/content/drive/MyDrive/new_df/test_set_NB.csv\")\n",
        "train_target = pd.read_csv(\"/content/drive/MyDrive/new_df/train_set_NB.csv\")"
      ],
      "metadata": {
        "id": "yWQUHfcndWKL"
      },
      "execution_count": 4,
      "outputs": []
    },
    {
      "cell_type": "markdown",
      "source": [
        "# Call **Random Fores**t from `sklearn`"
      ],
      "metadata": {
        "id": "tqvakG5XWzTo"
      }
    },
    {
      "cell_type": "code",
      "source": [
        "print('Random forest')\n",
        "from sklearn.ensemble import RandomForestClassifier\n",
        "\n",
        "head = PrettyTable(['max_depth', 'max_node', 'random_state', 'n_estimatorsint', 'criterion', 'confusion_matrix', 'f1_score_micro_test', 'f1_score_micro_train']) \n",
        "\n",
        "f1_score_micro_test_array = []\n",
        "f1_score_micro_train_array = []\n",
        "\n",
        "max_depth_range = list(range(14,16))\n",
        "max_node_range = [2,10,20,30,40,50,60,70,80,90,98]\n",
        "\n",
        "for depth in max_depth_range:\n",
        "  for node in max_node_range:\n",
        "    '''Create random forest classifier'''\n",
        "    model1 = RandomForestClassifier(n_estimators=80, criterion = 'gini' , max_depth = depth, max_leaf_nodes = node, random_state = 0)\n",
        "    model2 = RandomForestClassifier(n_estimators=20, criterion = 'entropy' , max_depth = depth, max_leaf_nodes = node, random_state = 90)\n",
        "  \n",
        "    '''Train and test'''\n",
        "    model1.fit(train_features, train_target)\n",
        "    model2.fit(train_features, train_target)\n",
        "\n",
        "    preds_test1 = model1.predict(test_features)\n",
        "    preds_test2 = model2.predict(test_features)\n",
        "\n",
        "    preds_train1 = model1.predict(train_features)\n",
        "    preds_train2 = model2.predict(train_features)\n",
        "\n",
        "    cr1 = confusion_matrix(test_target, preds_test1)\n",
        "    cr2 = confusion_matrix(test_target, preds_test2)\n",
        "\n",
        "    from sklearn.metrics import f1_score\n",
        "\n",
        "    f1_micro_test1 = f1_score(test_target, preds_test1, average = 'micro')\n",
        "    f1_micro_test2 = f1_score(test_target, preds_test2, average = 'micro')\n",
        "\n",
        "    f1_micro_train1 = f1_score(train_target, preds_train1, average = 'micro')\n",
        "    f1_micro_train2 = f1_score(train_target, preds_train2, average = 'micro')\n",
        "\n",
        "    f1_score_micro_test1 = \"%.2f\"%round(f1_micro_test1, 2)\n",
        "    f1_score_micro_test2 = \"%.2f\"%round(f1_micro_test2, 2)\n",
        "\n",
        "    f1_score_micro_train1 = \"%.2f\"%round(f1_micro_train1, 2)\n",
        "    f1_score_micro_train2 = \"%.2f\"%round(f1_micro_train2, 2)\n",
        "\n",
        "    f1_score_micro_test_array.append(f1_score_micro_test1)\n",
        "    f1_score_micro_test_array.append(f1_score_micro_test2)\n",
        "    f1_score_micro_train_array.append(f1_score_micro_train1)\n",
        "    f1_score_micro_train_array.append(f1_score_micro_train2)\n",
        " \n",
        "    head.add_row([depth, node, '0', '80', 'gini', cr1, f1_score_micro_test1, f1_score_micro_train1]) \n",
        "    head.add_row([depth, node, '90', '20', 'entropy', cr2, f1_score_micro_test2, f1_score_micro_train2]) \n",
        "print(head)"
      ],
      "metadata": {
        "colab": {
          "base_uri": "https://localhost:8080/"
        },
        "id": "x6ARPvN0W9eO",
        "outputId": "5cd56596-caee-40e4-f2ca-1e7a57755a71"
      },
      "execution_count": 32,
      "outputs": [
        {
          "output_type": "stream",
          "name": "stdout",
          "text": [
            "Random forest\n"
          ]
        },
        {
          "output_type": "stream",
          "name": "stderr",
          "text": [
            "<ipython-input-32-d7806426fa47>:19: DataConversionWarning: A column-vector y was passed when a 1d array was expected. Please change the shape of y to (n_samples,), for example using ravel().\n",
            "  model1.fit(train_features, train_target)\n",
            "<ipython-input-32-d7806426fa47>:20: DataConversionWarning: A column-vector y was passed when a 1d array was expected. Please change the shape of y to (n_samples,), for example using ravel().\n",
            "  model2.fit(train_features, train_target)\n",
            "<ipython-input-32-d7806426fa47>:19: DataConversionWarning: A column-vector y was passed when a 1d array was expected. Please change the shape of y to (n_samples,), for example using ravel().\n",
            "  model1.fit(train_features, train_target)\n",
            "<ipython-input-32-d7806426fa47>:20: DataConversionWarning: A column-vector y was passed when a 1d array was expected. Please change the shape of y to (n_samples,), for example using ravel().\n",
            "  model2.fit(train_features, train_target)\n",
            "<ipython-input-32-d7806426fa47>:19: DataConversionWarning: A column-vector y was passed when a 1d array was expected. Please change the shape of y to (n_samples,), for example using ravel().\n",
            "  model1.fit(train_features, train_target)\n",
            "<ipython-input-32-d7806426fa47>:20: DataConversionWarning: A column-vector y was passed when a 1d array was expected. Please change the shape of y to (n_samples,), for example using ravel().\n",
            "  model2.fit(train_features, train_target)\n",
            "<ipython-input-32-d7806426fa47>:19: DataConversionWarning: A column-vector y was passed when a 1d array was expected. Please change the shape of y to (n_samples,), for example using ravel().\n",
            "  model1.fit(train_features, train_target)\n",
            "<ipython-input-32-d7806426fa47>:20: DataConversionWarning: A column-vector y was passed when a 1d array was expected. Please change the shape of y to (n_samples,), for example using ravel().\n",
            "  model2.fit(train_features, train_target)\n",
            "<ipython-input-32-d7806426fa47>:19: DataConversionWarning: A column-vector y was passed when a 1d array was expected. Please change the shape of y to (n_samples,), for example using ravel().\n",
            "  model1.fit(train_features, train_target)\n",
            "<ipython-input-32-d7806426fa47>:20: DataConversionWarning: A column-vector y was passed when a 1d array was expected. Please change the shape of y to (n_samples,), for example using ravel().\n",
            "  model2.fit(train_features, train_target)\n",
            "<ipython-input-32-d7806426fa47>:19: DataConversionWarning: A column-vector y was passed when a 1d array was expected. Please change the shape of y to (n_samples,), for example using ravel().\n",
            "  model1.fit(train_features, train_target)\n",
            "<ipython-input-32-d7806426fa47>:20: DataConversionWarning: A column-vector y was passed when a 1d array was expected. Please change the shape of y to (n_samples,), for example using ravel().\n",
            "  model2.fit(train_features, train_target)\n",
            "<ipython-input-32-d7806426fa47>:19: DataConversionWarning: A column-vector y was passed when a 1d array was expected. Please change the shape of y to (n_samples,), for example using ravel().\n",
            "  model1.fit(train_features, train_target)\n",
            "<ipython-input-32-d7806426fa47>:20: DataConversionWarning: A column-vector y was passed when a 1d array was expected. Please change the shape of y to (n_samples,), for example using ravel().\n",
            "  model2.fit(train_features, train_target)\n",
            "<ipython-input-32-d7806426fa47>:19: DataConversionWarning: A column-vector y was passed when a 1d array was expected. Please change the shape of y to (n_samples,), for example using ravel().\n",
            "  model1.fit(train_features, train_target)\n",
            "<ipython-input-32-d7806426fa47>:20: DataConversionWarning: A column-vector y was passed when a 1d array was expected. Please change the shape of y to (n_samples,), for example using ravel().\n",
            "  model2.fit(train_features, train_target)\n",
            "<ipython-input-32-d7806426fa47>:19: DataConversionWarning: A column-vector y was passed when a 1d array was expected. Please change the shape of y to (n_samples,), for example using ravel().\n",
            "  model1.fit(train_features, train_target)\n",
            "<ipython-input-32-d7806426fa47>:20: DataConversionWarning: A column-vector y was passed when a 1d array was expected. Please change the shape of y to (n_samples,), for example using ravel().\n",
            "  model2.fit(train_features, train_target)\n",
            "<ipython-input-32-d7806426fa47>:19: DataConversionWarning: A column-vector y was passed when a 1d array was expected. Please change the shape of y to (n_samples,), for example using ravel().\n",
            "  model1.fit(train_features, train_target)\n",
            "<ipython-input-32-d7806426fa47>:20: DataConversionWarning: A column-vector y was passed when a 1d array was expected. Please change the shape of y to (n_samples,), for example using ravel().\n",
            "  model2.fit(train_features, train_target)\n",
            "<ipython-input-32-d7806426fa47>:19: DataConversionWarning: A column-vector y was passed when a 1d array was expected. Please change the shape of y to (n_samples,), for example using ravel().\n",
            "  model1.fit(train_features, train_target)\n",
            "<ipython-input-32-d7806426fa47>:20: DataConversionWarning: A column-vector y was passed when a 1d array was expected. Please change the shape of y to (n_samples,), for example using ravel().\n",
            "  model2.fit(train_features, train_target)\n",
            "<ipython-input-32-d7806426fa47>:19: DataConversionWarning: A column-vector y was passed when a 1d array was expected. Please change the shape of y to (n_samples,), for example using ravel().\n",
            "  model1.fit(train_features, train_target)\n",
            "<ipython-input-32-d7806426fa47>:20: DataConversionWarning: A column-vector y was passed when a 1d array was expected. Please change the shape of y to (n_samples,), for example using ravel().\n",
            "  model2.fit(train_features, train_target)\n",
            "<ipython-input-32-d7806426fa47>:19: DataConversionWarning: A column-vector y was passed when a 1d array was expected. Please change the shape of y to (n_samples,), for example using ravel().\n",
            "  model1.fit(train_features, train_target)\n",
            "<ipython-input-32-d7806426fa47>:20: DataConversionWarning: A column-vector y was passed when a 1d array was expected. Please change the shape of y to (n_samples,), for example using ravel().\n",
            "  model2.fit(train_features, train_target)\n",
            "<ipython-input-32-d7806426fa47>:19: DataConversionWarning: A column-vector y was passed when a 1d array was expected. Please change the shape of y to (n_samples,), for example using ravel().\n",
            "  model1.fit(train_features, train_target)\n",
            "<ipython-input-32-d7806426fa47>:20: DataConversionWarning: A column-vector y was passed when a 1d array was expected. Please change the shape of y to (n_samples,), for example using ravel().\n",
            "  model2.fit(train_features, train_target)\n",
            "<ipython-input-32-d7806426fa47>:19: DataConversionWarning: A column-vector y was passed when a 1d array was expected. Please change the shape of y to (n_samples,), for example using ravel().\n",
            "  model1.fit(train_features, train_target)\n",
            "<ipython-input-32-d7806426fa47>:20: DataConversionWarning: A column-vector y was passed when a 1d array was expected. Please change the shape of y to (n_samples,), for example using ravel().\n",
            "  model2.fit(train_features, train_target)\n",
            "<ipython-input-32-d7806426fa47>:19: DataConversionWarning: A column-vector y was passed when a 1d array was expected. Please change the shape of y to (n_samples,), for example using ravel().\n",
            "  model1.fit(train_features, train_target)\n",
            "<ipython-input-32-d7806426fa47>:20: DataConversionWarning: A column-vector y was passed when a 1d array was expected. Please change the shape of y to (n_samples,), for example using ravel().\n",
            "  model2.fit(train_features, train_target)\n",
            "<ipython-input-32-d7806426fa47>:19: DataConversionWarning: A column-vector y was passed when a 1d array was expected. Please change the shape of y to (n_samples,), for example using ravel().\n",
            "  model1.fit(train_features, train_target)\n",
            "<ipython-input-32-d7806426fa47>:20: DataConversionWarning: A column-vector y was passed when a 1d array was expected. Please change the shape of y to (n_samples,), for example using ravel().\n",
            "  model2.fit(train_features, train_target)\n",
            "<ipython-input-32-d7806426fa47>:19: DataConversionWarning: A column-vector y was passed when a 1d array was expected. Please change the shape of y to (n_samples,), for example using ravel().\n",
            "  model1.fit(train_features, train_target)\n",
            "<ipython-input-32-d7806426fa47>:20: DataConversionWarning: A column-vector y was passed when a 1d array was expected. Please change the shape of y to (n_samples,), for example using ravel().\n",
            "  model2.fit(train_features, train_target)\n",
            "<ipython-input-32-d7806426fa47>:19: DataConversionWarning: A column-vector y was passed when a 1d array was expected. Please change the shape of y to (n_samples,), for example using ravel().\n",
            "  model1.fit(train_features, train_target)\n",
            "<ipython-input-32-d7806426fa47>:20: DataConversionWarning: A column-vector y was passed when a 1d array was expected. Please change the shape of y to (n_samples,), for example using ravel().\n",
            "  model2.fit(train_features, train_target)\n",
            "<ipython-input-32-d7806426fa47>:19: DataConversionWarning: A column-vector y was passed when a 1d array was expected. Please change the shape of y to (n_samples,), for example using ravel().\n",
            "  model1.fit(train_features, train_target)\n",
            "<ipython-input-32-d7806426fa47>:20: DataConversionWarning: A column-vector y was passed when a 1d array was expected. Please change the shape of y to (n_samples,), for example using ravel().\n",
            "  model2.fit(train_features, train_target)\n",
            "<ipython-input-32-d7806426fa47>:19: DataConversionWarning: A column-vector y was passed when a 1d array was expected. Please change the shape of y to (n_samples,), for example using ravel().\n",
            "  model1.fit(train_features, train_target)\n",
            "<ipython-input-32-d7806426fa47>:20: DataConversionWarning: A column-vector y was passed when a 1d array was expected. Please change the shape of y to (n_samples,), for example using ravel().\n",
            "  model2.fit(train_features, train_target)\n",
            "<ipython-input-32-d7806426fa47>:19: DataConversionWarning: A column-vector y was passed when a 1d array was expected. Please change the shape of y to (n_samples,), for example using ravel().\n",
            "  model1.fit(train_features, train_target)\n",
            "<ipython-input-32-d7806426fa47>:20: DataConversionWarning: A column-vector y was passed when a 1d array was expected. Please change the shape of y to (n_samples,), for example using ravel().\n",
            "  model2.fit(train_features, train_target)\n"
          ]
        },
        {
          "output_type": "stream",
          "name": "stdout",
          "text": [
            "+-----------+----------+--------------+-----------------+-----------+--------------------+---------------------+----------------------+\n",
            "| max_depth | max_node | random_state | n_estimatorsint | criterion |  confusion_matrix  | f1_score_micro_test | f1_score_micro_train |\n",
            "+-----------+----------+--------------+-----------------+-----------+--------------------+---------------------+----------------------+\n",
            "|     14    |    2     |      0       |        80       |    gini   | [[2510    0    0]  |         0.50        |         0.50         |\n",
            "|           |          |              |                 |           |  [1520    0    0]  |                     |                      |\n",
            "|           |          |              |                 |           |  [ 969    0    0]] |                     |                      |\n",
            "|     14    |    2     |      90      |        20       |  entropy  | [[2510    0    0]  |         0.50        |         0.50         |\n",
            "|           |          |              |                 |           |  [1520    0    0]  |                     |                      |\n",
            "|           |          |              |                 |           |  [ 969    0    0]] |                     |                      |\n",
            "|     14    |    10    |      0       |        80       |    gini   | [[2470    0   40]  |         0.51        |         0.51         |\n",
            "|           |          |              |                 |           |  [1480    0   40]  |                     |                      |\n",
            "|           |          |              |                 |           |  [ 909    0   60]] |                     |                      |\n",
            "|     14    |    10    |      90      |        20       |  entropy  | [[2473    0   37]  |         0.50        |         0.51         |\n",
            "|           |          |              |                 |           |  [1489    0   31]  |                     |                      |\n",
            "|           |          |              |                 |           |  [ 922    0   47]] |                     |                      |\n",
            "|     14    |    20    |      0       |        80       |    gini   | [[2459    6   45]  |         0.51        |         0.52         |\n",
            "|           |          |              |                 |           |  [1468    3   49]  |                     |                      |\n",
            "|           |          |              |                 |           |  [ 876    7   86]] |                     |                      |\n",
            "|     14    |    20    |      90      |        20       |  entropy  | [[2463    0   47]  |         0.51        |         0.52         |\n",
            "|           |          |              |                 |           |  [1470    0   50]  |                     |                      |\n",
            "|           |          |              |                 |           |  [ 880    1   88]] |                     |                      |\n",
            "|     14    |    30    |      0       |        80       |    gini   | [[2441   15   54]  |         0.51        |         0.52         |\n",
            "|           |          |              |                 |           |  [1456   14   50]  |                     |                      |\n",
            "|           |          |              |                 |           |  [ 849   19  101]] |                     |                      |\n",
            "|     14    |    30    |      90      |        20       |  entropy  | [[2456    4   50]  |         0.51        |         0.52         |\n",
            "|           |          |              |                 |           |  [1458    6   56]  |                     |                      |\n",
            "|           |          |              |                 |           |  [ 859    7  103]] |                     |                      |\n",
            "|     14    |    40    |      0       |        80       |    gini   | [[2436   20   54]  |         0.51        |         0.53         |\n",
            "|           |          |              |                 |           |  [1451   21   48]  |                     |                      |\n",
            "|           |          |              |                 |           |  [ 827   32  110]] |                     |                      |\n",
            "|     14    |    40    |      90      |        20       |  entropy  | [[2454    5   51]  |         0.51        |         0.52         |\n",
            "|           |          |              |                 |           |  [1458   10   52]  |                     |                      |\n",
            "|           |          |              |                 |           |  [ 853   12  104]] |                     |                      |\n",
            "|     14    |    50    |      0       |        80       |    gini   | [[2423   28   59]  |         0.52        |         0.53         |\n",
            "|           |          |              |                 |           |  [1444   30   46]  |                     |                      |\n",
            "|           |          |              |                 |           |  [ 797   47  125]] |                     |                      |\n",
            "|     14    |    50    |      90      |        20       |  entropy  | [[2446    8   56]  |         0.52        |         0.53         |\n",
            "|           |          |              |                 |           |  [1441   24   55]  |                     |                      |\n",
            "|           |          |              |                 |           |  [ 825   23  121]] |                     |                      |\n",
            "|     14    |    60    |      0       |        80       |    gini   | [[2423   29   58]  |         0.52        |         0.54         |\n",
            "|           |          |              |                 |           |  [1440   32   48]  |                     |                      |\n",
            "|           |          |              |                 |           |  [ 783   54  132]] |                     |                      |\n",
            "|     14    |    60    |      90      |        20       |  entropy  | [[2441   11   58]  |         0.52        |         0.53         |\n",
            "|           |          |              |                 |           |  [1437   27   56]  |                     |                      |\n",
            "|           |          |              |                 |           |  [ 804   24  141]] |                     |                      |\n",
            "|     14    |    70    |      0       |        80       |    gini   | [[2414   37   59]  |         0.52        |         0.54         |\n",
            "|           |          |              |                 |           |  [1429   37   54]  |                     |                      |\n",
            "|           |          |              |                 |           |  [ 772   56  141]] |                     |                      |\n",
            "|     14    |    70    |      90      |        20       |  entropy  | [[2435   17   58]  |         0.52        |         0.54         |\n",
            "|           |          |              |                 |           |  [1437   29   54]  |                     |                      |\n",
            "|           |          |              |                 |           |  [ 797   29  143]] |                     |                      |\n",
            "|     14    |    80    |      0       |        80       |    gini   | [[2412   37   61]  |         0.52        |         0.55         |\n",
            "|           |          |              |                 |           |  [1413   51   56]  |                     |                      |\n",
            "|           |          |              |                 |           |  [ 759   57  153]] |                     |                      |\n",
            "|     14    |    80    |      90      |        20       |  entropy  | [[2427   19   64]  |         0.52        |         0.54         |\n",
            "|           |          |              |                 |           |  [1423   35   62]  |                     |                      |\n",
            "|           |          |              |                 |           |  [ 778   37  154]] |                     |                      |\n",
            "|     14    |    90    |      0       |        80       |    gini   | [[2407   42   61]  |         0.52        |         0.55         |\n",
            "|           |          |              |                 |           |  [1407   62   51]  |                     |                      |\n",
            "|           |          |              |                 |           |  [ 750   64  155]] |                     |                      |\n",
            "|     14    |    90    |      90      |        20       |  entropy  | [[2419   26   65]  |         0.52        |         0.54         |\n",
            "|           |          |              |                 |           |  [1412   47   61]  |                     |                      |\n",
            "|           |          |              |                 |           |  [ 770   41  158]] |                     |                      |\n",
            "|     14    |    98    |      0       |        80       |    gini   | [[2404   48   58]  |         0.53        |         0.55         |\n",
            "|           |          |              |                 |           |  [1397   67   56]  |                     |                      |\n",
            "|           |          |              |                 |           |  [ 743   68  158]] |                     |                      |\n",
            "|     14    |    98    |      90      |        20       |  entropy  | [[2414   27   69]  |         0.53        |         0.55         |\n",
            "|           |          |              |                 |           |  [1403   51   66]  |                     |                      |\n",
            "|           |          |              |                 |           |  [ 759   48  162]] |                     |                      |\n",
            "|     15    |    2     |      0       |        80       |    gini   | [[2510    0    0]  |         0.50        |         0.50         |\n",
            "|           |          |              |                 |           |  [1520    0    0]  |                     |                      |\n",
            "|           |          |              |                 |           |  [ 969    0    0]] |                     |                      |\n",
            "|     15    |    2     |      90      |        20       |  entropy  | [[2510    0    0]  |         0.50        |         0.50         |\n",
            "|           |          |              |                 |           |  [1520    0    0]  |                     |                      |\n",
            "|           |          |              |                 |           |  [ 969    0    0]] |                     |                      |\n",
            "|     15    |    10    |      0       |        80       |    gini   | [[2470    0   40]  |         0.51        |         0.51         |\n",
            "|           |          |              |                 |           |  [1480    0   40]  |                     |                      |\n",
            "|           |          |              |                 |           |  [ 909    0   60]] |                     |                      |\n",
            "|     15    |    10    |      90      |        20       |  entropy  | [[2473    0   37]  |         0.50        |         0.51         |\n",
            "|           |          |              |                 |           |  [1489    0   31]  |                     |                      |\n",
            "|           |          |              |                 |           |  [ 922    0   47]] |                     |                      |\n",
            "|     15    |    20    |      0       |        80       |    gini   | [[2459    6   45]  |         0.51        |         0.52         |\n",
            "|           |          |              |                 |           |  [1468    3   49]  |                     |                      |\n",
            "|           |          |              |                 |           |  [ 876    7   86]] |                     |                      |\n",
            "|     15    |    20    |      90      |        20       |  entropy  | [[2463    0   47]  |         0.51        |         0.52         |\n",
            "|           |          |              |                 |           |  [1470    0   50]  |                     |                      |\n",
            "|           |          |              |                 |           |  [ 880    1   88]] |                     |                      |\n",
            "|     15    |    30    |      0       |        80       |    gini   | [[2441   15   54]  |         0.51        |         0.52         |\n",
            "|           |          |              |                 |           |  [1456   14   50]  |                     |                      |\n",
            "|           |          |              |                 |           |  [ 849   19  101]] |                     |                      |\n",
            "|     15    |    30    |      90      |        20       |  entropy  | [[2456    4   50]  |         0.51        |         0.52         |\n",
            "|           |          |              |                 |           |  [1458    6   56]  |                     |                      |\n",
            "|           |          |              |                 |           |  [ 859    7  103]] |                     |                      |\n",
            "|     15    |    40    |      0       |        80       |    gini   | [[2437   19   54]  |         0.51        |         0.53         |\n",
            "|           |          |              |                 |           |  [1450   21   49]  |                     |                      |\n",
            "|           |          |              |                 |           |  [ 828   32  109]] |                     |                      |\n",
            "|     15    |    40    |      90      |        20       |  entropy  | [[2454    5   51]  |         0.51        |         0.52         |\n",
            "|           |          |              |                 |           |  [1458   10   52]  |                     |                      |\n",
            "|           |          |              |                 |           |  [ 853   12  104]] |                     |                      |\n",
            "|     15    |    50    |      0       |        80       |    gini   | [[2425   28   57]  |         0.52        |         0.53         |\n",
            "|           |          |              |                 |           |  [1444   30   46]  |                     |                      |\n",
            "|           |          |              |                 |           |  [ 797   47  125]] |                     |                      |\n",
            "|     15    |    50    |      90      |        20       |  entropy  | [[2446    8   56]  |         0.52        |         0.53         |\n",
            "|           |          |              |                 |           |  [1441   24   55]  |                     |                      |\n",
            "|           |          |              |                 |           |  [ 825   23  121]] |                     |                      |\n",
            "|     15    |    60    |      0       |        80       |    gini   | [[2423   28   59]  |         0.52        |         0.54         |\n",
            "|           |          |              |                 |           |  [1435   35   50]  |                     |                      |\n",
            "|           |          |              |                 |           |  [ 782   50  137]] |                     |                      |\n",
            "|     15    |    60    |      90      |        20       |  entropy  | [[2439   11   60]  |         0.52        |         0.53         |\n",
            "|           |          |              |                 |           |  [1436   27   57]  |                     |                      |\n",
            "|           |          |              |                 |           |  [ 807   23  139]] |                     |                      |\n",
            "|     15    |    70    |      0       |        80       |    gini   | [[2415   35   60]  |         0.52        |         0.54         |\n",
            "|           |          |              |                 |           |  [1426   42   52]  |                     |                      |\n",
            "|           |          |              |                 |           |  [ 769   56  144]] |                     |                      |\n",
            "|     15    |    70    |      90      |        20       |  entropy  | [[2434   15   61]  |         0.52        |         0.54         |\n",
            "|           |          |              |                 |           |  [1432   30   58]  |                     |                      |\n",
            "|           |          |              |                 |           |  [ 797   28  144]] |                     |                      |\n",
            "|     15    |    80    |      0       |        80       |    gini   | [[2409   44   57]  |         0.52        |         0.55         |\n",
            "|           |          |              |                 |           |  [1408   58   54]  |                     |                      |\n",
            "|           |          |              |                 |           |  [ 759   58  152]] |                     |                      |\n",
            "|     15    |    80    |      90      |        20       |  entropy  | [[2422   26   62]  |         0.52        |         0.54         |\n",
            "|           |          |              |                 |           |  [1420   40   60]  |                     |                      |\n",
            "|           |          |              |                 |           |  [ 779   38  152]] |                     |                      |\n",
            "|     15    |    90    |      0       |        80       |    gini   | [[2405   48   57]  |         0.52        |         0.55         |\n",
            "|           |          |              |                 |           |  [1403   64   53]  |                     |                      |\n",
            "|           |          |              |                 |           |  [ 754   63  152]] |                     |                      |\n",
            "|     15    |    90    |      90      |        20       |  entropy  | [[2414   28   68]  |         0.52        |         0.54         |\n",
            "|           |          |              |                 |           |  [1413   47   60]  |                     |                      |\n",
            "|           |          |              |                 |           |  [ 771   40  158]] |                     |                      |\n",
            "|     15    |    98    |      0       |        80       |    gini   | [[2397   56   57]  |         0.52        |         0.55         |\n",
            "|           |          |              |                 |           |  [1398   66   56]  |                     |                      |\n",
            "|           |          |              |                 |           |  [ 748   65  156]] |                     |                      |\n",
            "|     15    |    98    |      90      |        20       |  entropy  | [[2411   33   66]  |         0.52        |         0.55         |\n",
            "|           |          |              |                 |           |  [1403   51   66]  |                     |                      |\n",
            "|           |          |              |                 |           |  [ 764   44  161]] |                     |                      |\n",
            "+-----------+----------+--------------+-----------------+-----------+--------------------+---------------------+----------------------+\n"
          ]
        }
      ]
    },
    {
      "cell_type": "code",
      "source": [
        "plt.plot(max_node_range, f1_score_micro_test_array) \n",
        "plt.xlabel('max node') \n",
        "plt.ylabel('f1 score micro test') \n",
        "plt.title('test plot') \n",
        "plt.show()"
      ],
      "metadata": {
        "id": "YuQXEuLVxuUP",
        "outputId": "da904e7a-5f62-46cd-fe69-52b7c1d297af",
        "colab": {
          "base_uri": "https://localhost:8080/",
          "height": 793
        }
      },
      "execution_count": 41,
      "outputs": [
        {
          "output_type": "error",
          "ename": "ValueError",
          "evalue": "ignored",
          "traceback": [
            "\u001b[0;31m---------------------------------------------------------------------------\u001b[0m",
            "\u001b[0;31mValueError\u001b[0m                                Traceback (most recent call last)",
            "\u001b[0;32m<ipython-input-41-4c7e0ae36628>\u001b[0m in \u001b[0;36m<cell line: 1>\u001b[0;34m()\u001b[0m\n\u001b[0;32m----> 1\u001b[0;31m \u001b[0mplt\u001b[0m\u001b[0;34m.\u001b[0m\u001b[0mplot\u001b[0m\u001b[0;34m(\u001b[0m\u001b[0mmax_node_range\u001b[0m\u001b[0;34m,\u001b[0m \u001b[0mf1_score_micro_test_array\u001b[0m\u001b[0;34m)\u001b[0m\u001b[0;34m\u001b[0m\u001b[0;34m\u001b[0m\u001b[0m\n\u001b[0m\u001b[1;32m      2\u001b[0m \u001b[0mplt\u001b[0m\u001b[0;34m.\u001b[0m\u001b[0mxlabel\u001b[0m\u001b[0;34m(\u001b[0m\u001b[0;34m'max node'\u001b[0m\u001b[0;34m)\u001b[0m\u001b[0;34m\u001b[0m\u001b[0;34m\u001b[0m\u001b[0m\n\u001b[1;32m      3\u001b[0m \u001b[0mplt\u001b[0m\u001b[0;34m.\u001b[0m\u001b[0mylabel\u001b[0m\u001b[0;34m(\u001b[0m\u001b[0;34m'f1 score micro test'\u001b[0m\u001b[0;34m)\u001b[0m\u001b[0;34m\u001b[0m\u001b[0;34m\u001b[0m\u001b[0m\n\u001b[1;32m      4\u001b[0m \u001b[0mplt\u001b[0m\u001b[0;34m.\u001b[0m\u001b[0mtitle\u001b[0m\u001b[0;34m(\u001b[0m\u001b[0;34m'test plot'\u001b[0m\u001b[0;34m)\u001b[0m\u001b[0;34m\u001b[0m\u001b[0;34m\u001b[0m\u001b[0m\n\u001b[1;32m      5\u001b[0m \u001b[0mplt\u001b[0m\u001b[0;34m.\u001b[0m\u001b[0mshow\u001b[0m\u001b[0;34m(\u001b[0m\u001b[0;34m)\u001b[0m\u001b[0;34m\u001b[0m\u001b[0;34m\u001b[0m\u001b[0m\n",
            "\u001b[0;32m/usr/local/lib/python3.9/dist-packages/matplotlib/pyplot.py\u001b[0m in \u001b[0;36mplot\u001b[0;34m(scalex, scaley, data, *args, **kwargs)\u001b[0m\n\u001b[1;32m   2810\u001b[0m \u001b[0;34m@\u001b[0m\u001b[0m_copy_docstring_and_deprecators\u001b[0m\u001b[0;34m(\u001b[0m\u001b[0mAxes\u001b[0m\u001b[0;34m.\u001b[0m\u001b[0mplot\u001b[0m\u001b[0;34m)\u001b[0m\u001b[0;34m\u001b[0m\u001b[0;34m\u001b[0m\u001b[0m\n\u001b[1;32m   2811\u001b[0m \u001b[0;32mdef\u001b[0m \u001b[0mplot\u001b[0m\u001b[0;34m(\u001b[0m\u001b[0;34m*\u001b[0m\u001b[0margs\u001b[0m\u001b[0;34m,\u001b[0m \u001b[0mscalex\u001b[0m\u001b[0;34m=\u001b[0m\u001b[0;32mTrue\u001b[0m\u001b[0;34m,\u001b[0m \u001b[0mscaley\u001b[0m\u001b[0;34m=\u001b[0m\u001b[0;32mTrue\u001b[0m\u001b[0;34m,\u001b[0m \u001b[0mdata\u001b[0m\u001b[0;34m=\u001b[0m\u001b[0;32mNone\u001b[0m\u001b[0;34m,\u001b[0m \u001b[0;34m**\u001b[0m\u001b[0mkwargs\u001b[0m\u001b[0;34m)\u001b[0m\u001b[0;34m:\u001b[0m\u001b[0;34m\u001b[0m\u001b[0;34m\u001b[0m\u001b[0m\n\u001b[0;32m-> 2812\u001b[0;31m     return gca().plot(\n\u001b[0m\u001b[1;32m   2813\u001b[0m         \u001b[0;34m*\u001b[0m\u001b[0margs\u001b[0m\u001b[0;34m,\u001b[0m \u001b[0mscalex\u001b[0m\u001b[0;34m=\u001b[0m\u001b[0mscalex\u001b[0m\u001b[0;34m,\u001b[0m \u001b[0mscaley\u001b[0m\u001b[0;34m=\u001b[0m\u001b[0mscaley\u001b[0m\u001b[0;34m,\u001b[0m\u001b[0;34m\u001b[0m\u001b[0;34m\u001b[0m\u001b[0m\n\u001b[1;32m   2814\u001b[0m         **({\"data\": data} if data is not None else {}), **kwargs)\n",
            "\u001b[0;32m/usr/local/lib/python3.9/dist-packages/matplotlib/axes/_axes.py\u001b[0m in \u001b[0;36mplot\u001b[0;34m(self, scalex, scaley, data, *args, **kwargs)\u001b[0m\n\u001b[1;32m   1686\u001b[0m         \"\"\"\n\u001b[1;32m   1687\u001b[0m         \u001b[0mkwargs\u001b[0m \u001b[0;34m=\u001b[0m \u001b[0mcbook\u001b[0m\u001b[0;34m.\u001b[0m\u001b[0mnormalize_kwargs\u001b[0m\u001b[0;34m(\u001b[0m\u001b[0mkwargs\u001b[0m\u001b[0;34m,\u001b[0m \u001b[0mmlines\u001b[0m\u001b[0;34m.\u001b[0m\u001b[0mLine2D\u001b[0m\u001b[0;34m)\u001b[0m\u001b[0;34m\u001b[0m\u001b[0;34m\u001b[0m\u001b[0m\n\u001b[0;32m-> 1688\u001b[0;31m         \u001b[0mlines\u001b[0m \u001b[0;34m=\u001b[0m \u001b[0;34m[\u001b[0m\u001b[0;34m*\u001b[0m\u001b[0mself\u001b[0m\u001b[0;34m.\u001b[0m\u001b[0m_get_lines\u001b[0m\u001b[0;34m(\u001b[0m\u001b[0;34m*\u001b[0m\u001b[0margs\u001b[0m\u001b[0;34m,\u001b[0m \u001b[0mdata\u001b[0m\u001b[0;34m=\u001b[0m\u001b[0mdata\u001b[0m\u001b[0;34m,\u001b[0m \u001b[0;34m**\u001b[0m\u001b[0mkwargs\u001b[0m\u001b[0;34m)\u001b[0m\u001b[0;34m]\u001b[0m\u001b[0;34m\u001b[0m\u001b[0;34m\u001b[0m\u001b[0m\n\u001b[0m\u001b[1;32m   1689\u001b[0m         \u001b[0;32mfor\u001b[0m \u001b[0mline\u001b[0m \u001b[0;32min\u001b[0m \u001b[0mlines\u001b[0m\u001b[0;34m:\u001b[0m\u001b[0;34m\u001b[0m\u001b[0;34m\u001b[0m\u001b[0m\n\u001b[1;32m   1690\u001b[0m             \u001b[0mself\u001b[0m\u001b[0;34m.\u001b[0m\u001b[0madd_line\u001b[0m\u001b[0;34m(\u001b[0m\u001b[0mline\u001b[0m\u001b[0;34m)\u001b[0m\u001b[0;34m\u001b[0m\u001b[0;34m\u001b[0m\u001b[0m\n",
            "\u001b[0;32m/usr/local/lib/python3.9/dist-packages/matplotlib/axes/_base.py\u001b[0m in \u001b[0;36m__call__\u001b[0;34m(self, data, *args, **kwargs)\u001b[0m\n\u001b[1;32m    309\u001b[0m                 \u001b[0mthis\u001b[0m \u001b[0;34m+=\u001b[0m \u001b[0margs\u001b[0m\u001b[0;34m[\u001b[0m\u001b[0;36m0\u001b[0m\u001b[0;34m]\u001b[0m\u001b[0;34m,\u001b[0m\u001b[0;34m\u001b[0m\u001b[0;34m\u001b[0m\u001b[0m\n\u001b[1;32m    310\u001b[0m                 \u001b[0margs\u001b[0m \u001b[0;34m=\u001b[0m \u001b[0margs\u001b[0m\u001b[0;34m[\u001b[0m\u001b[0;36m1\u001b[0m\u001b[0;34m:\u001b[0m\u001b[0;34m]\u001b[0m\u001b[0;34m\u001b[0m\u001b[0;34m\u001b[0m\u001b[0m\n\u001b[0;32m--> 311\u001b[0;31m             yield from self._plot_args(\n\u001b[0m\u001b[1;32m    312\u001b[0m                 this, kwargs, ambiguous_fmt_datakey=ambiguous_fmt_datakey)\n\u001b[1;32m    313\u001b[0m \u001b[0;34m\u001b[0m\u001b[0m\n",
            "\u001b[0;32m/usr/local/lib/python3.9/dist-packages/matplotlib/axes/_base.py\u001b[0m in \u001b[0;36m_plot_args\u001b[0;34m(self, tup, kwargs, return_kwargs, ambiguous_fmt_datakey)\u001b[0m\n\u001b[1;32m    502\u001b[0m \u001b[0;34m\u001b[0m\u001b[0m\n\u001b[1;32m    503\u001b[0m         \u001b[0;32mif\u001b[0m \u001b[0mx\u001b[0m\u001b[0;34m.\u001b[0m\u001b[0mshape\u001b[0m\u001b[0;34m[\u001b[0m\u001b[0;36m0\u001b[0m\u001b[0;34m]\u001b[0m \u001b[0;34m!=\u001b[0m \u001b[0my\u001b[0m\u001b[0;34m.\u001b[0m\u001b[0mshape\u001b[0m\u001b[0;34m[\u001b[0m\u001b[0;36m0\u001b[0m\u001b[0;34m]\u001b[0m\u001b[0;34m:\u001b[0m\u001b[0;34m\u001b[0m\u001b[0;34m\u001b[0m\u001b[0m\n\u001b[0;32m--> 504\u001b[0;31m             raise ValueError(f\"x and y must have same first dimension, but \"\n\u001b[0m\u001b[1;32m    505\u001b[0m                              f\"have shapes {x.shape} and {y.shape}\")\n\u001b[1;32m    506\u001b[0m         \u001b[0;32mif\u001b[0m \u001b[0mx\u001b[0m\u001b[0;34m.\u001b[0m\u001b[0mndim\u001b[0m \u001b[0;34m>\u001b[0m \u001b[0;36m2\u001b[0m \u001b[0;32mor\u001b[0m \u001b[0my\u001b[0m\u001b[0;34m.\u001b[0m\u001b[0mndim\u001b[0m \u001b[0;34m>\u001b[0m \u001b[0;36m2\u001b[0m\u001b[0;34m:\u001b[0m\u001b[0;34m\u001b[0m\u001b[0;34m\u001b[0m\u001b[0m\n",
            "\u001b[0;31mValueError\u001b[0m: x and y must have same first dimension, but have shapes (11,) and (44,)"
          ]
        },
        {
          "output_type": "display_data",
          "data": {
            "text/plain": [
              "<Figure size 640x480 with 1 Axes>"
            ],
            "image/png": "[encoded data removed]"
          },
          "metadata": {}
        }
      ]
    },
    {
      "cell_type": "code",
      "source": [
        "plt.plot(max_node_range, f1_score_micro_train_array) \n",
        "plt.xlabel('max node') \n",
        "plt.ylabel('f1 score micro train') \n",
        "plt.title('train plot') \n",
        "plt.show()"
      ],
      "metadata": {
        "id": "19iB84d02Gpa",
        "outputId": "26b591a7-0459-45b0-e6e7-424ba326c2e7",
        "colab": {
          "base_uri": "https://localhost:8080/",
          "height": 793
        }
      },
      "execution_count": 36,
      "outputs": [
        {
          "output_type": "error",
          "ename": "ValueError",
          "evalue": "ignored",
          "traceback": [
            "\u001b[0;31m---------------------------------------------------------------------------\u001b[0m",
            "\u001b[0;31mValueError\u001b[0m                                Traceback (most recent call last)",
            "\u001b[0;32m<ipython-input-36-f5fba4dd827c>\u001b[0m in \u001b[0;36m<cell line: 1>\u001b[0;34m()\u001b[0m\n\u001b[0;32m----> 1\u001b[0;31m \u001b[0mplt\u001b[0m\u001b[0;34m.\u001b[0m\u001b[0mplot\u001b[0m\u001b[0;34m(\u001b[0m\u001b[0mmax_depth_range\u001b[0m\u001b[0;34m,\u001b[0m \u001b[0mf1_score_micro_train_array\u001b[0m\u001b[0;34m)\u001b[0m\u001b[0;34m\u001b[0m\u001b[0;34m\u001b[0m\u001b[0m\n\u001b[0m\u001b[1;32m      2\u001b[0m \u001b[0mplt\u001b[0m\u001b[0;34m.\u001b[0m\u001b[0mxlabel\u001b[0m\u001b[0;34m(\u001b[0m\u001b[0;34m'max depth'\u001b[0m\u001b[0;34m)\u001b[0m\u001b[0;34m\u001b[0m\u001b[0;34m\u001b[0m\u001b[0m\n\u001b[1;32m      3\u001b[0m \u001b[0mplt\u001b[0m\u001b[0;34m.\u001b[0m\u001b[0mylabel\u001b[0m\u001b[0;34m(\u001b[0m\u001b[0;34m'f1 score micro train'\u001b[0m\u001b[0;34m)\u001b[0m\u001b[0;34m\u001b[0m\u001b[0;34m\u001b[0m\u001b[0m\n\u001b[1;32m      4\u001b[0m \u001b[0mplt\u001b[0m\u001b[0;34m.\u001b[0m\u001b[0mtitle\u001b[0m\u001b[0;34m(\u001b[0m\u001b[0;34m'train plot'\u001b[0m\u001b[0;34m)\u001b[0m\u001b[0;34m\u001b[0m\u001b[0;34m\u001b[0m\u001b[0m\n\u001b[1;32m      5\u001b[0m \u001b[0mplt\u001b[0m\u001b[0;34m.\u001b[0m\u001b[0mshow\u001b[0m\u001b[0;34m(\u001b[0m\u001b[0;34m)\u001b[0m\u001b[0;34m\u001b[0m\u001b[0;34m\u001b[0m\u001b[0m\n",
            "\u001b[0;32m/usr/local/lib/python3.9/dist-packages/matplotlib/pyplot.py\u001b[0m in \u001b[0;36mplot\u001b[0;34m(scalex, scaley, data, *args, **kwargs)\u001b[0m\n\u001b[1;32m   2810\u001b[0m \u001b[0;34m@\u001b[0m\u001b[0m_copy_docstring_and_deprecators\u001b[0m\u001b[0;34m(\u001b[0m\u001b[0mAxes\u001b[0m\u001b[0;34m.\u001b[0m\u001b[0mplot\u001b[0m\u001b[0;34m)\u001b[0m\u001b[0;34m\u001b[0m\u001b[0;34m\u001b[0m\u001b[0m\n\u001b[1;32m   2811\u001b[0m \u001b[0;32mdef\u001b[0m \u001b[0mplot\u001b[0m\u001b[0;34m(\u001b[0m\u001b[0;34m*\u001b[0m\u001b[0margs\u001b[0m\u001b[0;34m,\u001b[0m \u001b[0mscalex\u001b[0m\u001b[0;34m=\u001b[0m\u001b[0;32mTrue\u001b[0m\u001b[0;34m,\u001b[0m \u001b[0mscaley\u001b[0m\u001b[0;34m=\u001b[0m\u001b[0;32mTrue\u001b[0m\u001b[0;34m,\u001b[0m \u001b[0mdata\u001b[0m\u001b[0;34m=\u001b[0m\u001b[0;32mNone\u001b[0m\u001b[0;34m,\u001b[0m \u001b[0;34m**\u001b[0m\u001b[0mkwargs\u001b[0m\u001b[0;34m)\u001b[0m\u001b[0;34m:\u001b[0m\u001b[0;34m\u001b[0m\u001b[0;34m\u001b[0m\u001b[0m\n\u001b[0;32m-> 2812\u001b[0;31m     return gca().plot(\n\u001b[0m\u001b[1;32m   2813\u001b[0m         \u001b[0;34m*\u001b[0m\u001b[0margs\u001b[0m\u001b[0;34m,\u001b[0m \u001b[0mscalex\u001b[0m\u001b[0;34m=\u001b[0m\u001b[0mscalex\u001b[0m\u001b[0;34m,\u001b[0m \u001b[0mscaley\u001b[0m\u001b[0;34m=\u001b[0m\u001b[0mscaley\u001b[0m\u001b[0;34m,\u001b[0m\u001b[0;34m\u001b[0m\u001b[0;34m\u001b[0m\u001b[0m\n\u001b[1;32m   2814\u001b[0m         **({\"data\": data} if data is not None else {}), **kwargs)\n",
            "\u001b[0;32m/usr/local/lib/python3.9/dist-packages/matplotlib/axes/_axes.py\u001b[0m in \u001b[0;36mplot\u001b[0;34m(self, scalex, scaley, data, *args, **kwargs)\u001b[0m\n\u001b[1;32m   1686\u001b[0m         \"\"\"\n\u001b[1;32m   1687\u001b[0m         \u001b[0mkwargs\u001b[0m \u001b[0;34m=\u001b[0m \u001b[0mcbook\u001b[0m\u001b[0;34m.\u001b[0m\u001b[0mnormalize_kwargs\u001b[0m\u001b[0;34m(\u001b[0m\u001b[0mkwargs\u001b[0m\u001b[0;34m,\u001b[0m \u001b[0mmlines\u001b[0m\u001b[0;34m.\u001b[0m\u001b[0mLine2D\u001b[0m\u001b[0;34m)\u001b[0m\u001b[0;34m\u001b[0m\u001b[0;34m\u001b[0m\u001b[0m\n\u001b[0;32m-> 1688\u001b[0;31m         \u001b[0mlines\u001b[0m \u001b[0;34m=\u001b[0m \u001b[0;34m[\u001b[0m\u001b[0;34m*\u001b[0m\u001b[0mself\u001b[0m\u001b[0;34m.\u001b[0m\u001b[0m_get_lines\u001b[0m\u001b[0;34m(\u001b[0m\u001b[0;34m*\u001b[0m\u001b[0margs\u001b[0m\u001b[0;34m,\u001b[0m \u001b[0mdata\u001b[0m\u001b[0;34m=\u001b[0m\u001b[0mdata\u001b[0m\u001b[0;34m,\u001b[0m \u001b[0;34m**\u001b[0m\u001b[0mkwargs\u001b[0m\u001b[0;34m)\u001b[0m\u001b[0;34m]\u001b[0m\u001b[0;34m\u001b[0m\u001b[0;34m\u001b[0m\u001b[0m\n\u001b[0m\u001b[1;32m   1689\u001b[0m         \u001b[0;32mfor\u001b[0m \u001b[0mline\u001b[0m \u001b[0;32min\u001b[0m \u001b[0mlines\u001b[0m\u001b[0;34m:\u001b[0m\u001b[0;34m\u001b[0m\u001b[0;34m\u001b[0m\u001b[0m\n\u001b[1;32m   1690\u001b[0m             \u001b[0mself\u001b[0m\u001b[0;34m.\u001b[0m\u001b[0madd_line\u001b[0m\u001b[0;34m(\u001b[0m\u001b[0mline\u001b[0m\u001b[0;34m)\u001b[0m\u001b[0;34m\u001b[0m\u001b[0;34m\u001b[0m\u001b[0m\n",
            "\u001b[0;32m/usr/local/lib/python3.9/dist-packages/matplotlib/axes/_base.py\u001b[0m in \u001b[0;36m__call__\u001b[0;34m(self, data, *args, **kwargs)\u001b[0m\n\u001b[1;32m    309\u001b[0m                 \u001b[0mthis\u001b[0m \u001b[0;34m+=\u001b[0m \u001b[0margs\u001b[0m\u001b[0;34m[\u001b[0m\u001b[0;36m0\u001b[0m\u001b[0;34m]\u001b[0m\u001b[0;34m,\u001b[0m\u001b[0;34m\u001b[0m\u001b[0;34m\u001b[0m\u001b[0m\n\u001b[1;32m    310\u001b[0m                 \u001b[0margs\u001b[0m \u001b[0;34m=\u001b[0m \u001b[0margs\u001b[0m\u001b[0;34m[\u001b[0m\u001b[0;36m1\u001b[0m\u001b[0;34m:\u001b[0m\u001b[0;34m]\u001b[0m\u001b[0;34m\u001b[0m\u001b[0;34m\u001b[0m\u001b[0m\n\u001b[0;32m--> 311\u001b[0;31m             yield from self._plot_args(\n\u001b[0m\u001b[1;32m    312\u001b[0m                 this, kwargs, ambiguous_fmt_datakey=ambiguous_fmt_datakey)\n\u001b[1;32m    313\u001b[0m \u001b[0;34m\u001b[0m\u001b[0m\n",
            "\u001b[0;32m/usr/local/lib/python3.9/dist-packages/matplotlib/axes/_base.py\u001b[0m in \u001b[0;36m_plot_args\u001b[0;34m(self, tup, kwargs, return_kwargs, ambiguous_fmt_datakey)\u001b[0m\n\u001b[1;32m    502\u001b[0m \u001b[0;34m\u001b[0m\u001b[0m\n\u001b[1;32m    503\u001b[0m         \u001b[0;32mif\u001b[0m \u001b[0mx\u001b[0m\u001b[0;34m.\u001b[0m\u001b[0mshape\u001b[0m\u001b[0;34m[\u001b[0m\u001b[0;36m0\u001b[0m\u001b[0;34m]\u001b[0m \u001b[0;34m!=\u001b[0m \u001b[0my\u001b[0m\u001b[0;34m.\u001b[0m\u001b[0mshape\u001b[0m\u001b[0;34m[\u001b[0m\u001b[0;36m0\u001b[0m\u001b[0;34m]\u001b[0m\u001b[0;34m:\u001b[0m\u001b[0;34m\u001b[0m\u001b[0;34m\u001b[0m\u001b[0m\n\u001b[0;32m--> 504\u001b[0;31m             raise ValueError(f\"x and y must have same first dimension, but \"\n\u001b[0m\u001b[1;32m    505\u001b[0m                              f\"have shapes {x.shape} and {y.shape}\")\n\u001b[1;32m    506\u001b[0m         \u001b[0;32mif\u001b[0m \u001b[0mx\u001b[0m\u001b[0;34m.\u001b[0m\u001b[0mndim\u001b[0m \u001b[0;34m>\u001b[0m \u001b[0;36m2\u001b[0m \u001b[0;32mor\u001b[0m \u001b[0my\u001b[0m\u001b[0;34m.\u001b[0m\u001b[0mndim\u001b[0m \u001b[0;34m>\u001b[0m \u001b[0;36m2\u001b[0m\u001b[0;34m:\u001b[0m\u001b[0;34m\u001b[0m\u001b[0;34m\u001b[0m\u001b[0m\n",
            "\u001b[0;31mValueError\u001b[0m: x and y must have same first dimension, but have shapes (2,) and (44,)"
          ]
        },
        {
          "output_type": "display_data",
          "data": {
            "text/plain": [
              "<Figure size 640x480 with 1 Axes>"
            ],
            "image/png": "[encoded data removed]"
          },
          "metadata": {}
        }
      ]
    }
  ]
}