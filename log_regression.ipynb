{
  "nbformat": 4,
  "nbformat_minor": 0,
  "metadata": {
    "colab": {
      "name": "Untitled0.ipynb",
      "provenance": []
    },
    "kernelspec": {
      "name": "python3",
      "display_name": "Python 3"
    },
    "language_info": {
      "name": "python"
    }
  },
  "cells": [
    {
      "cell_type": "markdown",
      "source": [
        "# Install requirements"
      ],
      "metadata": {
        "id": "aZzIubVoWpsF"
      }
    },
    {
      "cell_type": "code",
      "execution_count": 1,
      "metadata": {
        "colab": {
          "base_uri": "https://localhost:8080/"
        },
        "id": "Gxo_LF26S_WT",
        "outputId": "7bab31f0-cb97-493a-ec55-a3db1189cd64"
      },
      "outputs": [
        {
          "output_type": "stream",
          "name": "stdout",
          "text": [
            "Looking in indexes: https://pypi.org/simple, https://us-python.pkg.dev/colab-wheels/public/simple/\n",
            "Collecting sklearn\n",
            "  Downloading sklearn-0.0.post1.tar.gz (3.6 kB)\n",
            "  \u001b[1;31merror\u001b[0m: \u001b[1msubprocess-exited-with-error\u001b[0m\n",
            "  \n",
            "  \u001b[31m×\u001b[0m \u001b[32mpython setup.py egg_info\u001b[0m did not run successfully.\n",
            "  \u001b[31m│\u001b[0m exit code: \u001b[1;36m1\u001b[0m\n",
            "  \u001b[31m╰─>\u001b[0m See above for output.\n",
            "  \n",
            "  \u001b[1;35mnote\u001b[0m: This error originates from a subprocess, and is likely not a problem with pip.\n",
            "  Preparing metadata (setup.py) ... \u001b[?25l\u001b[?25herror\n",
            "\u001b[1;31merror\u001b[0m: \u001b[1mmetadata-generation-failed\u001b[0m\n",
            "\n",
            "\u001b[31m×\u001b[0m Encountered error while generating package metadata.\n",
            "\u001b[31m╰─>\u001b[0m See above for output.\n",
            "\n",
            "\u001b[1;35mnote\u001b[0m: This is an issue with the package mentioned above, not pip.\n",
            "\u001b[1;36mhint\u001b[0m: See above for details.\n",
            "Looking in indexes: https://pypi.org/simple, https://us-python.pkg.dev/colab-wheels/public/simple/\n",
            "Requirement already satisfied: prettytable in /usr/local/lib/python3.8/dist-packages (3.6.0)\n",
            "Requirement already satisfied: wcwidth in /usr/local/lib/python3.8/dist-packages (from prettytable) (0.2.6)\n",
            "Looking in indexes: https://pypi.org/simple, https://us-python.pkg.dev/colab-wheels/public/simple/\n",
            "Requirement already satisfied: matplotlib in /usr/local/lib/python3.8/dist-packages (3.5.3)\n",
            "Requirement already satisfied: packaging>=20.0 in /usr/local/lib/python3.8/dist-packages (from matplotlib) (23.0)\n",
            "Requirement already satisfied: python-dateutil>=2.7 in /usr/local/lib/python3.8/dist-packages (from matplotlib) (2.8.2)\n",
            "Requirement already satisfied: pyparsing>=2.2.1 in /usr/local/lib/python3.8/dist-packages (from matplotlib) (3.0.9)\n",
            "Requirement already satisfied: fonttools>=4.22.0 in /usr/local/lib/python3.8/dist-packages (from matplotlib) (4.38.0)\n",
            "Requirement already satisfied: cycler>=0.10 in /usr/local/lib/python3.8/dist-packages (from matplotlib) (0.11.0)\n",
            "Requirement already satisfied: pillow>=6.2.0 in /usr/local/lib/python3.8/dist-packages (from matplotlib) (8.4.0)\n",
            "Requirement already satisfied: numpy>=1.17 in /usr/local/lib/python3.8/dist-packages (from matplotlib) (1.22.4)\n",
            "Requirement already satisfied: kiwisolver>=1.0.1 in /usr/local/lib/python3.8/dist-packages (from matplotlib) (1.4.4)\n",
            "Requirement already satisfied: six>=1.5 in /usr/local/lib/python3.8/dist-packages (from python-dateutil>=2.7->matplotlib) (1.15.0)\n"
          ]
        }
      ],
      "source": [
        "!pip install sklearn pandas\n",
        "!pip install prettytable\n",
        "!pip install matplotlib"
      ]
    },
    {
      "cell_type": "markdown",
      "source": [],
      "metadata": {
        "id": "yW0KN3c_WkOg"
      }
    },
    {
      "cell_type": "markdown",
      "source": [
        "# Read dataset"
      ],
      "metadata": {
        "id": "1fks_re1WcxI"
      }
    },
    {
      "cell_type": "code",
      "source": [
        "import pandas as pd\n",
        "from google.colab import drive \n",
        "drive = drive.mount('/content/drive') "
      ],
      "metadata": {
        "colab": {
          "base_uri": "https://localhost:8080/"
        },
        "id": "xqlZPDhGTc0g",
        "outputId": "89cbfe05-60c7-4c89-a4f0-b9a33ad29807"
      },
      "execution_count": 4,
      "outputs": [
        {
          "output_type": "stream",
          "name": "stdout",
          "text": [
            "Drive already mounted at /content/drive; to attempt to forcibly remount, call drive.mount(\"/content/drive\", force_remount=True).\n"
          ]
        }
      ]
    },
    {
      "cell_type": "code",
      "source": [
        "from prettytable import PrettyTable\n",
        "from sklearn.metrics import mean_squared_error, accuracy_score\n",
        "from sklearn.tree import export_graphviz\n",
        "from IPython import display\n",
        "from sklearn.metrics import confusion_matrix\n",
        "from sklearn.metrics import classification_report\n",
        "import matplotlib as mpl\n",
        "import matplotlib.pyplot as plt"
      ],
      "metadata": {
        "id": "_iQxJxRvE7_k"
      },
      "execution_count": 5,
      "outputs": []
    },
    {
      "cell_type": "markdown",
      "source": [],
      "metadata": {
        "id": "47Ft7IDCWjFX"
      }
    },
    {
      "cell_type": "markdown",
      "source": [
        "# Call **Regression Logistic**t from `sklearn`"
      ],
      "metadata": {
        "id": "tqvakG5XWzTo"
      }
    },
    {
      "cell_type": "code",
      "source": [
        "test_features = pd.read_csv(\"/content/drive/MyDrive/new_df/test_set.csv\")\n",
        "train_features = pd.read_csv(\"/content/drive/MyDrive/new_df/train_set.csv\")\n",
        "test_target = pd.read_csv(\"/content/drive/MyDrive/new_df/test_set_NB.csv\")\n",
        "train_target = pd.read_csv(\"/content/drive/MyDrive/new_df/train_set_NB.csv\")"
      ],
      "metadata": {
        "id": "x6ARPvN0W9eO"
      },
      "execution_count": 6,
      "outputs": []
    },
    {
      "cell_type": "code",
      "source": [
        "print('Logistic regression')\n",
        "from sklearn.linear_model import LogisticRegression\n",
        "\n",
        "'''Create logistic regression classifier'''  \n",
        "model1 = LogisticRegression()\n",
        "#model2 = LogisticRegression(solver='sag', penalty='l1',n_jobs=-1, random_state=10)\n",
        "model3 = LogisticRegression(solver='sag', penalty='l2',n_jobs=-1, random_state=20)\n",
        "model4 = LogisticRegression(solver='saga', penalty='l1',n_jobs=-1, random_state=30)\n",
        "model5 = LogisticRegression(solver='saga', penalty='l2',n_jobs=-1, random_state=40)\n",
        "model6 = LogisticRegression(solver='liblinear', penalty='l1',n_jobs=-1, random_state=50)\n",
        "model7 = LogisticRegression(solver='liblinear', penalty='l2',n_jobs=-1, random_state=60)\n",
        "#model8 = LogisticRegression(solver='lbfgs', penalty='l1',n_jobs=-1, random_state=70)\n",
        "model9 = LogisticRegression(solver='lbfgs', penalty='l2',n_jobs=-1, random_state=80)\n",
        "model10 = LogisticRegression(solver='newton-cg', penalty='l1',n_jobs=-1, random_state=90)\n",
        "model11 = LogisticRegression(solver='newton-cg', penalty='l2',n_jobs=-1, random_state=0)\n",
        "\n",
        "'''Train and test'''\n",
        "model1.fit(train_features, train_target)\n",
        "#model2.fit(train_features, train_target)\n",
        "model3.fit(train_features, train_target)\n",
        "model4.fit(train_features, train_target)\n",
        "model5.fit(train_features, train_target)\n",
        "model6.fit(train_features, train_target)\n",
        "model7.fit(train_features, train_target)\n",
        "#model8.fit(train_features, train_target)\n",
        "model9.fit(train_features, train_target)\n",
        "#model10.fit(train_features, train_target)\n",
        "model11.fit(train_features, train_target)\n",
        "\n",
        "preds_test1 = model1.predict(test_features)\n",
        "#preds_test2 = model2.predict(test_features)\n",
        "preds_test3 = model3.predict(test_features)\n",
        "preds_test4 = model4.predict(test_features)\n",
        "preds_test5 = model5.predict(test_features)\n",
        "preds_test6 = model6.predict(test_features)\n",
        "preds_test7 = model7.predict(test_features)\n",
        "#preds_test8 = model8.predict(test_features)\n",
        "preds_test9 = model9.predict(test_features)\n",
        "#preds_test10 = model10.predict(test_features)\n",
        "preds_test11 = model11.predict(test_features)\n",
        "\n",
        "preds_train1 = model1.predict(train_features)\n",
        "#preds_train2 = model2.predict(train_features)\n",
        "preds_train3 = model3.predict(train_features)\n",
        "preds_train4 = model4.predict(train_features)\n",
        "preds_train5 = model5.predict(train_features)\n",
        "preds_train6 = model6.predict(train_features)\n",
        "preds_train7 = model7.predict(train_features)\n",
        "#preds_train8 = model8.predict(train_features)\n",
        "preds_train9 = model9.predict(train_features)\n",
        "#preds_train10 = model10.predict(train_features)\n",
        "preds_train11 = model11.predict(train_features)\n",
        "\n",
        "cr1 = confusion_matrix(test_target, preds_test1)\n",
        "#cr2 = confusion_matrix(test_target, preds_test2)\n",
        "cr3 = confusion_matrix(test_target, preds_test3)\n",
        "cr4 = confusion_matrix(test_target, preds_test4)\n",
        "cr5 = confusion_matrix(test_target, preds_test5)\n",
        "cr6 = confusion_matrix(test_target, preds_test6)\n",
        "cr7 = confusion_matrix(test_target, preds_test7)\n",
        "#cr8 = confusion_matrix(test_target, preds_test8)\n",
        "cr9 = confusion_matrix(test_target, preds_test9)\n",
        "#cr10 = confusion_matrix(test_target, preds_test10)\n",
        "cr11 = confusion_matrix(test_target, preds_test11)\n",
        "\n",
        "from sklearn.metrics import f1_score\n",
        "\n",
        "f1_micro_test1 = f1_score(test_target, preds_test1, average = 'micro')\n",
        "#f1_micro_test2 = f1_score(test_target, preds_test2, average = 'micro')\n",
        "f1_micro_test3 = f1_score(test_target, preds_test3, average = 'micro')\n",
        "f1_micro_test4 = f1_score(test_target, preds_test4, average = 'micro')\n",
        "f1_micro_test5 = f1_score(test_target, preds_test5, average = 'micro')\n",
        "f1_micro_test6 = f1_score(test_target, preds_test6, average = 'micro')\n",
        "f1_micro_test7 = f1_score(test_target, preds_test7, average = 'micro')\n",
        "#f1_micro_test8 = f1_score(test_target, preds_test8, average = 'micro')\n",
        "f1_micro_test9 = f1_score(test_target, preds_test9, average = 'micro')\n",
        "#f1_micro_test10 = f1_score(test_target, preds_test10, average = 'micro')\n",
        "f1_micro_test11 = f1_score(test_target, preds_test11, average = 'micro')\n",
        "\n",
        "f1_micro_train1 = f1_score(train_target, preds_train1, average = 'micro')\n",
        "#f1_micro_train2 = f1_score(train_target, preds_train2, average = 'micro')\n",
        "f1_micro_train3 = f1_score(train_target, preds_train3, average = 'micro')\n",
        "f1_micro_train4 = f1_score(train_target, preds_train4, average = 'micro')\n",
        "f1_micro_train5 = f1_score(train_target, preds_train5, average = 'micro')\n",
        "f1_micro_train6 = f1_score(train_target, preds_train6, average = 'micro')\n",
        "f1_micro_train7 = f1_score(train_target, preds_train7, average = 'micro')\n",
        "#f1_micro_train8 = f1_score(train_target, preds_train8, average = 'micro')\n",
        "f1_micro_train9 = f1_score(train_target, preds_train9, average = 'micro')\n",
        "#f1_micro_train10 = f1_score(train_target, preds_train10, average = 'micro')\n",
        "f1_micro_train11 = f1_score(train_target, preds_train11, average = 'micro')\n",
        "\n",
        "f1_score_micro_test1 = \"%.2f\"%round(f1_micro_test1, 2)\n",
        "#f1_score_micro_test2 = \"%.2f\"%round(f1_micro_test2, 2)\n",
        "f1_score_micro_test3 = \"%.2f\"%round(f1_micro_test3, 2)\n",
        "f1_score_micro_test4 = \"%.2f\"%round(f1_micro_test4, 2)\n",
        "f1_score_micro_test5 = \"%.2f\"%round(f1_micro_test5, 2)\n",
        "f1_score_micro_test6 = \"%.2f\"%round(f1_micro_test6, 2)\n",
        "f1_score_micro_test7 = \"%.2f\"%round(f1_micro_test7, 2)\n",
        "#f1_score_micro_test8 = \"%.2f\"%round(f1_micro_test8, 2)\n",
        "f1_score_micro_test9 = \"%.2f\"%round(f1_micro_test9, 2)\n",
        "#f1_score_micro_test10 = \"%.2f\"%round(f1_micro_test10, 2)\n",
        "f1_score_micro_test11 = \"%.2f\"%round(f1_micro_test11, 2)\n",
        "\n",
        "f1_score_micro_train1 = \"%.2f\"%round(f1_micro_test1, 2)\n",
        "#f1_score_micro_train2 = \"%.2f\"%round(f1_micro_test2, 2)\n",
        "f1_score_micro_train3 = \"%.2f\"%round(f1_micro_test3, 2)\n",
        "f1_score_micro_train4 = \"%.2f\"%round(f1_micro_test4, 2)\n",
        "f1_score_micro_train5 = \"%.2f\"%round(f1_micro_test5, 2)\n",
        "f1_score_micro_train6 = \"%.2f\"%round(f1_micro_test6, 2)\n",
        "f1_score_micro_train7 = \"%.2f\"%round(f1_micro_test7, 2)\n",
        "#f1_score_micro_train8 = \"%.2f\"%round(f1_micro_test8, 2)\n",
        "f1_score_micro_train9 = \"%.2f\"%round(f1_micro_test9, 2)\n",
        "#f1_score_micro_train10 = \"%.2f\"%round(f1_micro_test10, 2)\n",
        "f1_score_micro_train11 = \"%.2f\"%round(f1_micro_test11, 2)\n",
        "\n",
        "head = PrettyTable(['random_state', 'solver', 'penalty', 'n_jobs', 'confusion_matrix', 'f1_score_micro_test', 'f1_score_micro_train']) \n",
        "head.add_row(['', '', '', '', cr1, f1_score_micro_test1, f1_score_micro_train1]) \n",
        "#head.add_row(['10', 'sag', 'l1', '-1', cr2, f1_score_micro_test2, f1_score_micro_train2]) \n",
        "head.add_row(['20', 'sag', 'l2', '-1', cr3, f1_score_micro_test3, f1_score_micro_train3]) \n",
        "head.add_row(['30', 'saga', 'l1', '-1', cr4, f1_score_micro_test4, f1_score_micro_train4]) \n",
        "head.add_row(['40', 'saga', 'l2', '-1', cr5, f1_score_micro_test5, f1_score_micro_train5]) \n",
        "head.add_row(['50', 'liblinear', 'l1', '-1', cr6, f1_score_micro_test6, f1_score_micro_train6]) \n",
        "head.add_row(['60', 'liblinear', 'l2', '-1', cr7, f1_score_micro_test7, f1_score_micro_train7]) \n",
        "#head.add_row(['70', 'lbfgs', 'l1', '-1', cr8, f1_score_micro_test8, f1_score_micro_train8]) \n",
        "head.add_row(['80', 'lbfgs', 'l2', '-1', cr9, f1_score_micro_test9, f1_score_micro_train9]) \n",
        "#head.add_row(['90', 'newton-cg', 'l1', '-1', cr10, f1_score_micro_test10, f1_score_micro_train10]) \n",
        "head.add_row(['0', 'newton-cg', 'l2', '-1', cr11, f1_score_micro_test11, f1_score_micro_train11]) \n",
        "print(head)"
      ],
      "metadata": {
        "id": "7rob3tm-Eymg",
        "outputId": "6da72d7c-f256-43c4-bcd5-5b1108cf752e",
        "colab": {
          "base_uri": "https://localhost:8080/"
        }
      },
      "execution_count": 20,
      "outputs": [
        {
          "output_type": "stream",
          "name": "stdout",
          "text": [
            "Logistic regression\n"
          ]
        },
        {
          "output_type": "stream",
          "name": "stderr",
          "text": [
            "/usr/local/lib/python3.8/dist-packages/sklearn/utils/validation.py:993: DataConversionWarning: A column-vector y was passed when a 1d array was expected. Please change the shape of y to (n_samples, ), for example using ravel().\n",
            "  y = column_or_1d(y, warn=True)\n",
            "/usr/local/lib/python3.8/dist-packages/sklearn/linear_model/_logistic.py:814: ConvergenceWarning: lbfgs failed to converge (status=1):\n",
            "STOP: TOTAL NO. of ITERATIONS REACHED LIMIT.\n",
            "\n",
            "Increase the number of iterations (max_iter) or scale the data as shown in:\n",
            "    https://scikit-learn.org/stable/modules/preprocessing.html\n",
            "Please also refer to the documentation for alternative solver options:\n",
            "    https://scikit-learn.org/stable/modules/linear_model.html#logistic-regression\n",
            "  n_iter_i = _check_optimize_result(\n",
            "/usr/local/lib/python3.8/dist-packages/sklearn/utils/validation.py:993: DataConversionWarning: A column-vector y was passed when a 1d array was expected. Please change the shape of y to (n_samples, ), for example using ravel().\n",
            "  y = column_or_1d(y, warn=True)\n",
            "/usr/local/lib/python3.8/dist-packages/sklearn/utils/validation.py:993: DataConversionWarning: A column-vector y was passed when a 1d array was expected. Please change the shape of y to (n_samples, ), for example using ravel().\n",
            "  y = column_or_1d(y, warn=True)\n",
            "/usr/local/lib/python3.8/dist-packages/sklearn/linear_model/_sag.py:352: ConvergenceWarning: The max_iter was reached which means the coef_ did not converge\n",
            "  warnings.warn(\n",
            "/usr/local/lib/python3.8/dist-packages/sklearn/utils/validation.py:993: DataConversionWarning: A column-vector y was passed when a 1d array was expected. Please change the shape of y to (n_samples, ), for example using ravel().\n",
            "  y = column_or_1d(y, warn=True)\n",
            "/usr/local/lib/python3.8/dist-packages/sklearn/utils/validation.py:993: DataConversionWarning: A column-vector y was passed when a 1d array was expected. Please change the shape of y to (n_samples, ), for example using ravel().\n",
            "  y = column_or_1d(y, warn=True)\n",
            "/usr/local/lib/python3.8/dist-packages/sklearn/linear_model/_logistic.py:1523: UserWarning: 'n_jobs' > 1 does not have any effect when 'solver' is set to 'liblinear'. Got 'n_jobs' = 2.\n",
            "  warnings.warn(\n",
            "/usr/local/lib/python3.8/dist-packages/sklearn/utils/validation.py:993: DataConversionWarning: A column-vector y was passed when a 1d array was expected. Please change the shape of y to (n_samples, ), for example using ravel().\n",
            "  y = column_or_1d(y, warn=True)\n",
            "/usr/local/lib/python3.8/dist-packages/sklearn/linear_model/_logistic.py:1523: UserWarning: 'n_jobs' > 1 does not have any effect when 'solver' is set to 'liblinear'. Got 'n_jobs' = 2.\n",
            "  warnings.warn(\n",
            "/usr/local/lib/python3.8/dist-packages/sklearn/utils/validation.py:993: DataConversionWarning: A column-vector y was passed when a 1d array was expected. Please change the shape of y to (n_samples, ), for example using ravel().\n",
            "  y = column_or_1d(y, warn=True)\n",
            "/usr/local/lib/python3.8/dist-packages/sklearn/utils/validation.py:993: DataConversionWarning: A column-vector y was passed when a 1d array was expected. Please change the shape of y to (n_samples, ), for example using ravel().\n",
            "  y = column_or_1d(y, warn=True)\n"
          ]
        },
        {
          "output_type": "stream",
          "name": "stdout",
          "text": [
            "+--------------+-----------+---------+--------+--------------------+---------------------+----------------------+\n",
            "| random_state |   solver  | penalty | n_jobs |  confusion_matrix  | f1_score_micro_test | f1_score_micro_train |\n",
            "+--------------+-----------+---------+--------+--------------------+---------------------+----------------------+\n",
            "|              |           |         |        | [[2374   62   74]  |         0.50        |         0.50         |\n",
            "|              |           |         |        |  [1386   64   70]  |                     |                      |\n",
            "|              |           |         |        |  [ 834   60   75]] |                     |                      |\n",
            "|      20      |    sag    |    l2   |   -1   | [[2375   62   73]  |         0.50        |         0.50         |\n",
            "|              |           |         |        |  [1386   65   69]  |                     |                      |\n",
            "|              |           |         |        |  [ 832   60   77]] |                     |                      |\n",
            "|      30      |    saga   |    l1   |   -1   | [[2378   57   75]  |         0.50        |         0.50         |\n",
            "|              |           |         |        |  [1386   62   72]  |                     |                      |\n",
            "|              |           |         |        |  [ 835   58   76]] |                     |                      |\n",
            "|      40      |    saga   |    l2   |   -1   | [[2375   62   73]  |         0.50        |         0.50         |\n",
            "|              |           |         |        |  [1386   65   69]  |                     |                      |\n",
            "|              |           |         |        |  [ 832   60   77]] |                     |                      |\n",
            "|      50      | liblinear |    l1   |   -1   | [[2388   57   65]  |         0.50        |         0.50         |\n",
            "|              |           |         |        |  [1394   53   73]  |                     |                      |\n",
            "|              |           |         |        |  [ 842   56   71]] |                     |                      |\n",
            "|      60      | liblinear |    l2   |   -1   | [[2379   63   68]  |         0.50        |         0.50         |\n",
            "|              |           |         |        |  [1391   61   68]  |                     |                      |\n",
            "|              |           |         |        |  [ 837   60   72]] |                     |                      |\n",
            "|      80      |   lbfgs   |    l2   |   -1   | [[2374   62   74]  |         0.50        |         0.50         |\n",
            "|              |           |         |        |  [1386   64   70]  |                     |                      |\n",
            "|              |           |         |        |  [ 834   60   75]] |                     |                      |\n",
            "|      0       | newton-cg |    l2   |   -1   | [[2375   62   73]  |         0.50        |         0.50         |\n",
            "|              |           |         |        |  [1386   64   70]  |                     |                      |\n",
            "|              |           |         |        |  [ 832   60   77]] |                     |                      |\n",
            "+--------------+-----------+---------+--------+--------------------+---------------------+----------------------+\n"
          ]
        }
      ]
    },
    {
      "cell_type": "code",
      "source": [
        "x = ['', 'sag', 'saga', 'saga', 'liblinear', 'liblinear', 'lbfgs', 'newton-cg']\n",
        "y = [f1_score_micro_test1, f1_score_micro_test3, f1_score_micro_test4, f1_score_micro_test5, f1_score_micro_test6, f1_score_micro_test7, f1_score_micro_test9, f1_score_micro_test11]\n",
        "plt.plot(x, y) \n",
        "plt.xlabel('solver') \n",
        "plt.ylabel('f1 score micro test') \n",
        "plt.title('test plot') \n",
        "plt.show()"
      ],
      "metadata": {
        "id": "SGEYqY5KGn69",
        "outputId": "e079b71e-6c4e-4998-c869-8be867f65a66",
        "colab": {
          "base_uri": "https://localhost:8080/",
          "height": 295
        }
      },
      "execution_count": 21,
      "outputs": [
        {
          "output_type": "display_data",
          "data": {
            "text/plain": [
              "<Figure size 432x288 with 1 Axes>"
            ],
            "image/png": "[encoded data removed]"
          },
          "metadata": {
            "needs_background": "light"
          }
        }
      ]
    },
    {
      "cell_type": "code",
      "source": [
        "x = ['', 'sag', 'saga', 'saga', 'liblinear', 'liblinear', 'lbfgs', 'newton-cg']\n",
        "y = [f1_score_micro_train1, f1_score_micro_train3, f1_score_micro_train4, f1_score_micro_train5, f1_score_micro_train6, f1_score_micro_train7, f1_score_micro_train9, f1_score_micro_train11]\n",
        "plt.plot(x, y)\n",
        "plt.xlabel('solver') \n",
        "plt.ylabel('f1 score micro train') \n",
        "plt.title('train plot') \n",
        "plt.show()"
      ],
      "metadata": {
        "id": "SD14lOV-U4-M",
        "outputId": "c69e1f45-8889-49d6-9885-8c0e353638b1",
        "colab": {
          "base_uri": "https://localhost:8080/",
          "height": 295
        }
      },
      "execution_count": 22,
      "outputs": [
        {
          "output_type": "display_data",
          "data": {
            "text/plain": [
              "<Figure size 432x288 with 1 Axes>"
            ],
            "image/png": "[encoded data removed]"
          },
          "metadata": {
            "needs_background": "light"
          }
        }
      ]
    }
  ]
}