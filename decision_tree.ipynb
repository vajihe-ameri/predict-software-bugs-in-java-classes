{
  "nbformat": 4,
  "nbformat_minor": 0,
  "metadata": {
    "colab": {
      "name": "Untitled0.ipynb",
      "provenance": [],
      "collapsed_sections": []
    },
    "kernelspec": {
      "name": "python3",
      "display_name": "Python 3"
    },
    "language_info": {
      "name": "python"
    }
  },
  "cells": [
    {
      "cell_type": "markdown",
      "source": [
        "# Install requirements"
      ],
      "metadata": {
        "id": "aZzIubVoWpsF"
      }
    },
    {
      "cell_type": "code",
      "execution_count": 1,
      "metadata": {
        "colab": {
          "base_uri": "https://localhost:8080/"
        },
        "id": "Gxo_LF26S_WT",
        "outputId": "20d1ac85-6725-49d4-c864-08c52fbb7d60"
      },
      "outputs": [
        {
          "output_type": "stream",
          "name": "stdout",
          "text": [
            "Requirement already satisfied: sklearn in /usr/local/lib/python3.7/dist-packages (0.0)\n",
            "Requirement already satisfied: pandas in /usr/local/lib/python3.7/dist-packages (1.3.5)\n",
            "Requirement already satisfied: scikit-learn in /usr/local/lib/python3.7/dist-packages (from sklearn) (1.0.2)\n",
            "Requirement already satisfied: pytz>=2017.3 in /usr/local/lib/python3.7/dist-packages (from pandas) (2018.9)\n",
            "Requirement already satisfied: numpy>=1.17.3 in /usr/local/lib/python3.7/dist-packages (from pandas) (1.21.5)\n",
            "Requirement already satisfied: python-dateutil>=2.7.3 in /usr/local/lib/python3.7/dist-packages (from pandas) (2.8.2)\n",
            "Requirement already satisfied: six>=1.5 in /usr/local/lib/python3.7/dist-packages (from python-dateutil>=2.7.3->pandas) (1.15.0)\n",
            "Requirement already satisfied: threadpoolctl>=2.0.0 in /usr/local/lib/python3.7/dist-packages (from scikit-learn->sklearn) (3.1.0)\n",
            "Requirement already satisfied: joblib>=0.11 in /usr/local/lib/python3.7/dist-packages (from scikit-learn->sklearn) (1.1.0)\n",
            "Requirement already satisfied: scipy>=1.1.0 in /usr/local/lib/python3.7/dist-packages (from scikit-learn->sklearn) (1.4.1)\n"
          ]
        }
      ],
      "source": [
        "!pip install sklearn pandas"
      ]
    },
    {
      "cell_type": "markdown",
      "source": [
        ""
      ],
      "metadata": {
        "id": "yW0KN3c_WkOg"
      }
    },
    {
      "cell_type": "markdown",
      "source": [
        "# Read dataset"
      ],
      "metadata": {
        "id": "1fks_re1WcxI"
      }
    },
    {
      "cell_type": "code",
      "source": [
        "import pandas as pd\n",
        "from google.colab import drive \n",
        "drive = drive.mount('/content/drive') "
      ],
      "metadata": {
        "colab": {
          "base_uri": "https://localhost:8080/"
        },
        "id": "xqlZPDhGTc0g",
        "outputId": "6ade96cc-df52-4bd4-db5a-e4e4ddaebdc9"
      },
      "execution_count": 2,
      "outputs": [
        {
          "output_type": "stream",
          "name": "stdout",
          "text": [
            "Mounted at /content/drive\n"
          ]
        }
      ]
    },
    {
      "cell_type": "markdown",
      "source": [
        ""
      ],
      "metadata": {
        "id": "47Ft7IDCWjFX"
      }
    },
    {
      "cell_type": "markdown",
      "source": [
        "# Call **Random Fores**t from `sklearn`"
      ],
      "metadata": {
        "id": "tqvakG5XWzTo"
      }
    },
    {
      "cell_type": "code",
      "source": [
        "from sklearn.ensemble import RandomForestClassifier\n",
        "from sklearn.metrics import mean_squared_error, accuracy_score\n",
        "from sklearn.tree import export_graphviz\n",
        "from IPython import display\n",
        "from sklearn import tree\n",
        "\n",
        "import pandas as pd\n",
        "import numpy as np\n",
        "\n",
        "projects = ['Android-Universal-Image-Loader','antlr4','BroadleafCommerce','ceylon-ide-eclipse','elasticsearch','hazelcast','junit','MapDB','mcMMO','mct','neo4j','netty','orientdb','oryx','titan']\n",
        "for project in projects:\n",
        "  '''Read data from CSV with Pandas'''\n",
        "  ignored_cols = ['Hash', 'LongName']\n",
        "\n",
        "  _file =f\"drive/MyDrive/subtract/{project}/class.csv\"\n",
        "  cols = list(pd.read_csv(_file, nrows =1).dropna(axis='columns', how='all'))\n",
        "  cols.remove('Hash')\n",
        "  cols.remove('LongName')\n",
        "\n",
        "  df = pd.read_csv(_file,  usecols =cols)\n",
        "  normalized_df=(df-df.mean())/df.std()\n",
        "\n",
        "  '''Split into train and test with numpy (0.75 train, 0.25 test)'''\n",
        "  from sklearn.model_selection import train_test_split\n",
        "  train, test = train_test_split(df, test_size=0.2, random_state=23)\n",
        "  \n",
        "  '''First 4 colums are the data to train'''\n",
        "  features = df.columns[:-1]\n",
        "\n",
        "  '''Create decision tree classifier'''    \n",
        "  model = tree.DecisionTreeClassifier()\n",
        "\n",
        "  '''Species names to factor'''\n",
        "  y, bugs = pd.factorize(train['Number of Bugs'])\n",
        "  \n",
        "  '''Train and test'''\n",
        "  model.fit(train[features], y)\n",
        "  preds = bugs.values[model.predict(test[features])]\n",
        "  actual_classes = test.iloc[:,-1:]\n",
        "\n",
        "  score = accuracy_score(actual_classes, preds)\n",
        "  accuracy = \"%.2f\" % round(score*100, 2)\n",
        "\n",
        "  from sklearn.metrics import f1_score\n",
        "  f1 = f1_score(actual_classes, preds, average = 'macro')\n",
        "  f1_score = \"%.2f\"%round(f1, 2)\n",
        "\n",
        "  print(f'Project: {project} => Accuracy: {accuracy} ; F1: {f1_score}')\n"
      ],
      "metadata": {
        "colab": {
          "base_uri": "https://localhost:8080/"
        },
        "id": "x6ARPvN0W9eO",
        "outputId": "ecbda696-1915-4fa4-c9a5-1733ec3fe26b"
      },
      "execution_count": 12,
      "outputs": [
        {
          "output_type": "stream",
          "name": "stdout",
          "text": [
            "Project: Android-Universal-Image-Loader => Accuracy: 40.62 ; F1: 0.27\n",
            "Project: antlr4 => Accuracy: 52.38 ; F1: 0.30\n",
            "Project: BroadleafCommerce => Accuracy: 53.38 ; F1: 0.23\n",
            "Project: ceylon-ide-eclipse => Accuracy: 60.78 ; F1: 0.46\n",
            "Project: elasticsearch => Accuracy: 41.43 ; F1: 0.21\n",
            "Project: hazelcast => Accuracy: 45.91 ; F1: 0.30\n",
            "Project: junit => Accuracy: 50.00 ; F1: 0.42\n",
            "Project: MapDB => Accuracy: 39.44 ; F1: 0.26\n",
            "Project: mcMMO => Accuracy: 41.50 ; F1: 0.30\n",
            "Project: mct => Accuracy: 71.43 ; F1: 0.58\n",
            "Project: neo4j => Accuracy: 37.38 ; F1: 0.20\n",
            "Project: netty => Accuracy: 51.14 ; F1: 0.22\n",
            "Project: orientdb => Accuracy: 40.75 ; F1: 0.24\n",
            "Project: oryx => Accuracy: 82.50 ; F1: 0.45\n",
            "Project: titan => Accuracy: 52.33 ; F1: 0.57\n"
          ]
        }
      ]
    }
  ]
}