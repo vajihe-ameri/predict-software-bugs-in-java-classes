{
  "nbformat": 4,
  "nbformat_minor": 0,
  "metadata": {
    "colab": {
      "provenance": [],
      "authorship_tag": "ABX9TyO4pXMy2xG88RFoE8cx/xvQ",
      "include_colab_link": true
    },
    "kernelspec": {
      "name": "python3",
      "display_name": "Python 3"
    },
    "language_info": {
      "name": "python"
    }
  },
  "cells": [
    {
      "cell_type": "markdown",
      "metadata": {
        "id": "view-in-github",
        "colab_type": "text"
      },
      "source": [
        "<a href=\"https://colab.research.google.com/github/vajihe-ameri/predict-software-bugs-in-java-classes/blob/main/naive-bayes.ipynb\" target=\"_parent\"><img src=\"https://colab.research.google.com/assets/colab-badge.svg\" alt=\"Open In Colab\"/></a>"
      ]
    },
    {
      "cell_type": "code",
      "execution_count": 2,
      "metadata": {
        "colab": {
          "base_uri": "https://localhost:8080/"
        },
        "id": "pYoGDkmMy8Hx",
        "outputId": "58444380-727b-43fc-fb9f-a6d717e7e011"
      },
      "outputs": [
        {
          "output_type": "stream",
          "name": "stdout",
          "text": [
            "Looking in indexes: https://pypi.org/simple, https://us-python.pkg.dev/colab-wheels/public/simple/\n",
            "Collecting sklearn\n",
            "  Downloading sklearn-0.0.post1.tar.gz (3.6 kB)\n",
            "  Preparing metadata (setup.py) ... \u001b[?25l\u001b[?25hdone\n",
            "Requirement already satisfied: pandas in /usr/local/lib/python3.8/dist-packages (1.3.5)\n",
            "Requirement already satisfied: numpy>=1.17.3 in /usr/local/lib/python3.8/dist-packages (from pandas) (1.22.4)\n",
            "Requirement already satisfied: pytz>=2017.3 in /usr/local/lib/python3.8/dist-packages (from pandas) (2022.7.1)\n",
            "Requirement already satisfied: python-dateutil>=2.7.3 in /usr/local/lib/python3.8/dist-packages (from pandas) (2.8.2)\n",
            "Requirement already satisfied: six>=1.5 in /usr/local/lib/python3.8/dist-packages (from python-dateutil>=2.7.3->pandas) (1.15.0)\n",
            "Building wheels for collected packages: sklearn\n",
            "  Building wheel for sklearn (setup.py) ... \u001b[?25l\u001b[?25hdone\n",
            "  Created wheel for sklearn: filename=sklearn-0.0.post1-py3-none-any.whl size=2344 sha256=2bdb69c5395d1e54f22be95a588a84bb6049f33442dfca096a9c7f7398f96679\n",
            "  Stored in directory: /root/.cache/pip/wheels/14/25/f7/1cc0956978ae479e75140219088deb7a36f60459df242b1a72\n",
            "Successfully built sklearn\n",
            "Installing collected packages: sklearn\n",
            "Successfully installed sklearn-0.0.post1\n",
            "Looking in indexes: https://pypi.org/simple, https://us-python.pkg.dev/colab-wheels/public/simple/\n",
            "Requirement already satisfied: prettytable in /usr/local/lib/python3.8/dist-packages (3.6.0)\n",
            "Requirement already satisfied: wcwidth in /usr/local/lib/python3.8/dist-packages (from prettytable) (0.2.6)\n",
            "Looking in indexes: https://pypi.org/simple, https://us-python.pkg.dev/colab-wheels/public/simple/\n",
            "Requirement already satisfied: matplotlib in /usr/local/lib/python3.8/dist-packages (3.5.3)\n",
            "Requirement already satisfied: cycler>=0.10 in /usr/local/lib/python3.8/dist-packages (from matplotlib) (0.11.0)\n",
            "Requirement already satisfied: pillow>=6.2.0 in /usr/local/lib/python3.8/dist-packages (from matplotlib) (8.4.0)\n",
            "Requirement already satisfied: kiwisolver>=1.0.1 in /usr/local/lib/python3.8/dist-packages (from matplotlib) (1.4.4)\n",
            "Requirement already satisfied: numpy>=1.17 in /usr/local/lib/python3.8/dist-packages (from matplotlib) (1.22.4)\n",
            "Requirement already satisfied: packaging>=20.0 in /usr/local/lib/python3.8/dist-packages (from matplotlib) (23.0)\n",
            "Requirement already satisfied: pyparsing>=2.2.1 in /usr/local/lib/python3.8/dist-packages (from matplotlib) (3.0.9)\n",
            "Requirement already satisfied: fonttools>=4.22.0 in /usr/local/lib/python3.8/dist-packages (from matplotlib) (4.38.0)\n",
            "Requirement already satisfied: python-dateutil>=2.7 in /usr/local/lib/python3.8/dist-packages (from matplotlib) (2.8.2)\n",
            "Requirement already satisfied: six>=1.5 in /usr/local/lib/python3.8/dist-packages (from python-dateutil>=2.7->matplotlib) (1.15.0)\n"
          ]
        }
      ],
      "source": [
        "!pip install sklearn pandas\n",
        "!pip install prettytable\n",
        "!pip install matplotlib"
      ]
    },
    {
      "cell_type": "code",
      "source": [
        "import pandas as pd\n",
        "from google.colab import drive \n",
        "drive = drive.mount('/content/drive') "
      ],
      "metadata": {
        "colab": {
          "base_uri": "https://localhost:8080/"
        },
        "id": "Pf_7q5EbzJwd",
        "outputId": "2ef389a0-fb41-49a8-b8b1-acc597b5bb3e"
      },
      "execution_count": 3,
      "outputs": [
        {
          "output_type": "stream",
          "name": "stdout",
          "text": [
            "Mounted at /content/drive\n"
          ]
        }
      ]
    },
    {
      "cell_type": "code",
      "source": [
        "from prettytable import PrettyTable\n",
        "from sklearn.metrics import mean_squared_error, accuracy_score\n",
        "from sklearn.tree import export_graphviz\n",
        "from IPython import display\n",
        "from sklearn.metrics import confusion_matrix\n",
        "from sklearn.metrics import classification_report\n",
        "import matplotlib as mpl\n",
        "import matplotlib.pyplot as plt"
      ],
      "metadata": {
        "id": "cwyHpQlHzL30"
      },
      "execution_count": 4,
      "outputs": []
    },
    {
      "cell_type": "code",
      "source": [
        "test_features = pd.read_csv(\"/content/drive/MyDrive/new_df/test_set.csv\")\n",
        "train_features = pd.read_csv(\"/content/drive/MyDrive/new_df/train_set.csv\")\n",
        "test_target = pd.read_csv(\"/content/drive/MyDrive/new_df/test_set_NB.csv\")\n",
        "train_target = pd.read_csv(\"/content/drive/MyDrive/new_df/train_set_NB.csv\")"
      ],
      "metadata": {
        "id": "kZqty2dbzORf"
      },
      "execution_count": 5,
      "outputs": []
    },
    {
      "cell_type": "code",
      "source": [
        "print('Naive bayes')\n",
        "from sklearn.naive_bayes import GaussianNB\n",
        "\n",
        "'''Create Naive bayes classifier'''\n",
        "model1 = GaussianNB()\n",
        "model2 = GaussianNB(var_smoothing = 1e-11)\n",
        "model3 = GaussianNB(var_smoothing = 1e-09)\n",
        "model4 = GaussianNB(var_smoothing = 1e-10)\n",
        "\n",
        "'''Train and test'''\n",
        "model1.fit(train_features, train_target)\n",
        "model2.fit(train_features, train_target)\n",
        "model3.fit(train_features, train_target)\n",
        "model4.fit(train_features, train_target)\n",
        "\n",
        "preds_test1 = model1.predict(test_features)\n",
        "preds_test2 = model2.predict(test_features)\n",
        "preds_test3 = model3.predict(test_features)\n",
        "preds_test4 = model4.predict(test_features)\n",
        "\n",
        "preds_train1 = model1.predict(train_features)\n",
        "preds_train2 = model2.predict(train_features)\n",
        "preds_train3 = model3.predict(train_features)\n",
        "preds_train4 = model4.predict(train_features)\n",
        "\n",
        "cr1 = confusion_matrix(test_target, preds_test1)\n",
        "cr2 = confusion_matrix(test_target, preds_test2)\n",
        "cr3 = confusion_matrix(test_target, preds_test3)\n",
        "cr4 = confusion_matrix(test_target, preds_test4)\n",
        "\n",
        "from sklearn.metrics import f1_score\n",
        "\n",
        "f1_micro_test1 = f1_score(test_target, preds_test1, average = 'micro')\n",
        "f1_micro_test2 = f1_score(test_target, preds_test2, average = 'micro')\n",
        "f1_micro_test3 = f1_score(test_target, preds_test3, average = 'micro')\n",
        "f1_micro_test4 = f1_score(test_target, preds_test4, average = 'micro')\n",
        "\n",
        "f1_micro_train1 = f1_score(train_target, preds_train1, average = 'micro')\n",
        "f1_micro_train2 = f1_score(train_target, preds_train2, average = 'micro')\n",
        "f1_micro_train3 = f1_score(train_target, preds_train3, average = 'micro')\n",
        "f1_micro_train4 = f1_score(train_target, preds_train4, average = 'micro')\n",
        "\n",
        "f1_score_micro_test1 = \"%.2f\"%round(f1_micro_test1, 2)\n",
        "f1_score_micro_test2 = \"%.2f\"%round(f1_micro_test2, 2)\n",
        "f1_score_micro_test3 = \"%.2f\"%round(f1_micro_test3, 2)\n",
        "f1_score_micro_test4 = \"%.2f\"%round(f1_micro_test4, 2)\n",
        "\n",
        "f1_score_micro_train1 = \"%.2f\"%round(f1_micro_train1, 2)\n",
        "f1_score_micro_train2 = \"%.2f\"%round(f1_micro_train2, 2)\n",
        "f1_score_micro_train3 = \"%.2f\"%round(f1_micro_train3, 2)\n",
        "f1_score_micro_train4 = \"%.2f\"%round(f1_micro_train4, 2)\n",
        "\n",
        "head = PrettyTable(['var_smoothing', 'confusion_matrix', 'f1_score_micro_train', 'f1_score_micro_test']) \n",
        "head.add_row(['', cr1, f1_score_micro_train1, f1_score_micro_test1]) \n",
        "head.add_row(['1e-11', cr2, f1_score_micro_train2, f1_score_micro_test2]) \n",
        "head.add_row(['1e-9', cr3, f1_score_micro_train3, f1_score_micro_test3]) \n",
        "head.add_row(['1e-10', cr4, f1_score_micro_train4, f1_score_micro_test4]) \n",
        "print(head)"
      ],
      "metadata": {
        "colab": {
          "base_uri": "https://localhost:8080/"
        },
        "id": "VVIXltcZzZSh",
        "outputId": "61e463d8-20a9-46c0-d8cc-155f600183a7"
      },
      "execution_count": 9,
      "outputs": [
        {
          "output_type": "stream",
          "name": "stdout",
          "text": [
            "Naive bayes\n"
          ]
        },
        {
          "output_type": "stream",
          "name": "stderr",
          "text": [
            "/usr/local/lib/python3.8/dist-packages/sklearn/utils/validation.py:1143: DataConversionWarning: A column-vector y was passed when a 1d array was expected. Please change the shape of y to (n_samples, ), for example using ravel().\n",
            "  y = column_or_1d(y, warn=True)\n",
            "/usr/local/lib/python3.8/dist-packages/sklearn/utils/validation.py:1143: DataConversionWarning: A column-vector y was passed when a 1d array was expected. Please change the shape of y to (n_samples, ), for example using ravel().\n",
            "  y = column_or_1d(y, warn=True)\n",
            "/usr/local/lib/python3.8/dist-packages/sklearn/utils/validation.py:1143: DataConversionWarning: A column-vector y was passed when a 1d array was expected. Please change the shape of y to (n_samples, ), for example using ravel().\n",
            "  y = column_or_1d(y, warn=True)\n",
            "/usr/local/lib/python3.8/dist-packages/sklearn/utils/validation.py:1143: DataConversionWarning: A column-vector y was passed when a 1d array was expected. Please change the shape of y to (n_samples, ), for example using ravel().\n",
            "  y = column_or_1d(y, warn=True)\n"
          ]
        },
        {
          "output_type": "stream",
          "name": "stdout",
          "text": [
            "+---------------+--------------------+----------------------+---------------------+\n",
            "| var_smoothing |  confusion_matrix  | f1_score_micro_train | f1_score_micro_test |\n",
            "+---------------+--------------------+----------------------+---------------------+\n",
            "|               | [[2070   68  372]  |         0.48         |         0.49        |\n",
            "|               |  [1137   49  334]  |                      |                     |\n",
            "|               |  [ 630   17  322]] |                      |                     |\n",
            "|     1e-11     | [[2070   68  372]  |         0.48         |         0.49        |\n",
            "|               |  [1137   49  334]  |                      |                     |\n",
            "|               |  [ 630   17  322]] |                      |                     |\n",
            "|      1e-9     | [[2070   68  372]  |         0.48         |         0.49        |\n",
            "|               |  [1137   49  334]  |                      |                     |\n",
            "|               |  [ 630   17  322]] |                      |                     |\n",
            "|     1e-10     | [[2070   68  372]  |         0.48         |         0.49        |\n",
            "|               |  [1137   49  334]  |                      |                     |\n",
            "|               |  [ 630   17  322]] |                      |                     |\n",
            "+---------------+--------------------+----------------------+---------------------+\n"
          ]
        }
      ]
    },
    {
      "cell_type": "code",
      "source": [
        "x = ['', '1e-11', '1e-09', '1e-10']\n",
        "y = [f1_score_micro_test1, f1_score_micro_test2, f1_score_micro_test3, f1_score_micro_test4]\n",
        "plt.plot(x, y) \n",
        "plt.xlabel('var_smoothing') \n",
        "plt.ylabel('f1 score micro test') \n",
        "plt.title('test plot') \n",
        "plt.show()"
      ],
      "metadata": {
        "colab": {
          "base_uri": "https://localhost:8080/",
          "height": 296
        },
        "id": "Jha-1JDd1xU_",
        "outputId": "bc0a8117-0da7-4fe9-da4d-23f83f17d53d"
      },
      "execution_count": 10,
      "outputs": [
        {
          "output_type": "display_data",
          "data": {
            "text/plain": [
              "<Figure size 432x288 with 1 Axes>"
            ],
            "image/png": "[encoded data removed]"
          },
          "metadata": {
            "needs_background": "light"
          }
        }
      ]
    },
    {
      "cell_type": "code",
      "source": [
        "x = ['', '1e-11', '1e-09', '1e-10']\n",
        "y = [f1_score_micro_train1, f1_score_micro_train2, f1_score_micro_train3, f1_score_micro_train4]\n",
        "plt.plot(x, y) \n",
        "plt.xlabel('var_smoothing') \n",
        "plt.ylabel('f1 score micro train') \n",
        "plt.title('train plot') \n",
        "plt.show()"
      ],
      "metadata": {
        "colab": {
          "base_uri": "https://localhost:8080/",
          "height": 296
        },
        "id": "hp-UbuW32gtz",
        "outputId": "69ed7941-b43f-427d-a849-afe980c4f022"
      },
      "execution_count": 11,
      "outputs": [
        {
          "output_type": "display_data",
          "data": {
            "text/plain": [
              "<Figure size 432x288 with 1 Axes>"
            ],
            "image/png": "[encoded data removed]"
          },
          "metadata": {
            "needs_background": "light"
          }
        }
      ]
    }
  ]
}