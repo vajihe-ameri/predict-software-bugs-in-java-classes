{
  "nbformat": 4,
  "nbformat_minor": 0,
  "metadata": {
    "colab": {
      "provenance": [],
      "authorship_tag": "ABX9TyPj6WG6PWgVauFR+xdP/B/X",
      "include_colab_link": true
    },
    "kernelspec": {
      "name": "python3",
      "display_name": "Python 3"
    },
    "language_info": {
      "name": "python"
    }
  },
  "cells": [
    {
      "cell_type": "markdown",
      "metadata": {
        "id": "view-in-github",
        "colab_type": "text"
      },
      "source": [
        "<a href=\"https://colab.research.google.com/github/vajihe-ameri/predict-software-bugs-in-java-classes/blob/main/multi-layer-perceptron-neural-network.ipynb\" target=\"_parent\"><img src=\"https://colab.research.google.com/assets/colab-badge.svg\" alt=\"Open In Colab\"/></a>"
      ]
    },
    {
      "cell_type": "code",
      "execution_count": 1,
      "metadata": {
        "colab": {
          "base_uri": "https://localhost:8080/"
        },
        "id": "j4pQUQ0T3BUi",
        "outputId": "03739e22-afac-4066-afd0-7cf04e946236"
      },
      "outputs": [
        {
          "output_type": "stream",
          "name": "stdout",
          "text": [
            "Looking in indexes: https://pypi.org/simple, https://us-python.pkg.dev/colab-wheels/public/simple/\n",
            "Collecting sklearn\n",
            "  Downloading sklearn-0.0.post1.tar.gz (3.6 kB)\n",
            "  Preparing metadata (setup.py) ... \u001b[?25l\u001b[?25hdone\n",
            "Requirement already satisfied: pandas in /usr/local/lib/python3.8/dist-packages (1.3.5)\n",
            "Requirement already satisfied: python-dateutil>=2.7.3 in /usr/local/lib/python3.8/dist-packages (from pandas) (2.8.2)\n",
            "Requirement already satisfied: numpy>=1.17.3 in /usr/local/lib/python3.8/dist-packages (from pandas) (1.22.4)\n",
            "Requirement already satisfied: pytz>=2017.3 in /usr/local/lib/python3.8/dist-packages (from pandas) (2022.7.1)\n",
            "Requirement already satisfied: six>=1.5 in /usr/local/lib/python3.8/dist-packages (from python-dateutil>=2.7.3->pandas) (1.15.0)\n",
            "Building wheels for collected packages: sklearn\n",
            "  Building wheel for sklearn (setup.py) ... \u001b[?25l\u001b[?25hdone\n",
            "  Created wheel for sklearn: filename=sklearn-0.0.post1-py3-none-any.whl size=2344 sha256=f5664a5c5a9183a33ae07dd6b06f901435b61e5804061672b53220ed091501bb\n",
            "  Stored in directory: /root/.cache/pip/wheels/14/25/f7/1cc0956978ae479e75140219088deb7a36f60459df242b1a72\n",
            "Successfully built sklearn\n",
            "Installing collected packages: sklearn\n",
            "Successfully installed sklearn-0.0.post1\n",
            "Looking in indexes: https://pypi.org/simple, https://us-python.pkg.dev/colab-wheels/public/simple/\n",
            "Requirement already satisfied: prettytable in /usr/local/lib/python3.8/dist-packages (3.6.0)\n",
            "Requirement already satisfied: wcwidth in /usr/local/lib/python3.8/dist-packages (from prettytable) (0.2.6)\n",
            "Looking in indexes: https://pypi.org/simple, https://us-python.pkg.dev/colab-wheels/public/simple/\n",
            "Requirement already satisfied: matplotlib in /usr/local/lib/python3.8/dist-packages (3.5.3)\n",
            "Requirement already satisfied: pyparsing>=2.2.1 in /usr/local/lib/python3.8/dist-packages (from matplotlib) (3.0.9)\n",
            "Requirement already satisfied: python-dateutil>=2.7 in /usr/local/lib/python3.8/dist-packages (from matplotlib) (2.8.2)\n",
            "Requirement already satisfied: fonttools>=4.22.0 in /usr/local/lib/python3.8/dist-packages (from matplotlib) (4.38.0)\n",
            "Requirement already satisfied: packaging>=20.0 in /usr/local/lib/python3.8/dist-packages (from matplotlib) (23.0)\n",
            "Requirement already satisfied: pillow>=6.2.0 in /usr/local/lib/python3.8/dist-packages (from matplotlib) (8.4.0)\n",
            "Requirement already satisfied: numpy>=1.17 in /usr/local/lib/python3.8/dist-packages (from matplotlib) (1.22.4)\n",
            "Requirement already satisfied: kiwisolver>=1.0.1 in /usr/local/lib/python3.8/dist-packages (from matplotlib) (1.4.4)\n",
            "Requirement already satisfied: cycler>=0.10 in /usr/local/lib/python3.8/dist-packages (from matplotlib) (0.11.0)\n",
            "Requirement already satisfied: six>=1.5 in /usr/local/lib/python3.8/dist-packages (from python-dateutil>=2.7->matplotlib) (1.15.0)\n"
          ]
        }
      ],
      "source": [
        "!pip install sklearn pandas\n",
        "!pip install prettytable\n",
        "!pip install matplotlib"
      ]
    },
    {
      "cell_type": "code",
      "source": [
        "import pandas as pd\n",
        "from google.colab import drive \n",
        "drive = drive.mount('/content/drive') "
      ],
      "metadata": {
        "colab": {
          "base_uri": "https://localhost:8080/"
        },
        "id": "mXTk9NfJ4R6_",
        "outputId": "7ac9b4a0-49b8-4b12-8803-feb1b59aa2a4"
      },
      "execution_count": 5,
      "outputs": [
        {
          "output_type": "stream",
          "name": "stdout",
          "text": [
            "Drive already mounted at /content/drive; to attempt to forcibly remount, call drive.mount(\"/content/drive\", force_remount=True).\n"
          ]
        }
      ]
    },
    {
      "cell_type": "code",
      "source": [
        "from prettytable import PrettyTable\n",
        "from sklearn.metrics import mean_squared_error, accuracy_score\n",
        "from sklearn.tree import export_graphviz\n",
        "from IPython import display\n",
        "from sklearn.metrics import confusion_matrix\n",
        "from sklearn.metrics import classification_report\n",
        "import matplotlib as mpl\n",
        "import matplotlib.pyplot as plt"
      ],
      "metadata": {
        "id": "QDbivmTU4TkS"
      },
      "execution_count": 6,
      "outputs": []
    },
    {
      "cell_type": "code",
      "source": [
        "test_features = pd.read_csv(\"/content/drive/MyDrive/new_df/test_set.csv\")\n",
        "train_features = pd.read_csv(\"/content/drive/MyDrive/new_df/train_set.csv\")\n",
        "test_target = pd.read_csv(\"/content/drive/MyDrive/new_df/test_set_NB.csv\")\n",
        "train_target = pd.read_csv(\"/content/drive/MyDrive/new_df/train_set_NB.csv\")"
      ],
      "metadata": {
        "id": "J-cDUxKV4tH0"
      },
      "execution_count": 7,
      "outputs": []
    },
    {
      "cell_type": "code",
      "source": [
        "print('Multi layer perceptron neural network')\n",
        "from sklearn.neural_network import MLPClassifier\n",
        "\n",
        "'''Create Artificial Neural Network classifier'''\n",
        "model1 = MLPClassifier()\n",
        "model2 = MLPClassifier(solver='lbfgs', alpha=0.01, hidden_layer_sizes=(5, 2), activation = 'tanh', random_state=10)\n",
        "model3 = MLPClassifier(solver='lbfgs', alpha=0.05, hidden_layer_sizes=(100, 2), activation = 'relu', random_state=90)\n",
        "model4 = MLPClassifier(solver='sgd', alpha=1e-5, hidden_layer_sizes=(150, 100, 50), activation = 'logistic',random_state=20)\n",
        "model5 = MLPClassifier(solver='sgd', alpha=0.0001, hidden_layer_sizes=(2, 10), activation = 'tanh',random_state=80)\n",
        "model6 = MLPClassifier(solver='adam', alpha=0.05, hidden_layer_sizes=(100, 50, 30), activation = 'relu', random_state=30)\n",
        "model7 = MLPClassifier(solver='adam', alpha=1e-5, hidden_layer_sizes=(10, 60), activation = 'logistic', random_state=70)\n",
        "model8 = MLPClassifier(solver='lbfgs', alpha=0.0001, hidden_layer_sizes=(120, 80, 40), activation = 'identity', random_state=40)\n",
        "model9 = MLPClassifier(solver='lbfgs', alpha=0.01, hidden_layer_sizes=(30, 50, 100), activation = 'identity', random_state=60)\n",
        "model10 = MLPClassifier(solver='adam', alpha=0.0001, hidden_layer_sizes=(10, 60), activation = 'tanh', random_state=50)\n",
        "\n",
        "'''Train and test'''\n",
        "model1.fit(train_features, train_target)\n",
        "model2.fit(train_features, train_target)\n",
        "model3.fit(train_features, train_target)\n",
        "model4.fit(train_features, train_target)\n",
        "model5.fit(train_features, train_target)\n",
        "model6.fit(train_features, train_target)\n",
        "model7.fit(train_features, train_target)\n",
        "model8.fit(train_features, train_target)\n",
        "model9.fit(train_features, train_target)\n",
        "model10.fit(train_features, train_target)\n",
        "\n",
        "preds_test1 = model1.predict(test_features)\n",
        "preds_test2 = model2.predict(test_features)\n",
        "preds_test3 = model3.predict(test_features)\n",
        "preds_test4 = model4.predict(test_features)\n",
        "preds_test5 = model5.predict(test_features)\n",
        "preds_test6 = model6.predict(test_features)\n",
        "preds_test7 = model7.predict(test_features)\n",
        "preds_test8 = model8.predict(test_features)\n",
        "preds_test9 = model9.predict(test_features)\n",
        "preds_test10 = model10.predict(test_features)\n",
        "\n",
        "preds_train1 = model1.predict(train_features)\n",
        "preds_train2 = model2.predict(train_features)\n",
        "preds_train3 = model3.predict(train_features)\n",
        "preds_train4 = model4.predict(train_features)\n",
        "preds_train5 = model5.predict(train_features)\n",
        "preds_train6 = model6.predict(train_features)\n",
        "preds_train7 = model7.predict(train_features)\n",
        "preds_train8 = model8.predict(train_features)\n",
        "preds_train9 = model9.predict(train_features)\n",
        "preds_train10 = model10.predict(train_features)\n",
        "\n",
        "cr1 = confusion_matrix(test_target, preds_test1)\n",
        "cr2 = confusion_matrix(test_target, preds_test2)\n",
        "cr3 = confusion_matrix(test_target, preds_test3)\n",
        "cr4 = confusion_matrix(test_target, preds_test4)\n",
        "cr5 = confusion_matrix(test_target, preds_test5)\n",
        "cr6 = confusion_matrix(test_target, preds_test6)\n",
        "cr7 = confusion_matrix(test_target, preds_test7)\n",
        "cr8 = confusion_matrix(test_target, preds_test8)\n",
        "cr9 = confusion_matrix(test_target, preds_test9)\n",
        "cr10 = confusion_matrix(test_target, preds_test10)\n",
        "\n",
        "from sklearn.metrics import f1_score\n",
        "\n",
        "f1_micro_test1 = f1_score(test_target, preds_test1, average = 'micro')\n",
        "f1_micro_test2 = f1_score(test_target, preds_test2, average = 'micro')\n",
        "f1_micro_test3 = f1_score(test_target, preds_test3, average = 'micro')\n",
        "f1_micro_test4 = f1_score(test_target, preds_test4, average = 'micro')\n",
        "f1_micro_test5 = f1_score(test_target, preds_test5, average = 'micro')\n",
        "f1_micro_test6 = f1_score(test_target, preds_test6, average = 'micro')\n",
        "f1_micro_test7 = f1_score(test_target, preds_test7, average = 'micro')\n",
        "f1_micro_test8 = f1_score(test_target, preds_test8, average = 'micro')\n",
        "f1_micro_test9 = f1_score(test_target, preds_test9, average = 'micro')\n",
        "f1_micro_test10 = f1_score(test_target, preds_test10, average = 'micro')\n",
        "\n",
        "f1_micro_train1 = f1_score(train_target, preds_train1, average = 'micro')\n",
        "f1_micro_train2 = f1_score(train_target, preds_train2, average = 'micro')\n",
        "f1_micro_train3 = f1_score(train_target, preds_train3, average = 'micro')\n",
        "f1_micro_train4 = f1_score(train_target, preds_train4, average = 'micro')\n",
        "f1_micro_train5 = f1_score(train_target, preds_train5, average = 'micro')\n",
        "f1_micro_train6 = f1_score(train_target, preds_train6, average = 'micro')\n",
        "f1_micro_train7 = f1_score(train_target, preds_train7, average = 'micro')\n",
        "f1_micro_train8 = f1_score(train_target, preds_train8, average = 'micro')\n",
        "f1_micro_train9 = f1_score(train_target, preds_train9, average = 'micro')\n",
        "f1_micro_train10 = f1_score(train_target, preds_train10, average = 'micro')\n",
        "\n",
        "f1_score_micro_test1 = \"%.2f\"%round(f1_micro_test1, 2)\n",
        "f1_score_micro_test2 = \"%.2f\"%round(f1_micro_test2, 2)\n",
        "f1_score_micro_test3 = \"%.2f\"%round(f1_micro_test3, 2)\n",
        "f1_score_micro_test4 = \"%.2f\"%round(f1_micro_test4, 2)\n",
        "f1_score_micro_test5 = \"%.2f\"%round(f1_micro_test5, 2)\n",
        "f1_score_micro_test6 = \"%.2f\"%round(f1_micro_test6, 2)\n",
        "f1_score_micro_test7 = \"%.2f\"%round(f1_micro_test7, 2)\n",
        "f1_score_micro_test8 = \"%.2f\"%round(f1_micro_test8, 2)\n",
        "f1_score_micro_test9 = \"%.2f\"%round(f1_micro_test9, 2)\n",
        "f1_score_micro_test10 = \"%.2f\"%round(f1_micro_test10, 2)\n",
        "\n",
        "f1_score_micro_train1 = \"%.2f\"%round(f1_micro_train1, 2)\n",
        "f1_score_micro_train2 = \"%.2f\"%round(f1_micro_train2, 2)\n",
        "f1_score_micro_train3 = \"%.2f\"%round(f1_micro_train3, 2)\n",
        "f1_score_micro_train4 = \"%.2f\"%round(f1_micro_train4, 2)\n",
        "f1_score_micro_train5 = \"%.2f\"%round(f1_micro_train5, 2)\n",
        "f1_score_micro_train6 = \"%.2f\"%round(f1_micro_train6, 2)\n",
        "f1_score_micro_train7 = \"%.2f\"%round(f1_micro_train7, 2)\n",
        "f1_score_micro_train8 = \"%.2f\"%round(f1_micro_train8, 2)\n",
        "f1_score_micro_train9 = \"%.2f\"%round(f1_micro_train9, 2)\n",
        "f1_score_micro_train10 = \"%.2f\"%round(f1_micro_train10, 2)\n",
        "\n",
        "head = PrettyTable(['random_state', 'activation', 'solver', 'hidden_layer_sizestuple', 'alpha', 'confusion_matrix', 'f1_score_micro_train', 'f1_score_micro_test']) \n",
        "head.add_row(['', '', '', '', '', cr1, f1_score_micro_train1, f1_score_micro_test1]) \n",
        "head.add_row(['10', 'tanh', 'lbfgs', '(5, 2)', '0.01', cr2, f1_score_micro_train2, f1_score_micro_test2]) \n",
        "head.add_row(['90', 'relu', 'lbfgs', '(100, 2)', '0.05', cr3, f1_score_micro_train3, f1_score_micro_test3]) \n",
        "head.add_row(['20', 'logistic', 'sgd', '(150, 100, 50)', '1e-5', cr4, f1_score_micro_train4, f1_score_micro_test4]) \n",
        "head.add_row(['80', 'tanh', 'sgd', '(2, 10)', '0.0001', cr5, f1_score_micro_train5, f1_score_micro_test5]) \n",
        "head.add_row(['30', 'relu', 'adam', '(100, 50, 30)', '0.05', cr6, f1_score_micro_train6, f1_score_micro_test6]) \n",
        "head.add_row(['70', 'logistic', 'adam', '(10, 60)', '1e-5', cr7, f1_score_micro_train7, f1_score_micro_test7]) \n",
        "head.add_row(['40', 'identity', 'lbfgs', '(120, 80, 40)', '0.0001', cr8, f1_score_micro_train8, f1_score_micro_test8]) \n",
        "head.add_row(['60', 'identity', 'lbfgs', '(30, 50, 100)', '0.001', cr9, f1_score_micro_train9, f1_score_micro_test9]) \n",
        "head.add_row(['50', 'tanh', 'adam', '(10, 60)', '0.0001', cr10, f1_score_micro_train10, f1_score_micro_test10]) \n",
        "print(head)"
      ],
      "metadata": {
        "colab": {
          "base_uri": "https://localhost:8080/"
        },
        "id": "wN6wjxv6480J",
        "outputId": "63e11dd7-de7c-4a47-c846-020a2fa162eb"
      },
      "execution_count": 10,
      "outputs": [
        {
          "output_type": "stream",
          "name": "stdout",
          "text": [
            "Multi layer perceptron neural network\n"
          ]
        },
        {
          "output_type": "stream",
          "name": "stderr",
          "text": [
            "/usr/local/lib/python3.8/dist-packages/sklearn/neural_network/_multilayer_perceptron.py:1096: DataConversionWarning: A column-vector y was passed when a 1d array was expected. Please change the shape of y to (n_samples, ), for example using ravel().\n",
            "  y = column_or_1d(y, warn=True)\n",
            "/usr/local/lib/python3.8/dist-packages/sklearn/neural_network/_multilayer_perceptron.py:684: ConvergenceWarning: Stochastic Optimizer: Maximum iterations (200) reached and the optimization hasn't converged yet.\n",
            "  warnings.warn(\n",
            "/usr/local/lib/python3.8/dist-packages/sklearn/neural_network/_multilayer_perceptron.py:1096: DataConversionWarning: A column-vector y was passed when a 1d array was expected. Please change the shape of y to (n_samples, ), for example using ravel().\n",
            "  y = column_or_1d(y, warn=True)\n",
            "/usr/local/lib/python3.8/dist-packages/sklearn/neural_network/_multilayer_perceptron.py:541: ConvergenceWarning: lbfgs failed to converge (status=1):\n",
            "STOP: TOTAL NO. of ITERATIONS REACHED LIMIT.\n",
            "\n",
            "Increase the number of iterations (max_iter) or scale the data as shown in:\n",
            "    https://scikit-learn.org/stable/modules/preprocessing.html\n",
            "  self.n_iter_ = _check_optimize_result(\"lbfgs\", opt_res, self.max_iter)\n",
            "/usr/local/lib/python3.8/dist-packages/sklearn/neural_network/_multilayer_perceptron.py:1096: DataConversionWarning: A column-vector y was passed when a 1d array was expected. Please change the shape of y to (n_samples, ), for example using ravel().\n",
            "  y = column_or_1d(y, warn=True)\n",
            "/usr/local/lib/python3.8/dist-packages/sklearn/neural_network/_multilayer_perceptron.py:541: ConvergenceWarning: lbfgs failed to converge (status=1):\n",
            "STOP: TOTAL NO. of ITERATIONS REACHED LIMIT.\n",
            "\n",
            "Increase the number of iterations (max_iter) or scale the data as shown in:\n",
            "    https://scikit-learn.org/stable/modules/preprocessing.html\n",
            "  self.n_iter_ = _check_optimize_result(\"lbfgs\", opt_res, self.max_iter)\n",
            "/usr/local/lib/python3.8/dist-packages/sklearn/neural_network/_multilayer_perceptron.py:1096: DataConversionWarning: A column-vector y was passed when a 1d array was expected. Please change the shape of y to (n_samples, ), for example using ravel().\n",
            "  y = column_or_1d(y, warn=True)\n",
            "/usr/local/lib/python3.8/dist-packages/sklearn/neural_network/_multilayer_perceptron.py:1096: DataConversionWarning: A column-vector y was passed when a 1d array was expected. Please change the shape of y to (n_samples, ), for example using ravel().\n",
            "  y = column_or_1d(y, warn=True)\n",
            "/usr/local/lib/python3.8/dist-packages/sklearn/neural_network/_multilayer_perceptron.py:1096: DataConversionWarning: A column-vector y was passed when a 1d array was expected. Please change the shape of y to (n_samples, ), for example using ravel().\n",
            "  y = column_or_1d(y, warn=True)\n",
            "/usr/local/lib/python3.8/dist-packages/sklearn/neural_network/_multilayer_perceptron.py:684: ConvergenceWarning: Stochastic Optimizer: Maximum iterations (200) reached and the optimization hasn't converged yet.\n",
            "  warnings.warn(\n",
            "/usr/local/lib/python3.8/dist-packages/sklearn/neural_network/_multilayer_perceptron.py:1096: DataConversionWarning: A column-vector y was passed when a 1d array was expected. Please change the shape of y to (n_samples, ), for example using ravel().\n",
            "  y = column_or_1d(y, warn=True)\n",
            "/usr/local/lib/python3.8/dist-packages/sklearn/neural_network/_multilayer_perceptron.py:684: ConvergenceWarning: Stochastic Optimizer: Maximum iterations (200) reached and the optimization hasn't converged yet.\n",
            "  warnings.warn(\n",
            "/usr/local/lib/python3.8/dist-packages/sklearn/neural_network/_multilayer_perceptron.py:1096: DataConversionWarning: A column-vector y was passed when a 1d array was expected. Please change the shape of y to (n_samples, ), for example using ravel().\n",
            "  y = column_or_1d(y, warn=True)\n",
            "/usr/local/lib/python3.8/dist-packages/sklearn/neural_network/_multilayer_perceptron.py:541: ConvergenceWarning: lbfgs failed to converge (status=1):\n",
            "STOP: TOTAL NO. of ITERATIONS REACHED LIMIT.\n",
            "\n",
            "Increase the number of iterations (max_iter) or scale the data as shown in:\n",
            "    https://scikit-learn.org/stable/modules/preprocessing.html\n",
            "  self.n_iter_ = _check_optimize_result(\"lbfgs\", opt_res, self.max_iter)\n",
            "/usr/local/lib/python3.8/dist-packages/sklearn/neural_network/_multilayer_perceptron.py:1096: DataConversionWarning: A column-vector y was passed when a 1d array was expected. Please change the shape of y to (n_samples, ), for example using ravel().\n",
            "  y = column_or_1d(y, warn=True)\n",
            "/usr/local/lib/python3.8/dist-packages/sklearn/neural_network/_multilayer_perceptron.py:541: ConvergenceWarning: lbfgs failed to converge (status=1):\n",
            "STOP: TOTAL NO. of ITERATIONS REACHED LIMIT.\n",
            "\n",
            "Increase the number of iterations (max_iter) or scale the data as shown in:\n",
            "    https://scikit-learn.org/stable/modules/preprocessing.html\n",
            "  self.n_iter_ = _check_optimize_result(\"lbfgs\", opt_res, self.max_iter)\n",
            "/usr/local/lib/python3.8/dist-packages/sklearn/neural_network/_multilayer_perceptron.py:1096: DataConversionWarning: A column-vector y was passed when a 1d array was expected. Please change the shape of y to (n_samples, ), for example using ravel().\n",
            "  y = column_or_1d(y, warn=True)\n",
            "/usr/local/lib/python3.8/dist-packages/sklearn/neural_network/_multilayer_perceptron.py:684: ConvergenceWarning: Stochastic Optimizer: Maximum iterations (200) reached and the optimization hasn't converged yet.\n",
            "  warnings.warn(\n"
          ]
        },
        {
          "output_type": "stream",
          "name": "stdout",
          "text": [
            "+--------------+------------+--------+-------------------------+--------+--------------------+----------------------+---------------------+\n",
            "| random_state | activation | solver | hidden_layer_sizestuple | alpha  |  confusion_matrix  | f1_score_micro_train | f1_score_micro_test |\n",
            "+--------------+------------+--------+-------------------------+--------+--------------------+----------------------+---------------------+\n",
            "|              |            |        |                         |        | [[2051  298  161]  |         0.57         |         0.50        |\n",
            "|              |            |        |                         |        |  [1162  186  172]  |                      |                     |\n",
            "|              |            |        |                         |        |  [ 550  145  274]] |                      |                     |\n",
            "|      10      |    tanh    | lbfgs  |          (5, 2)         |  0.01  | [[2371   14  125]  |         0.52         |         0.51        |\n",
            "|              |            |        |                         |        |  [1360   19  141]  |                      |                     |\n",
            "|              |            |        |                         |        |  [ 787   12  170]] |                      |                     |\n",
            "|      90      |    relu    | lbfgs  |         (100, 2)        |  0.05  | [[2153  170  187]  |         0.55         |         0.51        |\n",
            "|              |            |        |                         |        |  [1178  154  188]  |                      |                     |\n",
            "|              |            |        |                         |        |  [ 606  112  251]] |                      |                     |\n",
            "|      20      |  logistic  |  sgd   |      (150, 100, 50)     |  1e-5  | [[2510    0    0]  |         0.50         |         0.50        |\n",
            "|              |            |        |                         |        |  [1520    0    0]  |                      |                     |\n",
            "|              |            |        |                         |        |  [ 969    0    0]] |                      |                     |\n",
            "|      80      |    tanh    |  sgd   |         (2, 10)         | 0.0001 | [[2443   25   42]  |         0.50         |         0.50        |\n",
            "|              |            |        |                         |        |  [1453   19   48]  |                      |                     |\n",
            "|              |            |        |                         |        |  [ 888   21   60]] |                      |                     |\n",
            "|      30      |    relu    |  adam  |      (100, 50, 30)      |  0.05  | [[2126  179  205]  |         0.59         |         0.52        |\n",
            "|              |            |        |                         |        |  [1161  107  252]  |                      |                     |\n",
            "|              |            |        |                         |        |  [ 501   90  378]] |                      |                     |\n",
            "|      70      |  logistic  |  adam  |         (10, 60)        |  1e-5  | [[2381   27  102]  |         0.52         |         0.51        |\n",
            "|              |            |        |                         |        |  [1380   31  109]  |                      |                     |\n",
            "|              |            |        |                         |        |  [ 825   30  114]] |                      |                     |\n",
            "|      40      |  identity  | lbfgs  |      (120, 80, 40)      | 0.0001 | [[2355   71   84]  |         0.51         |         0.50        |\n",
            "|              |            |        |                         |        |  [1362   71   87]  |                      |                     |\n",
            "|              |            |        |                         |        |  [ 813   67   89]] |                      |                     |\n",
            "|      60      |  identity  | lbfgs  |      (30, 50, 100)      | 0.001  | [[2359   70   81]  |         0.51         |         0.50        |\n",
            "|              |            |        |                         |        |  [1367   65   88]  |                      |                     |\n",
            "|              |            |        |                         |        |  [ 815   61   93]] |                      |                     |\n",
            "|      50      |    tanh    |  adam  |         (10, 60)        | 0.0001 | [[2264  169   77]  |         0.52         |         0.51        |\n",
            "|              |            |        |                         |        |  [1268  172   80]  |                      |                     |\n",
            "|              |            |        |                         |        |  [ 738  134   97]] |                      |                     |\n",
            "+--------------+------------+--------+-------------------------+--------+--------------------+----------------------+---------------------+\n"
          ]
        }
      ]
    },
    {
      "cell_type": "code",
      "source": [
        "x = ['', '0.01', '0.05', '1e-5', '0.0001', '0.05', '1e-5', '0.0001', '0.001', '0.0001']\n",
        "y = [f1_score_micro_test1, f1_score_micro_test2, f1_score_micro_test3, f1_score_micro_test4, f1_score_micro_test5, f1_score_micro_test6, f1_score_micro_test7, f1_score_micro_test8, f1_score_micro_test9, f1_score_micro_test10]\n",
        "plt.plot(x, y) \n",
        "plt.xlabel('alpha') \n",
        "plt.ylabel('f1 score micro test') \n",
        "plt.title('test plot') \n",
        "plt.show()"
      ],
      "metadata": {
        "colab": {
          "base_uri": "https://localhost:8080/",
          "height": 295
        },
        "id": "ypsbbD7RExxV",
        "outputId": "76ca3a16-ba6a-4c3f-a352-ffa0311c531e"
      },
      "execution_count": 11,
      "outputs": [
        {
          "output_type": "display_data",
          "data": {
            "text/plain": [
              "<Figure size 432x288 with 1 Axes>"
            ],
            "image/png": "[encoded data removed]"
          },
          "metadata": {
            "needs_background": "light"
          }
        }
      ]
    },
    {
      "cell_type": "code",
      "source": [
        "x = ['', '0.01', '0.05', '1e-5', '0.0001', '0.05', '1e-5', '0.0001', '0.001', '0.0001']\n",
        "y = [f1_score_micro_train1, f1_score_micro_train2, f1_score_micro_train3, f1_score_micro_train4, f1_score_micro_train5, f1_score_micro_train6, f1_score_micro_train7, f1_score_micro_train8, f1_score_micro_train9, f1_score_micro_train10]\n",
        "plt.plot(x, y) \n",
        "plt.xlabel('alpha') \n",
        "plt.ylabel('f1 score micro train') \n",
        "plt.title('train plot') \n",
        "plt.show()"
      ],
      "metadata": {
        "colab": {
          "base_uri": "https://localhost:8080/",
          "height": 295
        },
        "id": "yAmMokt7G7OZ",
        "outputId": "c5fc7d01-631c-43ec-881f-2931b8b4bcbf"
      },
      "execution_count": 12,
      "outputs": [
        {
          "output_type": "display_data",
          "data": {
            "text/plain": [
              "<Figure size 432x288 with 1 Axes>"
            ],
            "image/png": "[encoded data removed]"
          },
          "metadata": {
            "needs_background": "light"
          }
        }
      ]
    }
  ]
}