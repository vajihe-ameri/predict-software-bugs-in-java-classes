{
  "nbformat": 4,
  "nbformat_minor": 0,
  "metadata": {
    "colab": {
      "name": "Untitled2.ipynb",
      "provenance": [],
      "authorship_tag": "ABX9TyPlF3bfDKeqmBZSJ6hl5KCa",
      "include_colab_link": true
    },
    "kernelspec": {
      "name": "python3",
      "display_name": "Python 3"
    },
    "language_info": {
      "name": "python"
    }
  },
  "cells": [
    {
      "cell_type": "markdown",
      "metadata": {
        "id": "view-in-github",
        "colab_type": "text"
      },
      "source": [
        "<a href=\"https://colab.research.google.com/github/vajihe-ameri/predict-software-bugs-in-java-classes/blob/main/DT-breadleafCommerce-increaseAccuracy.ipynb\" target=\"_parent\"><img src=\"https://colab.research.google.com/assets/colab-badge.svg\" alt=\"Open In Colab\"/></a>"
      ]
    },
    {
      "cell_type": "markdown",
      "source": [
        "Install requirements"
      ],
      "metadata": {
        "id": "H8Cz6wdlnY4z"
      }
    },
    {
      "cell_type": "code",
      "source": [
        "!pip install sklearn pandas"
      ],
      "metadata": {
        "colab": {
          "base_uri": "https://localhost:8080/"
        },
        "id": "7moBUzj9nZnR",
        "outputId": "fbffc7bc-5eab-4890-86e1-80e9cde1c97e"
      },
      "execution_count": 1,
      "outputs": [
        {
          "output_type": "stream",
          "name": "stdout",
          "text": [
            "Requirement already satisfied: sklearn in /usr/local/lib/python3.7/dist-packages (0.0)\n",
            "Requirement already satisfied: pandas in /usr/local/lib/python3.7/dist-packages (1.3.5)\n",
            "Requirement already satisfied: scikit-learn in /usr/local/lib/python3.7/dist-packages (from sklearn) (1.0.2)\n",
            "Requirement already satisfied: python-dateutil>=2.7.3 in /usr/local/lib/python3.7/dist-packages (from pandas) (2.8.2)\n",
            "Requirement already satisfied: pytz>=2017.3 in /usr/local/lib/python3.7/dist-packages (from pandas) (2022.1)\n",
            "Requirement already satisfied: numpy>=1.17.3 in /usr/local/lib/python3.7/dist-packages (from pandas) (1.21.6)\n",
            "Requirement already satisfied: six>=1.5 in /usr/local/lib/python3.7/dist-packages (from python-dateutil>=2.7.3->pandas) (1.15.0)\n",
            "Requirement already satisfied: scipy>=1.1.0 in /usr/local/lib/python3.7/dist-packages (from scikit-learn->sklearn) (1.4.1)\n",
            "Requirement already satisfied: joblib>=0.11 in /usr/local/lib/python3.7/dist-packages (from scikit-learn->sklearn) (1.1.0)\n",
            "Requirement already satisfied: threadpoolctl>=2.0.0 in /usr/local/lib/python3.7/dist-packages (from scikit-learn->sklearn) (3.1.0)\n"
          ]
        }
      ]
    },
    {
      "cell_type": "markdown",
      "source": [
        "Read dataset"
      ],
      "metadata": {
        "id": "_0ENIcE_nbos"
      }
    },
    {
      "cell_type": "code",
      "source": [
        "import pandas as pd\n",
        "from google.colab import drive \n",
        "drive = drive.mount('/content/drive') "
      ],
      "metadata": {
        "colab": {
          "base_uri": "https://localhost:8080/"
        },
        "id": "GUvJN9yenfMB",
        "outputId": "12f900a8-1a99-41c2-e126-844878440c5f"
      },
      "execution_count": 2,
      "outputs": [
        {
          "output_type": "stream",
          "name": "stdout",
          "text": [
            "Mounted at /content/drive\n"
          ]
        }
      ]
    },
    {
      "cell_type": "markdown",
      "source": [
        "Call Decision Tree from sklearn"
      ],
      "metadata": {
        "id": "VoCc7KGwno_c"
      }
    },
    {
      "cell_type": "code",
      "source": [
        "from sklearn.ensemble import RandomForestClassifier\n",
        "from sklearn.metrics import mean_squared_error, accuracy_score\n",
        "from sklearn.tree import export_graphviz\n",
        "from IPython import display\n",
        "from sklearn import tree\n",
        "\n",
        "import pandas as pd\n",
        "import numpy as np\n",
        "\n",
        "'''Read data from CSV with Pandas'''\n",
        "ignored_cols = ['Hash', 'LongName']\n",
        "\n",
        "file = \"drive/MyDrive/class.csv\"\n",
        "cols = list(pd.read_csv(file, nrows =1).dropna(axis='columns', how='all'))\n",
        "cols.remove('Hash')\n",
        "cols.remove('LongName')\n",
        "\n",
        "df = pd.read_csv(file,  usecols =cols)\n",
        "normalized_df=(df-df.mean())/df.std()\n",
        "\n",
        "'''Split into train and test with numpy (0.75 train, 0.25 test)'''\n",
        "from sklearn.model_selection import train_test_split\n",
        "train, test = train_test_split(df, test_size=1)\n",
        "  \n",
        "'''First 4 colums are the data to train'''\n",
        "features = df.columns[:-1]\n",
        "\n",
        "# List of values to try for max_depth:\n",
        "max_depth_range = list(range(1, 30))\n",
        "for depth in max_depth_range:\n",
        "  \n",
        "  '''Create decision tree classifier'''    \n",
        "  model = tree.DecisionTreeClassifier(max_depth = depth,  random_state = 5)\n",
        "  '''Species names to factor'''\n",
        "  y, bugs = pd.factorize(train['Number of Bugs'])\n",
        "  \n",
        "  '''Train and test'''\n",
        "  model.fit(train[features], y)\n",
        "  preds = bugs.values[model.predict(test[features])]\n",
        "  actual_classes = test.iloc[:,-1:]\n",
        "\n",
        "  score = accuracy_score(actual_classes, preds)\n",
        "  accuracy = \"%.2f\" % round(score*100, 2)\n",
        "\n",
        "  from sklearn.metrics import f1_score\n",
        "  f1 = f1_score(actual_classes, preds, average = 'macro')\n",
        "  f1_score = \"%.2f\"%round(f1, 2)\n",
        "  print(f'\\ndepth {depth} => Accuracy: {accuracy} ; F1: {f1_score}')\n"
      ],
      "metadata": {
        "colab": {
          "base_uri": "https://localhost:8080/"
        },
        "id": "9_KcVobJnv1d",
        "outputId": "bf9385be-65f3-4fe0-8d96-c98ea4fa445e"
      },
      "execution_count": 3,
      "outputs": [
        {
          "output_type": "stream",
          "name": "stdout",
          "text": [
            "\n",
            "depth 1 => Accuracy: 100.00 ; F1: 1.00\n",
            "\n",
            "depth 2 => Accuracy: 100.00 ; F1: 1.00\n",
            "\n",
            "depth 3 => Accuracy: 100.00 ; F1: 1.00\n",
            "\n",
            "depth 4 => Accuracy: 100.00 ; F1: 1.00\n",
            "\n",
            "depth 5 => Accuracy: 100.00 ; F1: 1.00\n",
            "\n",
            "depth 6 => Accuracy: 100.00 ; F1: 1.00\n",
            "\n",
            "depth 7 => Accuracy: 100.00 ; F1: 1.00\n",
            "\n",
            "depth 8 => Accuracy: 0.00 ; F1: 0.00\n",
            "\n",
            "depth 9 => Accuracy: 100.00 ; F1: 1.00\n",
            "\n",
            "depth 10 => Accuracy: 100.00 ; F1: 1.00\n",
            "\n",
            "depth 11 => Accuracy: 0.00 ; F1: 0.00\n",
            "\n",
            "depth 12 => Accuracy: 100.00 ; F1: 1.00\n",
            "\n",
            "depth 13 => Accuracy: 0.00 ; F1: 0.00\n",
            "\n",
            "depth 14 => Accuracy: 100.00 ; F1: 1.00\n",
            "\n",
            "depth 15 => Accuracy: 0.00 ; F1: 0.00\n",
            "\n",
            "depth 16 => Accuracy: 100.00 ; F1: 1.00\n",
            "\n",
            "depth 17 => Accuracy: 0.00 ; F1: 0.00\n",
            "\n",
            "depth 18 => Accuracy: 100.00 ; F1: 1.00\n",
            "\n",
            "depth 19 => Accuracy: 0.00 ; F1: 0.00\n",
            "\n",
            "depth 20 => Accuracy: 0.00 ; F1: 0.00\n",
            "\n",
            "depth 21 => Accuracy: 100.00 ; F1: 1.00\n",
            "\n",
            "depth 22 => Accuracy: 100.00 ; F1: 1.00\n",
            "\n",
            "depth 23 => Accuracy: 100.00 ; F1: 1.00\n",
            "\n",
            "depth 24 => Accuracy: 100.00 ; F1: 1.00\n",
            "\n",
            "depth 25 => Accuracy: 100.00 ; F1: 1.00\n",
            "\n",
            "depth 26 => Accuracy: 100.00 ; F1: 1.00\n",
            "\n",
            "depth 27 => Accuracy: 100.00 ; F1: 1.00\n",
            "\n",
            "depth 28 => Accuracy: 100.00 ; F1: 1.00\n",
            "\n",
            "depth 29 => Accuracy: 100.00 ; F1: 1.00\n"
          ]
        }
      ]
    },
    {
      "cell_type": "code",
      "source": [
        ""
      ],
      "metadata": {
        "id": "mgc2yLgoFbYI"
      },
      "execution_count": null,
      "outputs": []
    }
  ]
}