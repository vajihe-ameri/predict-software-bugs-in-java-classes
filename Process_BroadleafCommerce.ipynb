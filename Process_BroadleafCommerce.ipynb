{
  "nbformat": 4,
  "nbformat_minor": 0,
  "metadata": {
    "colab": {
      "provenance": [],
      "authorship_tag": "ABX9TyNI+MxtPmpn13EKCWopng+M",
      "include_colab_link": true
    },
    "kernelspec": {
      "name": "python3",
      "display_name": "Python 3"
    },
    "language_info": {
      "name": "python"
    }
  },
  "cells": [
    {
      "cell_type": "markdown",
      "metadata": {
        "id": "view-in-github",
        "colab_type": "text"
      },
      "source": [
        "<a href=\"https://colab.research.google.com/github/vajihe-ameri/predict-software-bugs-in-java-classes/blob/main/Process_BroadleafCommerce.ipynb\" target=\"_parent\"><img src=\"https://colab.research.google.com/assets/colab-badge.svg\" alt=\"Open In Colab\"/></a>"
      ]
    },
    {
      "cell_type": "code",
      "execution_count": 14,
      "metadata": {
        "colab": {
          "base_uri": "https://localhost:8080/",
          "height": 616
        },
        "id": "2ObkBPbvx5Z9",
        "outputId": "4caccdfb-1470-42dc-809b-f61c0274b2cb"
      },
      "outputs": [
        {
          "output_type": "stream",
          "name": "stdout",
          "text": [
            "Requirement already satisfied: sklearn in /usr/local/lib/python3.10/dist-packages (0.0.post7)\n",
            "Requirement already satisfied: pandas in /usr/local/lib/python3.10/dist-packages (1.5.3)\n",
            "Requirement already satisfied: python-dateutil>=2.8.1 in /usr/local/lib/python3.10/dist-packages (from pandas) (2.8.2)\n",
            "Requirement already satisfied: pytz>=2020.1 in /usr/local/lib/python3.10/dist-packages (from pandas) (2022.7.1)\n",
            "Requirement already satisfied: numpy>=1.21.0 in /usr/local/lib/python3.10/dist-packages (from pandas) (1.22.4)\n",
            "Requirement already satisfied: six>=1.5 in /usr/local/lib/python3.10/dist-packages (from python-dateutil>=2.8.1->pandas) (1.16.0)\n",
            "Drive already mounted at /content/drive; to attempt to forcibly remount, call drive.mount(\"/content/drive\", force_remount=True).\n",
            "0    986\n",
            "1    986\n",
            "2    986\n",
            "Name: Number of Bugs, dtype: int64\n"
          ]
        },
        {
          "output_type": "display_data",
          "data": {
            "text/plain": [
              "<Figure size 640x480 with 1 Axes>"
            ],
            "image/png": "[encoded data removed]"
          },
          "metadata": {}
        }
      ],
      "source": [
        "!pip install sklearn pandas\n",
        "\n",
        "import pandas as pd\n",
        "from google.colab import drive\n",
        "drive = drive.mount('/content/drive')\n",
        "\n",
        "project = 'BroadleafCommerce'\n",
        "\n",
        "df = pd.read_csv(f\"drive/MyDrive/subtract/{project}/class.csv\")\n",
        "\n",
        "df.drop('Hash', axis=1, inplace=True)\n",
        "df.drop('LongName', axis=1, inplace=True)\n",
        "\n",
        "old_df = df.columns\n",
        "for col in old_df:\n",
        "  if df[col].max() == df[col].min():\n",
        "    df.drop(col, axis=1, inplace=True)\n",
        "\n",
        "duplicate = df[df.duplicated(keep=False)]\n",
        "df.drop_duplicates(keep=False,inplace=True)\n",
        "\n",
        "df2 = df[['Number of Bugs']].copy()\n",
        "df2 = df2[df2.index.isin(df.index)]\n",
        "\n",
        "df.reset_index(drop=True, inplace=True)\n",
        "df2.reset_index(drop=True, inplace=True)\n",
        "data = pd.concat([df, df2],axis=1)\n",
        "\n",
        "from sklearn.model_selection import train_test_split\n",
        "train_set, test_set = train_test_split(df, test_size=0.2, random_state=23)\n",
        "\n",
        "def normalizeValueOfTarget(value):\n",
        "  if value == 0 :\n",
        "    return 0\n",
        "  if value == 1 :\n",
        "    return 1\n",
        "  else:\n",
        "     return 2\n",
        "\n",
        "train_set['Number of Bugs'] = train_set['Number of Bugs'].apply(normalizeValueOfTarget)\n",
        "test_set['Number of Bugs'] = test_set['Number of Bugs'].apply(normalizeValueOfTarget)\n",
        "\n",
        "test_target = test_set.pop(\"Number of Bugs\")\n",
        "test_features = test_set\n",
        "\n",
        "train_target = train_set.pop(\"Number of Bugs\")\n",
        "train_features = train_set\n",
        "\n",
        "from imblearn.over_sampling import RandomOverSampler\n",
        "\n",
        "ros = RandomOverSampler(random_state=90)\n",
        "# fit predictor and target variable\n",
        "new_train_features, new_train_target = ros.fit_resample(train_features, train_target)\n",
        "print(new_train_target.value_counts())\n",
        "new_train_target.value_counts().plot(kind=\"bar\")\n",
        "\n",
        "columnsToNormalize = list(new_train_features.columns.values)\n",
        "for column in columnsToNormalize:\n",
        "  minValueOfCol = new_train_features[column].min()\n",
        "  maxValueOfCol = new_train_features[column].max()\n",
        "\n",
        "  new_train_features[column] = (new_train_features[column] - minValueOfCol) / (maxValueOfCol-minValueOfCol)\n",
        "  test_set[column] = (test_set[column] - minValueOfCol) / (maxValueOfCol-minValueOfCol)"
      ]
    },
    {
      "cell_type": "code",
      "source": [
        "new_train_features.to_csv('/content/drive/MyDrive/new_df/train_set_BroadleafCommerce.csv', index=False)\n",
        "\n",
        "test_set.to_csv(\"/content/drive/MyDrive/new_df/test_set_BroadleafCommerce.csv\", index=False)\n",
        "\n",
        "new_train_target.to_csv('/content/drive/MyDrive/new_df/train_set_NB_BroadleafCommerce.csv', header='Number of Bugs', index=False)\n",
        "\n",
        "test_target.to_csv(\"/content/drive/MyDrive/new_df/test_set_NB_BroadleafCommerce.csv\",  header='Number of Bugs', index=False)"
      ],
      "metadata": {
        "id": "IovNwzCKEO_M"
      },
      "execution_count": 15,
      "outputs": []
    }
  ]
}